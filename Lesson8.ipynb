{
  "nbformat": 4,
  "nbformat_minor": 0,
  "metadata": {
    "colab": {
      "name": "Lesson8.ipynb",
      "provenance": [],
      "collapsed_sections": [],
      "toc_visible": true,
      "authorship_tag": "ABX9TyPXi3Ar0wuCYXljCNeAJI+q",
      "include_colab_link": true
    },
    "kernelspec": {
      "name": "python3",
      "display_name": "Python 3"
    }
  },
  "cells": [
    {
      "cell_type": "markdown",
      "metadata": {
        "id": "view-in-github",
        "colab_type": "text"
      },
      "source": [
        "<a href=\"https://colab.research.google.com/github/albertomanfreda/intensive_school_ml/blob/master/Lesson8.ipynb\" target=\"_parent\"><img src=\"https://colab.research.google.com/assets/colab-badge.svg\" alt=\"Open In Colab\"/></a>"
      ]
    },
    {
      "cell_type": "markdown",
      "metadata": {
        "id": "VmKEojtNt3CQ",
        "colab_type": "text"
      },
      "source": [
        "# Variable-length function arguments"
      ]
    },
    {
      "cell_type": "markdown",
      "metadata": {
        "id": "AhKBwHsg-tdC",
        "colab_type": "text"
      },
      "source": [
        "## \\*args argument\n",
        "\n",
        "We have already seen how to pass arguments to a functions, and that the number of arguments is fixed upon function creation.\n",
        "\n",
        "What if we want to make a function that, say, calculates the sum of an arbitrary number of input values?\n",
        "\n",
        "One way to do this is to use a list (or tuple) as argument. However, this method has a drawback: the user must build the list just for the purpose of calling our function."
      ]
    },
    {
      "cell_type": "code",
      "metadata": {
        "id": "6B5W7rgnu1q_",
        "colab_type": "code",
        "colab": {}
      },
      "source": [
        "def aribtrary_sum(values):\n",
        "    \"\"\" Compute the sum of a list of values.\"\"\"\n",
        "    sum = 0\n",
        "    for value in values:\n",
        "        sum += value\n",
        "    return sum\n",
        "\n",
        "# We need to put the numbers in a list in order to call the function\n",
        "print(aribtrary_sum([1., 2., 3., 4.]))\n"
      ],
      "execution_count": null,
      "outputs": []
    },
    {
      "cell_type": "markdown",
      "metadata": {
        "id": "-3mWC9tZvTf7",
        "colab_type": "text"
      },
      "source": [
        "However, Python offers a special syntax for defining a function with an arbitrary number of arguments: starred arguments. Let's see how this works:"
      ]
    },
    {
      "cell_type": "code",
      "metadata": {
        "id": "KEVXRQ_lvSEz",
        "colab_type": "code",
        "colab": {}
      },
      "source": [
        "# Here *values means an arbitrary number of non-keyword arguments\n",
        "def aribtrary_sum(*values):\n",
        "    \"\"\" Compute the sum of an arbitrary number of values.\"\"\"\n",
        "    # I added this line to see what's happening behind the scenes\n",
        "    # Note: you don't need to use the * inside the function,\n",
        "    # just in the definition.\n",
        "    print(type(values))\n",
        "    sum = 0\n",
        "    for value in values:\n",
        "        sum += value\n",
        "    return sum\n",
        "\n",
        "# We need to put the numbers in a list in order to call the function\n",
        "print(aribtrary_sum(1., 2., 3., 4.))"
      ],
      "execution_count": null,
      "outputs": []
    },
    {
      "cell_type": "markdown",
      "metadata": {
        "id": "iIZpnPx-wkLe",
        "colab_type": "text"
      },
      "source": [
        "And we can see that *values* became a tuple containing all the arguments passed. The name of the variable (*values* in this case) does not really matter, though there is a convention to call it **\\*args**. In this case I preferred a more expressive name. What matters here is the (\\*) which is called **unpacking operator**.\n",
        "\n",
        "You can mix positional arguments with starred arguments, but the latter must go **after** all the named positional arguments."
      ]
    },
    {
      "cell_type": "code",
      "metadata": {
        "id": "MUcJveYfxh6Q",
        "colab_type": "code",
        "colab": {}
      },
      "source": [
        "def aribtrary_sum_2(a, b, *others):\n",
        "    \"\"\" Compute the sum of an arbitrary number of values (at least\n",
        "    two values are required)\"\"\"\n",
        "    sum = a + b\n",
        "    for value in others:\n",
        "        sum += value\n",
        "    return sum\n",
        "\n",
        "print(aribtrary_sum_2(1., 2., 3., 4.))"
      ],
      "execution_count": null,
      "outputs": []
    },
    {
      "cell_type": "markdown",
      "metadata": {
        "id": "bLNsfOPbyVf5",
        "colab_type": "text"
      },
      "source": [
        "## \\**kwargs argument\n",
        "\n",
        "Something similar can be done with keyword arguments, using the **\\*\\*kwargs** syntax. This time, a dictionary of arguments is created inside the function.The name of the argument becomes the key of that entry in the dictionary.\n",
        "\n",
        "Again, the name *kwargs* is justa  convention, you can use whatever you like. Only the double star is required.\n",
        "\n",
        "\\*\\*kwargs, needs to be placed after all the positional arguments and the \\*args."
      ]
    },
    {
      "cell_type": "code",
      "metadata": {
        "id": "l-MAZ63z368M",
        "colab_type": "code",
        "colab": {}
      },
      "source": [
        "def func_with_arbitrary_keyword_args(**kwargs):\n",
        "    print(type(kwargs))\n",
        "    for key, value in kwargs.items():\n",
        "         print('{} -> {}'.format(key, value))\n",
        "\n",
        "func_with_arbitrary_keyword_args(a=1, b='a_string', c=[1, 2, 3])"
      ],
      "execution_count": null,
      "outputs": []
    },
    {
      "cell_type": "code",
      "metadata": {
        "id": "2VZEyz4Y5oIX",
        "colab_type": "code",
        "colab": {}
      },
      "source": [
        "def func_with_all_args_type(positional_arg, *args, default_val_arg=0, **kwargs):\n",
        "    print(positional_arg)\n",
        "    print(args)\n",
        "    print(default_val_arg)\n",
        "    print(kwargs)\n",
        "\n",
        "func_with_all_args_type('positional', 1, 2, 3, default_val_arg=2, name='Bob')"
      ],
      "execution_count": null,
      "outputs": []
    },
    {
      "cell_type": "markdown",
      "metadata": {
        "id": "1H01Gf7C_K7J",
        "colab_type": "text"
      },
      "source": [
        "Final note: a function with signature:\n",
        "\n",
        "\n",
        "\n",
        "```\n",
        "f(*args, **kwargs)\n",
        "```\n",
        "\n",
        "will accept any possible combination of arguments."
      ]
    }
  ]
}