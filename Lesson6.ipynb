{
  "nbformat": 4,
  "nbformat_minor": 0,
  "metadata": {
    "colab": {
      "name": "Lesson6.ipynb",
      "provenance": [],
      "collapsed_sections": [],
      "toc_visible": true,
      "authorship_tag": "ABX9TyMewcqeBHKBteumXYzpOjL1",
      "include_colab_link": true
    },
    "kernelspec": {
      "name": "python3",
      "display_name": "Python 3"
    }
  },
  "cells": [
    {
      "cell_type": "markdown",
      "metadata": {
        "id": "view-in-github",
        "colab_type": "text"
      },
      "source": [
        "<a href=\"https://colab.research.google.com/github/albertomanfreda/intensive_school_ml/blob/master/Lesson6.ipynb\" target=\"_parent\"><img src=\"https://colab.research.google.com/assets/colab-badge.svg\" alt=\"Open In Colab\"/></a>"
      ]
    },
    {
      "cell_type": "markdown",
      "metadata": {
        "id": "4IYBMPMsBOQQ",
        "colab_type": "text"
      },
      "source": [
        "# Python Modules and the Standard Library\n",
        "\n",
        "When creating a large project, it is quite rare to have all the code stored in a single file, as shorter files are much easier to use and mantain. In order to avoid repeating line of codes around, it is highly desirable to reuse a function defined in just one place through many other different scripts.\n",
        "\n",
        "Python offers such a functionality through modules. A **module** is just a usual python code file, containing statements and function (or class) definitions. You can import a module into another python file using the **import** statement, making available the functions, classes and variables defined there.\n",
        "\n",
        "Files (or packages) which are not meant to be executed directly, but rather to provide functionalities for other programs, are called **libraries**.\n",
        "\n",
        "Even if you do write your code all in a single file, chances are that you will at least import modules from the **Python standard library** or from some other package, like *NumPy*.\n",
        "\n",
        "Python is famous for coming *with batteries included*: in the standard library you will find useful functionalities for most of the tasks you need to accomplish."
      ]
    },
    {
      "cell_type": "markdown",
      "metadata": {
        "id": "n66gv8bdCqyA",
        "colab_type": "text"
      },
      "source": [
        "## Different import styles"
      ]
    },
    {
      "cell_type": "code",
      "metadata": {
        "id": "471nEQOdH7rh",
        "colab_type": "code",
        "colab": {}
      },
      "source": [
        "# 'math' is a library of mathematical functions\n",
        "import math\n",
        "# To access functions inside the math module we need the dot operator\n",
        "print(math.sin(0.5))\n",
        "\n",
        "# We can also import only specific functions\n",
        "from math import cos\n",
        "# In this case the function is accessible directly (no dot operator required)\n",
        "print(cos(0.5))\n",
        "\n",
        "# We can also do this, to import all the functions, though you really shouldn't\n",
        "from math import *\n",
        "# This is considered a bad practice, as we don't know which names are imported\n",
        "tan(0.5)"
      ],
      "execution_count": null,
      "outputs": []
    },
    {
      "cell_type": "markdown",
      "metadata": {
        "id": "0uIvyTzXNtlJ",
        "colab_type": "text"
      },
      "source": [
        "## The Python Standard Library"
      ]
    },
    {
      "cell_type": "markdown",
      "metadata": {
        "id": "cDd4DRF3yWsf",
        "colab_type": "text"
      },
      "source": [
        "### Built-in functions\n",
        "Those function are always available and require no import statement (the Python interpreter automatically loads them upon starting).\n",
        "\n",
        "We have already seen a few of them: *print()*, *zip()*, *format()*, *len()*, *range()*, *type()*, ...\n",
        "\n",
        "Let's take a look at a couple more."
      ]
    },
    {
      "cell_type": "code",
      "metadata": {
        "id": "nH9oQy0-ynpT",
        "colab_type": "code",
        "colab": {}
      },
      "source": [
        "# sum() can sum all the elements in an iterable\n",
        "my_tuple = (1, 2, 3)\n",
        "print(sum(my_tuple))\n",
        "\n",
        "# max() [min()] returns the greatest [lowest] value \n",
        "print(min(my_tuple), max(my_tuple))\n",
        "\n",
        "# abs() compute the absolute value\n",
        "print(abs(-3))\n"
      ],
      "execution_count": null,
      "outputs": []
    },
    {
      "cell_type": "markdown",
      "metadata": {
        "id": "LiVcE-edC0YB",
        "colab_type": "text"
      },
      "source": [
        "### math\n",
        "\n",
        "math contains a lot of useful mathematical functions. Note that, when working woth arrays, you will usually use functions from NumPy instead of from math"
      ]
    },
    {
      "cell_type": "code",
      "metadata": {
        "id": "MPcvBuCmC3YU",
        "colab_type": "code",
        "colab": {}
      },
      "source": [
        "import math\n",
        "# Print the list of functions defined in math\n",
        "dir(math)"
      ],
      "execution_count": null,
      "outputs": []
    },
    {
      "cell_type": "markdown",
      "metadata": {
        "id": "iiHkX8cJC_bq",
        "colab_type": "text"
      },
      "source": [
        "### os"
      ]
    },
    {
      "cell_type": "code",
      "metadata": {
        "id": "AZaLmh30JQlB",
        "colab_type": "code",
        "colab": {}
      },
      "source": [
        "# os is a cross-platform library for interacting with the OS\n",
        "import os\n",
        "# Get the current working directory\n",
        "print(os.getcwd())\n",
        "# Read or modify an enviorment variable\n",
        "print(os.environ['PYTHONPATH'])\n",
        "# Get info about the current system\n",
        "print(os.uname())"
      ],
      "execution_count": null,
      "outputs": []
    },
    {
      "cell_type": "markdown",
      "metadata": {
        "id": "74Ab6mCWEKVi",
        "colab_type": "text"
      },
      "source": [
        "### os.path and glob"
      ]
    },
    {
      "cell_type": "code",
      "metadata": {
        "id": "fBSzgUwXEMTQ",
        "colab_type": "code",
        "colab": {}
      },
      "source": [
        "# os.path is a library for manipulating paths\n",
        "import os.path\n",
        "\n",
        "# Split a path at the last '/'\n",
        "print(os.path.split(os.getcwd()))\n",
        "\n",
        "# Join arguments with the directory separator appropriate for the os\n",
        "print(os.path.join('user', 'data', 'results'))\n",
        "\n",
        "# Check if a file or a directory exists\n",
        "print(os.path.exists(os.path.join(os.getcwd(), 'sample_data')))\n",
        "\n",
        "# glob is a library supporting Unix-style path expansion\n",
        "import glob\n",
        "\n",
        "# Let's create a sample file\n",
        "with open('sample_file.txt', 'w') as f:\n",
        "    pass\n",
        "\n",
        "# List all the txt files in the currnt directory\n",
        "glob.glob(os.path.join(os.getcwd(), '*.txt'))"
      ],
      "execution_count": null,
      "outputs": []
    },
    {
      "cell_type": "markdown",
      "metadata": {
        "id": "WtfnM5H7HDcP",
        "colab_type": "text"
      },
      "source": [
        "### datetime, time"
      ]
    },
    {
      "cell_type": "code",
      "metadata": {
        "id": "3H6gCfZ1HFZ8",
        "colab_type": "code",
        "colab": {}
      },
      "source": [
        "# Libraries for time and dates handling\n",
        "# WARNING: this is way more complex than you may think\n",
        "import time\n",
        "from datetime import datetime\n",
        "\n",
        "# Print the current Unix Time - seconds since January 1, 1970, 00:00:00 (UTC)\n",
        "print(time.time())\n",
        "\n",
        "# Create a datetime object\n",
        "date = datetime(2020, 9, 7, hour=12, minute=30, second=20)\n",
        "print(date)\n",
        "# Create another one, from a formatted string\n",
        "date2 = datetime.strptime('2020-11-03 08:11:55', '%Y-%m-%d %H:%M:%S')\n",
        "print(date2)\n",
        "# Get the difference between the two\n",
        "deltat = date2 - date\n",
        "print(deltat)"
      ],
      "execution_count": null,
      "outputs": []
    },
    {
      "cell_type": "markdown",
      "metadata": {
        "id": "TPlJ0ZohIqYI",
        "colab_type": "text"
      },
      "source": [
        "### logging\n",
        "\n",
        "Logging is a invaluable useful library. It can be usde to print nicely formatted information about the execution both to terminal and to file. Its major advantage over the basic *print()* function is that you can set a **level** of importance of everything you print (CRITICAL > ERROR > WARNING > INFO > DEBUG > NOTSET) and only show messages above a certain level.\n",
        "\n",
        "For example you can add to your code a lot of debug information and avoid printing it when you are done debugging just by changig the logging level, without having to remove all those lines."
      ]
    },
    {
      "cell_type": "code",
      "metadata": {
        "id": "wXGKMdg3KGR3",
        "colab_type": "code",
        "colab": {}
      },
      "source": [
        "import logging\n",
        "\n",
        "# Only messages of level WARNING or greater are shown by default\n",
        "logging.debug('This is not so relevant')\n",
        "logging.info('This is ordinary stuff')\n",
        "logging.warning('You should probably take a look at this')\n",
        "logging.error('Oops... this sounds like it\\'s getting serious!')\n",
        "logging.critical('RUN!')\n",
        "# The word 'root' which you see in the messages means that the 'root' logger\n",
        "# is printing them (which is the default one)"
      ],
      "execution_count": null,
      "outputs": []
    },
    {
      "cell_type": "code",
      "metadata": {
        "id": "O_RGCJ51NCci",
        "colab_type": "code",
        "colab": {}
      },
      "source": [
        "# Let's change this\n",
        "\n",
        "import logging\n",
        "\n",
        "# Get a logger object\n",
        "logger = logging.getLogger('mylog')\n",
        "# Change the level\n",
        "logger.setLevel(logging.DEBUG)\n",
        "\n",
        "logger.debug('This is not so relevant')\n",
        "logger.info('This is ordinary stuff')\n",
        "logger.warning('You should probably take a look at this')\n",
        "logger.error('Oops... this sounds like it\\'s getting serious!')\n",
        "logger.critical('RUN!')"
      ],
      "execution_count": null,
      "outputs": []
    },
    {
      "cell_type": "markdown",
      "metadata": {
        "id": "f9xeMOHGO8ZV",
        "colab_type": "text"
      },
      "source": [
        "### Other relevant modules:\n",
        "\n",
        "  * **argparse** for command line option parsing\n",
        "  * **unittest** for testing your code\n",
        "  * **random** for pseudo-random number generation (though we will use NumPy for that)\n",
        "  * **collections** for even more fancy data containers\n",
        "  * **itertools** for advanced iteration\n",
        "  * **threading** and **multiprocessing** for multithread programming\n",
        "\n",
        "and many many others: https://docs.python.org/3/library/\n"
      ]
    },
    {
      "cell_type": "markdown",
      "metadata": {
        "id": "LVHko8K5WsE_",
        "colab_type": "text"
      },
      "source": [
        "## Create your own module\n",
        "\n",
        "Creating a module is as simple as creating a python file. One thing that should be noted, hower, is that all the code in a module that is not inside a function (or a class) is executed when the module is imported, so be careful about what you put there.\n",
        "\n",
        "In order for the import to work, the module needs to be in a place where the Python interpreter is able to find it. This means either:\n",
        "\n",
        "* The same directory as the script calling it\n",
        "* One of the directories stored in the *PYTHONPATH*, an environement variable containing a list of directory names\n",
        "* The system default\n",
        "\n",
        "You can see the full list of directories where modules are searched in the variable *sys.path*"
      ]
    },
    {
      "cell_type": "code",
      "metadata": {
        "id": "xDLLVjtidRyd",
        "colab_type": "code",
        "colab": {}
      },
      "source": [
        "import os\n",
        "import sys\n",
        "print(os.environ['PYTHONPATH'])\n",
        "print(sys.path)"
      ],
      "execution_count": null,
      "outputs": []
    },
    {
      "cell_type": "markdown",
      "metadata": {
        "id": "HYjyY-UgH3ts",
        "colab_type": "text"
      },
      "source": [
        "\n",
        "For this lesson, I have loaded on my Drive space a *.py* file containing just a single function *merge_strings*. Since we are working on a Google colab, we need to do some initialization in order to be able to access the module, mainly mounting my drive space so that it can by accessed here. This kind of setup is not required when files are on your system.\n",
        "\n",
        "We also update the sys.path variable so that the Python interpreter actually finds my module when we import it.\n"
      ]
    },
    {
      "cell_type": "code",
      "metadata": {
        "id": "B0AgcdAz8_Xy",
        "colab_type": "code",
        "colab": {}
      },
      "source": [
        "from google.colab import drive\n",
        "drive.mount('/content/gdrive')\n",
        "sys.path.append('/content/gdrive/My Drive/Colab Notebooks/')"
      ],
      "execution_count": null,
      "outputs": []
    },
    {
      "cell_type": "code",
      "metadata": {
        "id": "PiVL5KK-E3WB",
        "colab_type": "code",
        "colab": {}
      },
      "source": [
        "\"\"\" Let's take a look at the content of the file using notebook support for bash\n",
        "commands (don't worry if you don't understand the following line, it's not\n",
        "Python code)\"\"\"\n",
        "!cat '/content/gdrive/My Drive/Colab Notebooks/stringlib.py'"
      ],
      "execution_count": null,
      "outputs": []
    },
    {
      "cell_type": "code",
      "metadata": {
        "id": "ARTID7H6Yhyq",
        "colab_type": "code",
        "colab": {}
      },
      "source": [
        "import stringlib\n",
        "stringlib.merge_strings('a', 'b')"
      ],
      "execution_count": null,
      "outputs": []
    }
  ]
}