{
  "nbformat": 4,
  "nbformat_minor": 0,
  "metadata": {
    "colab": {
      "name": "Lesson6.ipynb",
      "provenance": [],
      "collapsed_sections": [],
      "authorship_tag": "ABX9TyOUeGFAxWpu7nEySIjt6vw1",
      "include_colab_link": true
    },
    "kernelspec": {
      "name": "python3",
      "display_name": "Python 3"
    }
  },
  "cells": [
    {
      "cell_type": "markdown",
      "metadata": {
        "id": "view-in-github",
        "colab_type": "text"
      },
      "source": [
        "<a href=\"https://colab.research.google.com/github/albertomanfreda/intensive_school_ml/blob/master/Lesson6.ipynb\" target=\"_parent\"><img src=\"https://colab.research.google.com/assets/colab-badge.svg\" alt=\"Open In Colab\"/></a>"
      ]
    },
    {
      "cell_type": "markdown",
      "metadata": {
        "id": "4IYBMPMsBOQQ",
        "colab_type": "text"
      },
      "source": [
        "# Python Modules and the Standard Library\n",
        "\n",
        "When writing large project, it is quite rare to have all the code stored in a single file, as shorter files are much easier to use and mantain. Often, it is desirable to reuse a function defined somewhere in different scripts.\n",
        "\n",
        "Python offers that functionality through modules. A **module** is just a usual python code file, containing statement and function (or class) definitions. You can import a module into another python file using the **import** statement, making the functions defined there available.\n",
        "\n",
        "Files (or packages) which are not meant to be executed directly, but rather to provide functionalities for other programs are called **libraries**.\n",
        "\n",
        "Even if you do write your code all in a single file, chances are that you will at least import modules from the standard Python library or from some other package, like *numpy*. Python is famous for coming *with batteries included* so in the standard library you will find useful functionalities for most of the tasks you need to accomplish."
      ]
    },
    {
      "cell_type": "code",
      "metadata": {
        "id": "471nEQOdH7rh",
        "colab_type": "code",
        "colab": {
          "base_uri": "https://localhost:8080/",
          "height": 72
        },
        "outputId": "e8e29fb7-9da0-473b-ac1b-7172b4513d28"
      },
      "source": [
        "# Math contains a lot of useful mathematical functions\n",
        "import math\n",
        "# To access functions inside the math module we need the dot operator\n",
        "print(math.sin(0.5))\n",
        "\n",
        "# We can also import only specific functions\n",
        "from math import cos\n",
        "# In this case the function is accessible directly (no dot operator required)\n",
        "print(cos(0.5))\n",
        "\n",
        "# We can also do this, to import all the functions\n",
        "from math import *\n",
        "# This is considered a bad practice, as we don't know which names are imported\n",
        "tan(0.5)"
      ],
      "execution_count": 1,
      "outputs": [
        {
          "output_type": "stream",
          "text": [
            "0.479425538604203\n",
            "0.8775825618903728\n"
          ],
          "name": "stdout"
        },
        {
          "output_type": "execute_result",
          "data": {
            "text/plain": [
              "0.5463024898437905"
            ]
          },
          "metadata": {
            "tags": []
          },
          "execution_count": 1
        }
      ]
    },
    {
      "cell_type": "code",
      "metadata": {
        "id": "AZaLmh30JQlB",
        "colab_type": "code",
        "colab": {
          "base_uri": "https://localhost:8080/",
          "height": 35
        },
        "outputId": "8d3611f6-62e7-4bcd-a42c-b549b6b01b89"
      },
      "source": [
        "# OS is a useful library for working with \n",
        "import os\n",
        "print(os.getcwd())"
      ],
      "execution_count": 2,
      "outputs": [
        {
          "output_type": "stream",
          "text": [
            "/content\n"
          ],
          "name": "stdout"
        }
      ]
    },
    {
      "cell_type": "markdown",
      "metadata": {
        "id": "LVHko8K5WsE_",
        "colab_type": "text"
      },
      "source": [
        "## Create your own module\n",
        "\n",
        "Creating a module is as simple as creating a python file. One thing that should be noted, hower, is that all the code in a module that is not inside a function (or a class) is executed when the module is imported, so be careful about what you put there.\n",
        "\n",
        "In order for the import to work, the module needs to be in a place where the Python interpreter is able to find it. This means either:\n",
        "\n",
        "* The same directory as the script calling it\n",
        "* One of the directories stored in the *PYTHONPATH*, an environement variable containing a list of directory names\n",
        "* The system default\n",
        "\n",
        "You can see the full list of directories where modules are searched in the variable *sys.path*"
      ]
    },
    {
      "cell_type": "code",
      "metadata": {
        "id": "xDLLVjtidRyd",
        "colab_type": "code",
        "colab": {
          "base_uri": "https://localhost:8080/",
          "height": 73
        },
        "outputId": "e58933b4-b060-4d8d-a37a-59a1bfacb38a"
      },
      "source": [
        "import os\n",
        "import sys\n",
        "print(os.environ['PYTHONPATH'])\n",
        "print(sys.path)"
      ],
      "execution_count": 7,
      "outputs": [
        {
          "output_type": "stream",
          "text": [
            "/env/python\n",
            "['', '/env/python', '/usr/lib/python36.zip', '/usr/lib/python3.6', '/usr/lib/python3.6/lib-dynload', '/usr/local/lib/python3.6/dist-packages', '/usr/lib/python3/dist-packages', '/usr/local/lib/python3.6/dist-packages/IPython/extensions', '/root/.ipython', '/content/gdrive/My Drive/Colab Notebooks/']\n"
          ],
          "name": "stdout"
        }
      ]
    },
    {
      "cell_type": "markdown",
      "metadata": {
        "id": "HYjyY-UgH3ts",
        "colab_type": "text"
      },
      "source": [
        "\n",
        "For this lesson, I have loaded on my Drive space a *.py* file containing just a single function *merge_strings*. Since we are working on a Google colab, we need to do some initialization in order to be able to access the module, mainly mounting my drive space so that it can by accessed here. This kind of setup is not required when files are on your system.\n",
        "\n",
        "We also update the sys.path variable so that the Python interpreter actually finds my module when we import it.\n"
      ]
    },
    {
      "cell_type": "code",
      "metadata": {
        "id": "B0AgcdAz8_Xy",
        "colab_type": "code",
        "colab": {
          "base_uri": "https://localhost:8080/",
          "height": 55
        },
        "outputId": "4b5a6964-81a0-43aa-807c-37245402ef0d"
      },
      "source": [
        "from google.colab import drive\n",
        "drive.mount('/content/gdrive')\n",
        "sys.path.append('/content/gdrive/My Drive/Colab Notebooks/')"
      ],
      "execution_count": 8,
      "outputs": [
        {
          "output_type": "stream",
          "text": [
            "Drive already mounted at /content/gdrive; to attempt to forcibly remount, call drive.mount(\"/content/gdrive\", force_remount=True).\n"
          ],
          "name": "stdout"
        }
      ]
    },
    {
      "cell_type": "code",
      "metadata": {
        "id": "PiVL5KK-E3WB",
        "colab_type": "code",
        "colab": {
          "base_uri": "https://localhost:8080/",
          "height": 144
        },
        "outputId": "f5c90d96-c9d5-473a-997d-4464eb69e457"
      },
      "source": [
        "\"\"\" Let's take a look at the content of the file using notebook support for bash\n",
        "commands (don't worry if you don't understand the following line, it's not\n",
        "Python code)\"\"\"\n",
        "!cat '/content/gdrive/My Drive/Colab Notebooks/stringlib.py'"
      ],
      "execution_count": 10,
      "outputs": [
        {
          "output_type": "stream",
          "text": [
            "__author__ = 'Alberto Manfreda'\n",
            "\n",
            "print('Loading module stringlib.py, by {}'.format(__author__))\n",
            "\n",
            "def merge_strings(*args):\n",
            "    \"\"\" Merge an arbitrary number of strings\"\"\"\n",
            "    return ''.join(args)\n"
          ],
          "name": "stdout"
        }
      ]
    },
    {
      "cell_type": "code",
      "metadata": {
        "id": "ARTID7H6Yhyq",
        "colab_type": "code",
        "colab": {
          "base_uri": "https://localhost:8080/",
          "height": 35
        },
        "outputId": "7123ceaa-0258-453a-8d1a-b28533d9da10"
      },
      "source": [
        "import stringlib\n",
        "stringlib.merge_strings('a', 'b')"
      ],
      "execution_count": 11,
      "outputs": [
        {
          "output_type": "execute_result",
          "data": {
            "application/vnd.google.colaboratory.intrinsic+json": {
              "type": "string"
            },
            "text/plain": [
              "'ab'"
            ]
          },
          "metadata": {
            "tags": []
          },
          "execution_count": 11
        }
      ]
    }
  ]
}