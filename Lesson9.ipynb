{
  "nbformat": 4,
  "nbformat_minor": 0,
  "metadata": {
    "colab": {
      "name": "Lesson9.ipynb",
      "provenance": [],
      "collapsed_sections": [],
      "authorship_tag": "ABX9TyM0DOyI/cdXL+Jb50EGa1fc",
      "include_colab_link": true
    },
    "kernelspec": {
      "name": "python3",
      "display_name": "Python 3"
    }
  },
  "cells": [
    {
      "cell_type": "markdown",
      "metadata": {
        "id": "view-in-github",
        "colab_type": "text"
      },
      "source": [
        "<a href=\"https://colab.research.google.com/github/albertomanfreda/intensive_school_ml/blob/master/Lesson9.ipynb\" target=\"_parent\"><img src=\"https://colab.research.google.com/assets/colab-badge.svg\" alt=\"Open In Colab\"/></a>"
      ]
    },
    {
      "cell_type": "markdown",
      "metadata": {
        "id": "WS-9-2CZtPc7",
        "colab_type": "text"
      },
      "source": [
        "# Error handlings and exceptions\n",
        "\n",
        "We have already seen that Python has a nice handling of errors, with informative error messages.\n",
        "\n",
        "The fundamental tool for handling errors in Python are **exceptions**. An exception is an object that is **raised** (or **thrown**) when an error occurs, and can be **catched** later.\n",
        "\n",
        "Let's see an example:"
      ]
    },
    {
      "cell_type": "code",
      "metadata": {
        "id": "2IPMCHHAtL_Z",
        "colab_type": "code",
        "colab": {}
      },
      "source": [
        "my_list = [1, 2, 3]\n",
        "# The following line will generate an exception of the IndexError class\n",
        "print(my_list[5])\n",
        "# oops... there weren't so many items in the list!\n",
        "print('I will never get executed')"
      ],
      "execution_count": null,
      "outputs": []
    },
    {
      "cell_type": "markdown",
      "metadata": {
        "id": "MgWq5g0l0Khf",
        "colab_type": "text"
      },
      "source": [
        "To prevent our program from crashing, we can catch the exception by enclosing the statement that generates it within a **try/except** block.\n",
        "\n",
        "Any exception raised in the try block can be catched in the except block. If no exception is raised, the except block is never executed. \n",
        "\n",
        "If an exception occurs, the execution stops (so the lines after the exception  are never executed) and the interpreter checks if we are inside a try/except block that chatches that exception. If not, two things may happen:\n",
        "\n",
        "1. If we are not inside a function the program crashes.\n",
        "2. If we are inside the function, the interpreter checks if the fucntion was called from inside a try/except block.\n",
        "\n",
        "Point 2 is repeated until the interpreter has gone backward outside of all the functions. At that points the program crashes."
      ]
    },
    {
      "cell_type": "code",
      "metadata": {
        "id": "l611-GhJ0zjl",
        "colab_type": "code",
        "colab": {}
      },
      "source": [
        "my_list = [1, 2, 3]\n",
        "# The dangerous code goes into the try block\n",
        "try:\n",
        "    # the following line will generate an IndexError\n",
        "    print(my_list[5])\n",
        "    print('If an exception is raised, this line is never executed')\n",
        "except IndexError:\n",
        "    print('Oops, looks like the index you have selected does not exist!')\n",
        "\n",
        "print('Thankfully, the program did not crash')"
      ],
      "execution_count": null,
      "outputs": []
    },
    {
      "cell_type": "markdown",
      "metadata": {
        "id": "C2hp21aRBsRK",
        "colab_type": "text"
      },
      "source": [
        "You can cascade multiple *except* block to handle different exceptions."
      ]
    },
    {
      "cell_type": "code",
      "metadata": {
        "id": "EL4sFMpMBzDG",
        "colab_type": "code",
        "colab": {}
      },
      "source": [
        "# This is just for showing: do not write a function like this in real life!\n",
        "def safe_access_function(container, id):\n",
        "    \"\"\" Safe access function for dictionaries, tuples and lists.\"\"\"\n",
        "    try:\n",
        "        return container[id]\n",
        "    except KeyError:\n",
        "        print('Attempting to read key \\'{}\\' generated a KeyError'.format(id))\n",
        "    except IndexError:\n",
        "        print('Attempting to read index {} generated a IndexError'.format(id))\n",
        "\n",
        "my_list = [1, 2, 3]\n",
        "my_dict = {'name': 'Bob'}\n",
        "\n",
        "safe_access_function(my_list, 10)\n",
        "safe_access_function(my_dict, 'surname')"
      ],
      "execution_count": null,
      "outputs": []
    },
    {
      "cell_type": "markdown",
      "metadata": {
        "id": "pe65M7I7A8Ce",
        "colab_type": "text"
      },
      "source": [
        "What if you don't know the exception type in advance? Each exception type in Python is a subclass of the base class **Exception**. Catching Exception will work for any exception."
      ]
    },
    {
      "cell_type": "code",
      "metadata": {
        "id": "jzoQGPwgKJ_q",
        "colab_type": "code",
        "colab": {}
      },
      "source": [
        "# This is just for showing: do not write a function like this in real life!\n",
        "def safe_access_function(container, id):\n",
        "    \"\"\" Safe access function for dictionaries, tuples and lists.\"\"\"\n",
        "    try:\n",
        "        return container[id]\n",
        "    except KeyError:\n",
        "        print('Attempting to read key \\'{}\\' generated a KeyError'.format(id))\n",
        "    except IndexError:\n",
        "        print('Attempting to read index {} generated a IndexError'.\\\n",
        "              format(id))\n",
        "    except Exception:\n",
        "        print('Attempting to read element {} generated a generic exception'.\\\n",
        "              format(id))\n",
        "\n",
        "safe_access_function(1, 2)"
      ],
      "execution_count": null,
      "outputs": []
    },
    {
      "cell_type": "markdown",
      "metadata": {
        "id": "UAenSXBjK0bf",
        "colab_type": "text"
      },
      "source": [
        "However, when you know in advance what exception you may get, it is generally better to catch specfic ones. You can also raise an exception yoursefl with the **raise** statement"
      ]
    },
    {
      "cell_type": "code",
      "metadata": {
        "id": "AUjO3WZjLit3",
        "colab_type": "code",
        "colab": {}
      },
      "source": [
        "def dangerous_function():\n",
        "    \"\"\" I throw an exception\"\"\"\n",
        "    raise RuntimeError('An optional error message')\n",
        "    \n",
        "try:\n",
        "    dangerous_function()\n",
        "# We can get the exception object like this\n",
        "except Exception as e:\n",
        "    # This will print the exception message\n",
        "    print(e)"
      ],
      "execution_count": null,
      "outputs": []
    },
    {
      "cell_type": "markdown",
      "metadata": {
        "id": "KW2481z2LBXe",
        "colab_type": "text"
      },
      "source": [
        "## Final note\n",
        "Understanding how to use properly use exception requires experience. Hopefully, this brief lesson is enough to get you started."
      ]
    }
  ]
}