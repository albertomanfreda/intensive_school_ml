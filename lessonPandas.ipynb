{
  "nbformat": 4,
  "nbformat_minor": 0,
  "metadata": {
    "colab": {
      "name": "lessonPandas.ipynb",
      "provenance": [],
      "collapsed_sections": [],
      "authorship_tag": "ABX9TyNikAFJ82weHyRtrbysrA42",
      "include_colab_link": true
    },
    "kernelspec": {
      "name": "python3",
      "display_name": "Python 3"
    }
  },
  "cells": [
    {
      "cell_type": "markdown",
      "metadata": {
        "id": "view-in-github",
        "colab_type": "text"
      },
      "source": [
        "<a href=\"https://colab.research.google.com/github/albertomanfreda/intensive_school_ml/blob/master/lessonPandas.ipynb\" target=\"_parent\"><img src=\"https://colab.research.google.com/assets/colab-badge.svg\" alt=\"Open In Colab\"/></a>"
      ]
    },
    {
      "cell_type": "markdown",
      "metadata": {
        "id": "xXwYi7i2Gp-q",
        "colab_type": "text"
      },
      "source": [
        "# Pandas\n",
        "\n",
        "Pandas (Python for Data Analysis) is an open source library for data analysis and manipulation, built on top of NumPy.\n",
        "\n",
        "The main feature of Pandas are two powerful data structures, **Series** and **DataFrame** which combine the functionality of NumPy arrays with those of Python dictionaries, allowing to access variable with named labels, in addition to numerical indices.\n",
        "\n",
        "A Series correspond to a mono-dimensional array, while a DataFrame essentially extends a bi-dimensional array."
      ]
    },
    {
      "cell_type": "markdown",
      "metadata": {
        "id": "UrJtPFJ0LlUX",
        "colab_type": "text"
      },
      "source": [
        "## Series\n",
        "\n",
        "A Pandas Series is similar to a NumPy unidimensional array, but, on top of it, adds an **Index** that can be used to access data.\n",
        "\n",
        "An Index is an immutable array of labels. Those labels act like keys in a dictionary, and can be either strings or numbers or other types (we will not dig into the details of which type can be used and why)."
      ]
    },
    {
      "cell_type": "code",
      "metadata": {
        "id": "r5_R_q0mGnn2",
        "colab_type": "code",
        "colab": {}
      },
      "source": [
        "import numpy as np\n",
        "# Standard alias for Pandas\n",
        "import pandas as pd\n",
        "\n",
        "# A Series can be created from a NumPy 1d array\n",
        "# The Index can be made of numbers or strings\n",
        "# If an explicit Index is not given, a progressive integer index will be created  \n",
        "capitals_pop = pd.Series(1e6 * np.array([2.873, 9.273, 8.982, 2.148]),\n",
        "                        index=['Rome', 'Tokyo', 'London', 'Paris'])\n",
        "print(capitals_pop)\n",
        "print(capitals_pop.values)\n",
        "print(capitals_pop.index)"
      ],
      "execution_count": null,
      "outputs": []
    },
    {
      "cell_type": "markdown",
      "metadata": {
        "id": "t7SVRDmkHqff",
        "colab_type": "text"
      },
      "source": [
        "You can access items in a Series by the usual syntax of NumPy arrays or by index. Accessing by index is similar to accessing by key the values in a dictionary.\n"
      ]
    },
    {
      "cell_type": "code",
      "metadata": {
        "id": "TXn2TT0EHWiY",
        "colab_type": "code",
        "colab": {}
      },
      "source": [
        "# Random access by position\n",
        "print(capitals_pop[0])\n",
        "# Random access with Index\n",
        "print(capitals_pop['Rome'])\n",
        "\n",
        "# Slice with positional integer indices\n",
        "print(capitals_pop[1:3])\n",
        "\n",
        "# Slice with named Index\n",
        "print(capitals_pop['Rome':'London'])"
      ],
      "execution_count": null,
      "outputs": []
    },
    {
      "cell_type": "markdown",
      "metadata": {
        "id": "Rx_DehkN4y2s",
        "colab_type": "text"
      },
      "source": [
        "Random access and slicing can be also done with the **loc** and **iloc** methods. **loc** will alwys use the Index, while **iloc** will always use the position. This is useful to avoid confusion when the Index is made of integer numbers."
      ]
    },
    {
      "cell_type": "code",
      "metadata": {
        "id": "yU4I2PM_4wtP",
        "colab_type": "code",
        "colab": {}
      },
      "source": [
        "# Random access with position\n",
        "print(capitals_pop.iloc[0])\n",
        "# Random access with Index\n",
        "print(capitals_pop.loc['Rome'])\n",
        "\n",
        "# Slice with positional indices\n",
        "print(capitals_pop.iloc[1:3])\n",
        "\n",
        "# Slice with named Index\n",
        "print(capitals_pop.loc['Rome':'London'])\n"
      ],
      "execution_count": null,
      "outputs": []
    },
    {
      "cell_type": "markdown",
      "metadata": {
        "id": "WrGKBFrYqD9y",
        "colab_type": "text"
      },
      "source": [
        "You can also build a Series out of a dictionary. The keys are used to create the index:"
      ]
    },
    {
      "cell_type": "code",
      "metadata": {
        "id": "SIBzv8k9qWZZ",
        "colab_type": "code",
        "colab": {}
      },
      "source": [
        "capitals_dict = {'Rome'   : 2.873e6,\n",
        "                 'Tokyo'  : 9.273e6,\n",
        "                 'London' : 8.982e6,\n",
        "                 'Paris'  : 2.148e6}\n",
        "capitals_pop = pd.Series(capitals_dict)\n",
        "\n",
        "# Like a dictionary, a Series has a keys() method returning the index\n",
        "print(capitals_pop.keys())\n",
        "\n",
        "#Differently from dictionaries, for-loop iterates on values, not on keys.\n",
        "# Dictionary loop:\n",
        "for item in capitals_dict:\n",
        "    print(item)\n",
        "# Series loop:\n",
        "for item in capitals_pop:\n",
        "    print(item)"
      ],
      "execution_count": null,
      "outputs": []
    },
    {
      "cell_type": "code",
      "metadata": {
        "id": "HhMxdX5_JNEm",
        "colab_type": "code",
        "colab": {}
      },
      "source": [
        "# However, looping with items() is just the same\n",
        "for key, value in capitals_pop.items():\n",
        "    print('{} -> {}'.format(key, value))"
      ],
      "execution_count": null,
      "outputs": []
    },
    {
      "cell_type": "markdown",
      "metadata": {
        "id": "_eIntIJ4LObK",
        "colab_type": "text"
      },
      "source": [
        "## DataFrames\n",
        "\n",
        "A DataFrame is essentially a sequence of Series objects sharing the same index.\n",
        "You can think of it as a table: each row and each column has its own name."
      ]
    },
    {
      "cell_type": "code",
      "metadata": {
        "id": "sOqtNu6erWt4",
        "colab_type": "code",
        "colab": {}
      },
      "source": [
        "# We start by defining another Series wuth the same Index\n",
        "capital_states_dict = {'Rome'   : 'Italy',\n",
        "                       'Tokyo'  : 'Japan',\n",
        "                       'London' : 'United Kingdom',\n",
        "                       'Paris'  : 'France'}\n",
        "capital_states = pd.Series(capital_states_dict)\n",
        "\n",
        "\"\"\" Now put them together to build a DataFrame. To do this we first create a\n",
        "dictionary of Series, which we pss to the constructor of DataFrame. Each Series\n",
        "becomes a column of the DataFrame, with a name given by the corresponding key\n",
        "of the dictionary. \"\"\"\n",
        "capitals = pd.DataFrame({'population': capitals_pop,\n",
        "                         'state': capital_states})\n",
        "# To get a quick look at the DataFrame we can use the info() method\n",
        "print(capitals.info(), '\\n')\n",
        "# Or just simply print it\n",
        "print(capitals)"
      ],
      "execution_count": null,
      "outputs": []
    },
    {
      "cell_type": "code",
      "metadata": {
        "id": "ylAuTGsLvHpY",
        "colab_type": "code",
        "colab": {}
      },
      "source": [
        "\"\"\" You can also build a DataFrame from a NumPy 2d array. Column names and\n",
        "row names are specified with the 'columns' and 'index' arguments, respectively.\n",
        "\"\"\"\n",
        "pd.DataFrame(np.array([[21, 55],\n",
        "                       [26, 82],\n",
        "                       [19, 77]]),\n",
        "             columns=['age', 'weight'],\n",
        "             index=['Alice', 'Bob', 'Charles'])"
      ],
      "execution_count": null,
      "outputs": []
    },
    {
      "cell_type": "code",
      "metadata": {
        "id": "5HyLsvrFuv7Z",
        "colab_type": "code",
        "colab": {}
      },
      "source": [
        "\"\"\" Finally, you can also build a DataFrame from a list of dictionaries, where \n",
        "each dictionary is a row. The name of the rows can be specified with the\n",
        "index argument. Missing values are filled automatically with the NumPy\n",
        "special value NaN (Not a Number)\"\"\"\n",
        "pd.DataFrame([{'age': 21, 'weight': 55},\n",
        "              {'age': 26}, \n",
        "              {'age': 19, 'weight': 77}],\n",
        "             index=['Alice', 'Bob', 'Charles'])"
      ],
      "execution_count": null,
      "outputs": []
    },
    {
      "cell_type": "markdown",
      "metadata": {
        "id": "yyO8guKW1S92",
        "colab_type": "text"
      },
      "source": [
        "The syntax on selecting items on a DataFrame can be confusing. The easiest way to remeber itt is to think to a DataFrame as a dictionary of columns (that is, of Series). So, if *data* is a DataFrame, *data[a][b]* will return the item on the *a column* and the *b row*. **This is different from NumPy 2d arrays, where the first index selects the row.**\n",
        "\n",
        "Differently from elements in a Series, columns in a DataFrame can only be ccessed using their names, which cannot be replaced by implicit integer indices."
      ]
    },
    {
      "cell_type": "code",
      "metadata": {
        "id": "oW1wumE512hk",
        "colab_type": "code",
        "colab": {}
      },
      "source": [
        "# Select a column\n",
        "print(capitals['population'], '\\n')\n",
        "\n",
        "# Select a column and a row\n",
        "print(capitals['state']['Rome'])"
      ],
      "execution_count": null,
      "outputs": []
    },
    {
      "cell_type": "code",
      "metadata": {
        "id": "oIeNDDPZ3lb9",
        "colab_type": "code",
        "colab": {}
      },
      "source": [
        "# This does not work\n",
        "print(capitals[1])"
      ],
      "execution_count": null,
      "outputs": []
    },
    {
      "cell_type": "markdown",
      "metadata": {
        "id": "dVJnbfrFS9aQ",
        "colab_type": "text"
      },
      "source": [
        "You can also use **loc** and **iloc** on DataFrames. As in Series **loc** is used for random access or slicing with the labels (row and column names) while **iloc** allows to use numerical indices."
      ]
    },
    {
      "cell_type": "code",
      "metadata": {
        "id": "VDhrw1R1TDxO",
        "colab_type": "code",
        "colab": {}
      },
      "source": [
        "# WARNING: loc uses NumPy ordering (row index first)\n",
        "print(capitals.loc[:'Tokyo', 'population'], '\\n')\n",
        "print(capitals.loc['Rome', 'population':], '\\n')"
      ],
      "execution_count": null,
      "outputs": []
    },
    {
      "cell_type": "code",
      "metadata": {
        "id": "ULsJ3kmXwTkC",
        "colab_type": "code",
        "colab": {}
      },
      "source": [
        "# WARNING: iloc uses NumPy order (row index first)\n",
        "print(capitals.iloc[0:3, :])"
      ],
      "execution_count": null,
      "outputs": []
    },
    {
      "cell_type": "markdown",
      "metadata": {
        "id": "gwS3iexMTEDS",
        "colab_type": "text"
      },
      "source": [
        "And, since we are operating on NumPy arrays, we get the benefits of masking too."
      ]
    },
    {
      "cell_type": "code",
      "metadata": {
        "id": "yEQBTKm6TTqG",
        "colab_type": "code",
        "colab": {}
      },
      "source": [
        "print(capitals[capitals['population'] > 5e6])"
      ],
      "execution_count": null,
      "outputs": []
    },
    {
      "cell_type": "markdown",
      "metadata": {
        "id": "q7cJjo9N_Mhp",
        "colab_type": "text"
      },
      "source": [
        "That was just the surface of what you can do with Pandas. You can find a much longer tutorial here: https://colab.research.google.com/github/jakevdp/PythonDataScienceHandbook/blob/master/notebooks/03.00-Introduction-to-Pandas.ipynb"
      ]
    }
  ]
}