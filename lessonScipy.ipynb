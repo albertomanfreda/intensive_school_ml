{
  "nbformat": 4,
  "nbformat_minor": 0,
  "metadata": {
    "colab": {
      "name": "lessonScipy.ipynb",
      "provenance": [],
      "collapsed_sections": [],
      "authorship_tag": "ABX9TyPvxRxDukAs0sEoiq/u2+X5",
      "include_colab_link": true
    },
    "kernelspec": {
      "name": "python3",
      "display_name": "Python 3"
    }
  },
  "cells": [
    {
      "cell_type": "markdown",
      "metadata": {
        "id": "view-in-github",
        "colab_type": "text"
      },
      "source": [
        "<a href=\"https://colab.research.google.com/github/albertomanfreda/intensive_school_ml/blob/master/lessonScipy.ipynb\" target=\"_parent\"><img src=\"https://colab.research.google.com/assets/colab-badge.svg\" alt=\"Open In Colab\"/></a>"
      ]
    },
    {
      "cell_type": "markdown",
      "metadata": {
        "id": "VJjl0OPDsqDP",
        "colab_type": "text"
      },
      "source": [
        "# SciPy\n",
        "\n",
        "\"SciPy is a collection of mathematical algorithms and convenience functions built on the NumPy extension of Python\" (from SciPy documentation).\n",
        "\n",
        "SciPy is organized in several subpackages. Here we will take a quick look at a few of them. You can find the full list at https://docs.scipy.org/doc/scipy/reference/tutorial/general.html\n",
        "\n",
        "The modules we will look at are\n",
        "\n",
        " * stats\n",
        " * optimize\n",
        " * interpolation\n",
        " *integrate  "
      ]
    },
    {
      "cell_type": "markdown",
      "metadata": {
        "id": "FSMq4PQU59xc",
        "colab_type": "text"
      },
      "source": [
        "## The stats subpackage\n",
        "\n",
        "**scipy.stats** contains a collections of statistical distributions, both discrete and continue, both univariate and multivariate, as well as a respectable number of statistical functions.\n",
        "\n",
        "These are not just plain functions, but rather objects with several functionalities: *probability density function* (pdf), *cumulative density function* (cdf), *percent probability function* (ppf), *moments*, *median* etc..."
      ]
    },
    {
      "cell_type": "code",
      "metadata": {
        "id": "flkDZdVB90dg",
        "colab_type": "code",
        "colab": {}
      },
      "source": [
        "%matplotlib inline"
      ],
      "execution_count": null,
      "outputs": []
    },
    {
      "cell_type": "code",
      "metadata": {
        "id": "7qu5AvgdYDM5",
        "colab_type": "code",
        "colab": {}
      },
      "source": [
        "import numpy as np\n",
        "import scipy.stats\n",
        "from matplotlib import pyplot as plt\n",
        "\n",
        "x_grid = np.linspace(-6., 8., 100)\n",
        "\n",
        "# Instantiate a gaussian function with mean 1. and std. dev. 2\n",
        "gauss_dist = scipy.stats.norm(loc=1.0, scale=2.)\n",
        "\n",
        "# Calculate some statistical variables with the stats() method\n",
        "mean, var, skewness = gauss_dist.stats(moments='mvs')\n",
        "print('mean = {:.3f}, variance = {:.3f}, skewness = {:.3f}'.\\\n",
        "      format(mean, var, skewness))\n",
        "\n",
        "# Draw the pdf, using the pdf() method\n",
        "plt.figure('pdf')\n",
        "plt.plot(x_grid, gauss_dist.pdf(x_grid), label='gaussian pdf')\n",
        "plt.legend()\n",
        "\n",
        "# Draw the cdf\n",
        "plt.figure('cdf')\n",
        "plt.plot(x_grid, gauss_dist.cdf(x_grid), label='gaussian cdf')\n",
        "plt.legend()\n",
        "\n",
        "plt.show()\n"
      ],
      "execution_count": null,
      "outputs": []
    },
    {
      "cell_type": "markdown",
      "metadata": {
        "id": "riP5Gomr9pmM",
        "colab_type": "text"
      },
      "source": [
        "\n",
        "Bottom line: before wrting a function yourself, take the time to check if it is already in SciPy - as it probably will."
      ]
    },
    {
      "cell_type": "markdown",
      "metadata": {
        "id": "xoZAW4JFAsZg",
        "colab_type": "text"
      },
      "source": [
        "## Fitting tools\n",
        "\n",
        "SciPy provides three different ways of fitting: the **optimize** subpackage contains the *curve_fit* function for least square algorithm, while **odr** contains the ODR routine for orthogonal distance regression. Finally, the distribution of the **stats** module are able to *fit* themselves to data using Maximum Likelihood Estimate.\n",
        "\n",
        "Note: **optimize** also contains many kind of root-finding and minimization rountines, which are useful in a variety of situations."
      ]
    },
    {
      "cell_type": "code",
      "metadata": {
        "id": "p6Q-dHcOAuPU",
        "colab_type": "code",
        "colab": {}
      },
      "source": [
        "import numpy as np\n",
        "from matplotlib import pyplot as plt\n",
        "from scipy.optimize import curve_fit\n",
        "\n",
        "\n",
        "# Define the fit fnction: a simple line\n",
        "def line(x, m, q):\n",
        "    return m*x + q\n",
        "\n",
        "# This time we will load data from a file:\n",
        "x, y, dx, dy = np.loadtxt('sample_fit_data.txt')\n",
        "\n",
        "# Draw the data\n",
        "plt.errorbar(x, y, yerr=dy, xerr=dx, fmt='ko', label='data')\n",
        "\n",
        "# Setup the axes\n",
        "plt.xlabel('x')\n",
        "plt.ylabel('y')\n",
        "\n",
        "\"\"\" curve_fit assumes that the first positional parameter of the function \n",
        "is the independent variable, while the others are the free parameters.\n",
        "It returns two items: the first is a tuple with the optimal prameters\n",
        "found, while the second is the covriance matrix, which is a n x n matrix,\n",
        "where n is the number of free parameters.\n",
        "\"\"\" \n",
        "popt, pcov = curve_fit(line, x, y, sigma=dy)\n",
        "# The errors can be estimated by the square root of the paramater variances,\n",
        "# which are on te diagonal of the covariance matrix\n",
        "p_errs = np.sqrt(np.diagonal(pcov))\n",
        "for p, p_err in zip(popt, p_errs):\n",
        "    print('{:.4f} +- {:.4f}'.format(p, p_err))\n",
        "\n",
        "# Draw the model (we need a grid of dat point)\n",
        "x_grid = np.linspace(min(x), max(x), 10)\n",
        "plt.plot(x_grid, line(x_grid, *popt), 'r-', label='curve_fit')\n",
        "\n",
        "plt.legend()\n",
        "plt.show()\n"
      ],
      "execution_count": null,
      "outputs": []
    },
    {
      "cell_type": "markdown",
      "metadata": {
        "id": "mqMnUmqUG8xP",
        "colab_type": "text"
      },
      "source": [
        "## Interpolation\n",
        "\n",
        "Interpolation is a surprisingly common task. In the **scipy.interpolate** subpackage, SciPy provides a powerful tool for interpolation - **splines** - both unidimensional or with higher dimensionality.\n",
        "\n",
        "A spline is an object that is built starting from a number of input points, and interpolates through them by defining a picewise polinomial function of a given degree. Commonly used degrees are 1 (linear interpolation) or 3 (cubic interpolation)."
      ]
    },
    {
      "cell_type": "code",
      "metadata": {
        "id": "e6sFcnYrLS3G",
        "colab_type": "code",
        "colab": {}
      },
      "source": [
        "import numpy as np\n",
        "import scipy.interpolate\n",
        "from matplotlib import pyplot as plt\n",
        "\n",
        "# Generate some data\n",
        "x = np.arange(10)\n",
        "y = np.sin(x)\n",
        "# Draw the data\n",
        "plt.plot(x, y, 'ko', label='data')\n",
        "\n",
        "# Setup the axes\n",
        "plt.xlabel('x')\n",
        "plt.ylabel('sin(x)')\n",
        "\n",
        "# Create a linear splie to interpolate the data\n",
        "linear_spline = scipy.interpolate.InterpolatedUnivariateSpline(x, y, k=1)\n",
        "# Create a cubic spline to interpolate the data\n",
        "cubic_spline = scipy.interpolate.InterpolatedUnivariateSpline(x, y, k=3)\n",
        "\n",
        "# A spline can be called like a normal function\n",
        "print('Cubic spline value at x=4.5 is {:.5f}'.format(cubic_spline(4.5)))\n",
        "\n",
        "# Create a grid of points where the splines will be evaluated\n",
        "x_grid = np.linspace(min(x), max(x), 30)\n",
        "\n",
        "# Draw the 2 splines\n",
        "plt.plot(x_grid, linear_spline(x_grid), 'r-', label='linear')\n",
        "plt.plot(x_grid, cubic_spline(x_grid), 'b--', label='cubic')\n",
        "\n",
        "# Draw the grid an the legend, then plot everything\n",
        "plt.legend()\n",
        "plt.grid(True)\n",
        "plt.show()\n",
        "\n"
      ],
      "execution_count": null,
      "outputs": []
    },
    {
      "cell_type": "markdown",
      "metadata": {
        "id": "oqqrDR9eONHc",
        "colab_type": "text"
      },
      "source": [
        "## The integrate subpackage\n",
        "\n",
        "**scipy.integrate** contains method for numerical integration of functions and numerical solution of ordinary differential equations (ODE), such as Runge-Kutta methods. \n",
        "\n"
      ]
    },
    {
      "cell_type": "code",
      "metadata": {
        "id": "pWxpd48z-mPU",
        "colab_type": "code",
        "colab": {}
      },
      "source": [
        "import numpy as np\n",
        "from matplotlib import pyplot as plt\n",
        "from scipy import integrate\n",
        "\n",
        "# define the function we want to integrate\n",
        "# This can be a spline as well\n",
        "def integrand(x):\n",
        "    return np.exp(-0.4 * x) * np.cos(2 * x)\n",
        "\n",
        "# Draw it\n",
        "x = np.linspace(-5., 6., 200)\n",
        "plt.figure(figsize=(8, 6))\n",
        "plt.plot(x, integrand(x))\n",
        "plt.grid(True)\n",
        "\n",
        "# Define the integration extrema\n",
        "integr_extrema = (-4.5, -1.)\n",
        "\n",
        "# Draw vertical lines in their corrispondence in the plot\n",
        "plt.axvline(integr_extrema[0], color='gray', linestyle='--')\n",
        "plt.axvline(integr_extrema[1], color='gray', linestyle='--')\n",
        "#Fill the integral area\n",
        "plt.fill_between(x, integrand(x), y2=0,\n",
        "                 where=(x > integr_extrema[0]) * (x < integr_extrema[1]))\n",
        "\n",
        "# Calculate the actual integral\n",
        "value, error = integrate.quad(integrand, integr_extrema[0], integr_extrema[1])\n",
        "# Write the result on screen.\n",
        "plt.text(0, -4, '$\\int_{{{:.1f}}}^{{{:.1f}}} f(x) = {:.6f} \\pm {:.2g}$'.format(\n",
        "         integr_extrema[0], integr_extrema[1], value, error), fontsize=14)\n",
        "\n",
        "# Draw everything\n",
        "plt.show()"
      ],
      "execution_count": null,
      "outputs": []
    }
  ]
}