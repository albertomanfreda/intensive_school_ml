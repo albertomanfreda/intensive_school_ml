{
  "nbformat": 4,
  "nbformat_minor": 0,
  "metadata": {
    "colab": {
      "name": "lessonNumPy.ipynb",
      "provenance": [],
      "collapsed_sections": [],
      "toc_visible": true,
      "authorship_tag": "ABX9TyNR1LGKBJnRhYzU/rqjPEwU",
      "include_colab_link": true
    },
    "kernelspec": {
      "name": "python3",
      "display_name": "Python 3"
    }
  },
  "cells": [
    {
      "cell_type": "markdown",
      "metadata": {
        "id": "view-in-github",
        "colab_type": "text"
      },
      "source": [
        "<a href=\"https://colab.research.google.com/github/albertomanfreda/intensive_school_ml/blob/master/lessonNumPy.ipynb\" target=\"_parent\"><img src=\"https://colab.research.google.com/assets/colab-badge.svg\" alt=\"Open In Colab\"/></a>"
      ]
    },
    {
      "cell_type": "markdown",
      "metadata": {
        "id": "7tKNO9kYJggj",
        "colab_type": "text"
      },
      "source": [
        "# NumPy\n",
        "\n",
        "Numpy is a powerful library for mathematical operations, including tensor manipulation (which is crucial for Neural Networks).\n",
        "\n",
        "It is *de facto* the standard mathematical library for operating with arrays and matrices in Python. Many other useful libraries are built on-top of NumPy, or are able to operate on NumPy arrays.\n",
        "\n",
        "The basic data structure in NumPy is the **ndarray**, a multi-dimensional arrays (or tensor).\n",
        "Each ndarray has a **ndim** number of dimensions (or axes), and a **shape**, which is a tuple storing the length along each axes. The total number of elements is the **size** of the ndarray, which is the product of all the axes dimension. Finally, **len()** return the dimension of the first axis. On a unidimensional ndarray len() == size.\n",
        "\n",
        "Differently from a list or a tuple, which can store items of any type, elements in a NumPy ndarray are homogenous, with a type decided upon array creation.\n",
        "\n",
        "The standard way to create a NumPy ndarray is the *array* function, which accepts as input an iterables (like a list, or a tuple) of elements."
      ]
    },
    {
      "cell_type": "code",
      "metadata": {
        "id": "nQjDkWhQQiYv",
        "colab_type": "code",
        "colab": {}
      },
      "source": [
        "import numpy as np # This alias is pretty much standard \n",
        "\n",
        "# Let's define a function to inspect the properties of an array\n",
        "def print_array_properties(arr):\n",
        "    \"\"\" Print the type, number of axes, shape and total number of elements of\n",
        "    a NumPy ndarray. \"\"\"\n",
        "    msg = '{}d array of type={}, shape={} ({} elements in total).\\n'\n",
        "    print(msg.format(arr.ndim, arr.dtype, arr.shape, arr.size))\n",
        "\n",
        "\"\"\" A uni-dimensionl array (or vector) of floating points numbers.\n",
        "The dtype paramater is optional: numpy will usually figure out by itself.\"\"\"\n",
        "v = np.array([0., 1., 2., 3.], dtype=np.float)\n",
        "# Each array has a shape, or size, which is a tuple of its dimensions\n",
        "print(v)\n",
        "print_array_properties(v)\n",
        "\n",
        "# A 2d matrix can be created from a list of lists, like this\n",
        "m = np.array([[0, 1, 2], \n",
        "              [3, 4, 5]])\n",
        "print(m)\n",
        "print_array_properties(m)\n",
        "\n",
        "# 3d tensor\n",
        "t = np.array([[[0, 1], \n",
        "               [2, 3]],\n",
        "              [[3, 4],\n",
        "               [5, 6]],\n",
        "              [[6, 7],\n",
        "               [8, 9]]])\n",
        "print(t)\n",
        "print_array_properties(t)"
      ],
      "execution_count": null,
      "outputs": []
    },
    {
      "cell_type": "markdown",
      "metadata": {
        "id": "gHyYscE-Xix8",
        "colab_type": "text"
      },
      "source": [
        "Elements in a NumPy ndarray can be accessed with the square parenthesis, much like lists and tuples. Furthermore, NumPy ndarrays support slicing. It takes a bit of practice to get accustomed to the syntax for multidimensional arrays, so don't be worried if you struggle at the beginning. "
      ]
    },
    {
      "cell_type": "code",
      "metadata": {
        "id": "QLapR3qXX2uc",
        "colab_type": "code",
        "colab": {}
      },
      "source": [
        "# Create an array of integers with np.arange\n",
        "# arange() uses the same syntax as range() and slices\n",
        "v = np.arange(3, 20, 2)\n",
        "print(v)\n",
        "# Random access\n",
        "print(v[3])\n",
        "# Usual slicing for 1-d arrays: remember the lesson on slicing!\n",
        "print(v[1:7:3])\n",
        "print(v[5:])\n",
        "print(v[:-3])"
      ],
      "execution_count": null,
      "outputs": []
    },
    {
      "cell_type": "code",
      "metadata": {
        "id": "IxHSoOORaqwk",
        "colab_type": "code",
        "colab": {}
      },
      "source": [
        "\"\"\" Create a 2d array by reshaping a 1d array. reshape() requires the new shape\n",
        "to be comatible with old one: the total number of elements must be the same.\"\"\"\n",
        "m = np.arange(15).reshape(5, 3)\n",
        "print(m, '\\n')\n",
        "\n",
        "# Random access\n",
        "print(m[2, 1], '\\n')\n",
        "# This syntax works too\n",
        "print(m[2][1], '\\n')\n",
        "\n",
        "# Slicing\n",
        "print(m[1:3, 0:2], '\\n')\n",
        "\n",
        "# Select an entire row\n",
        "print(m[2,:],'\\n')\n",
        "\n",
        "# Select an entire column\n",
        "print(m[:,0],'\\n')"
      ],
      "execution_count": null,
      "outputs": []
    },
    {
      "cell_type": "markdown",
      "metadata": {
        "id": "kKvwMzdtQi2a",
        "colab_type": "text"
      },
      "source": [
        "## Vectorization \n",
        "\n",
        "Through at first glance a NumPy ndarray may look similar to a Python list (or a list of lists, for multi-dimensional arrays), they are, in fact, quite different objects. In fact, elements in a Python list can be of any type and are not guaranteed to (and in general don't) occupy contiguos memory addresses. Elements in a NumPy ndarray, on the other side, are always stored as a contiguos block of memory, as well as having their type known in advance. \n",
        "\n",
        "The advantage of this is that NumPy is able to delegate the task of performing mathematical operations on the array’s contents to optimized, compiled C code. This process is referred to as **vectorization**. The gain in performance can be huge: let's try it ourselves."
      ]
    },
    {
      "cell_type": "code",
      "metadata": {
        "id": "iPFGGK6Eaq7U",
        "colab_type": "code",
        "colab": {}
      },
      "source": [
        "# We will use the time library to measure execution time\n",
        "import time\n",
        "\n",
        "def sum_pure_python(n, num_trials):\n",
        "    \"\"\" Sum the first n integers and measure the execution time. Repeat for\n",
        "    num_trials times, return the best time. Pure Python implementation, version.\n",
        "    \"\"\"\n",
        "    times_pure_python = []\n",
        "    for i in range(num_trials):\n",
        "        tstart = time.time()\n",
        "        sum(range(n))\n",
        "        tstop = time.time()\n",
        "        times_pure_python.append(tstop - tstart)\n",
        "    return min(times_pure_python)\n",
        "\n",
        "def sum_numpy(n, num_trials):\n",
        "    \"\"\" Sum the first n integers and measure the execution time. Repeat for\n",
        "    num_trials times, return the best time. NumPy version.\n",
        "    \"\"\"\n",
        "    times_numpy = []\n",
        "    for i in range(num_trials):\n",
        "        tstart = time.time()\n",
        "        np.sum(np.arange(n))\n",
        "        tstop = time.time()\n",
        "        times_numpy.append(tstop - tstart)\n",
        "    return min(times_numpy)\n",
        "\n",
        "n = 1000000\n",
        "num_trials = 5\n",
        "pure_python_best = sum_pure_python(n, num_trials)\n",
        "print('Pure python time (best of {}): {:.5f} s'.\\\n",
        "      format(num_trials, pure_python_best))\n",
        "numpy_best = sum_numpy(n, num_trials)\n",
        "print('Numpy time (best of {}): {:.5f} s'.\\\n",
        "      format(num_trials, numpy_best))\n",
        "print('NumPy code was {:.2f} times faster'.\\\n",
        "      format(pure_python_best / numpy_best))"
      ],
      "execution_count": null,
      "outputs": []
    },
    {
      "cell_type": "markdown",
      "metadata": {
        "id": "MS18CkXtjjME",
        "colab_type": "text"
      },
      "source": [
        "The bottom line is that you should try to use NumPy, rather then explicitly (or implicitly) looping in pure Python, whenever you are doing intensive mathematical computations on a great (10^5) number of elements.\n",
        "\n",
        "NumPy allows you to use vectorization easily by implementing mathematical operations so that they act automatically on the entire array."
      ]
    },
    {
      "cell_type": "code",
      "metadata": {
        "id": "Q2mMMKMEoedt",
        "colab_type": "code",
        "colab": {}
      },
      "source": [
        "x = np.arange(10)\n",
        "# Every element of x will be squared\n",
        "print(x**2, '\\n')\n",
        "\n",
        "# Divide every element of x by ten and add 1 to each\n",
        "y = x / 10 + 1\n",
        "print(y, '\\n')\n",
        "\n",
        "# Other mathematical operations from the NumPy library\n",
        "print(np.exp(-x), '\\n')\n",
        "print(np.sin(2 * y**2), '\\n')\n",
        "\n",
        "# Operations between arrays are vectorized too\n",
        "# Note: their shapes have to be compatible\n",
        "print(x + y, '\\n')"
      ],
      "execution_count": null,
      "outputs": []
    },
    {
      "cell_type": "markdown",
      "metadata": {
        "id": "pEr3vzcqepig",
        "colab_type": "text"
      },
      "source": [
        "## Matrix multiplication vs element-wise multiplication\n"
      ]
    },
    {
      "cell_type": "markdown",
      "metadata": {
        "id": "bZIQEYuRrbMM",
        "colab_type": "text"
      },
      "source": [
        "Whe operating with matrices, there are two kinds of multiplications: element-wise multiplication and matrix multiplication. \n",
        "\n",
        "Element-wise multiplication is easy: each element of the first is multiplied by the corresponding element of the second. It requires the matrix to have the same shape and returns a matrix of the same shape. It is a commutative operation: a \\* b = b \\* a\n",
        "\n",
        "Matrix multiplication, on the other side, can be performed between two matrices of shapes $m \\times n$ and $n \\times p$ (that is the middle axis dimension must be the same). The result is a $m \\times p$ matrix definied as:\n",
        "\n",
        "$$ c_{ij} = \\sum_{k=1}^n a_{ik} * b_{kj} $$ "
      ]
    },
    {
      "cell_type": "code",
      "metadata": {
        "id": "ovUOkchoqvG_",
        "colab_type": "code",
        "colab": {}
      },
      "source": [
        "# Element-wise multiplication\n",
        "a = np.array([1, 2, 3])\n",
        "b = np.array([-1, -2, -3])\n",
        "print(a * b)"
      ],
      "execution_count": null,
      "outputs": []
    },
    {
      "cell_type": "code",
      "metadata": {
        "id": "TZC8dkJZ8IiN",
        "colab_type": "code",
        "colab": {}
      },
      "source": [
        "# Matrix multiplication\n",
        "a = np.arange(12).reshape((4, 3))\n",
        "print(a)\n",
        "print_array_properties(a)\n",
        "\n",
        "# Create an array of given shape filled with a given value\n",
        "b = np.full((3, 2), -1)\n",
        "print(b)\n",
        "print_array_properties(b)\n",
        "\n",
        "c = a.dot(b)\n",
        "print(c)\n",
        "print_array_properties(c)\n",
        "\n",
        "# Equivalent syntaxes (for 2d matrix):\n",
        "c = a @ b\n",
        "c = np.matmul(a, b)\n",
        "\n",
        "# You can also multiply 1d arrays: this is basically the inner product\n",
        "v1 = np.array([1., 2., 3.])\n",
        "v2 = np.array([-1., -2., -3.])\n",
        "print(v1.dot(v2))\n",
        "\n",
        "\"\"\" IMPORTANT NOTE: while matmul and @ are completely equivalent, matmul and dot\n",
        "are so only for 2d matrix. For matrix with ndim > 2 they do different things.\n",
        "Please check the documentation in that case. \"\"\""
      ],
      "execution_count": null,
      "outputs": []
    },
    {
      "cell_type": "markdown",
      "metadata": {
        "id": "fd6KYVwX2kdX",
        "colab_type": "text"
      },
      "source": [
        "## Operation along axis\n",
        "\n",
        "A few NumPy functions accept an additional argument, which makes that function act not on te entire array but **along an axis**. For example, if you have a 3x2 matrix, you can calculate the global mean (which is a single number), or the mean along the rows, which will calculate the mean of each row and return an array of size 2, or you can calculate the mean along the columns, which will return an array of size 3 with the mean on each column."
      ]
    },
    {
      "cell_type": "code",
      "metadata": {
        "id": "jmaXcLdG3NXE",
        "colab_type": "code",
        "colab": {}
      },
      "source": [
        "import numpy as np\n",
        "arr = np.array([[-1., 1.],\n",
        "                [-2., 2.],\n",
        "                [-3., 3.]])\n",
        "# Mean of the entire array\n",
        "print(arr.mean())\n",
        "# Mean of each row\n",
        "print(arr.mean(axis=0))\n",
        "# Mean of each column\n",
        "print(arr.mean(axis=1))"
      ],
      "execution_count": null,
      "outputs": []
    },
    {
      "cell_type": "markdown",
      "metadata": {
        "id": "aqV_GIc8yNUY",
        "colab_type": "text"
      },
      "source": [
        "## Random number generation"
      ]
    },
    {
      "cell_type": "code",
      "metadata": {
        "id": "MwDtwzJ4yWJt",
        "colab_type": "code",
        "colab": {}
      },
      "source": [
        "# Set the seed for RNG (so that results are repetible)\n",
        "np.random.seed(0)\n",
        "\n",
        "# Generate an array of random numbers uniformly distributed between 0 and 1\n",
        "# Here the dimensions must not be passed as a tuple, but as separate arguments\n",
        "print(np.random.rand(2, 3), '\\n')\n",
        "\n",
        "# Generate gaussian numbers with given mean (loc) and sigma (scale)\n",
        "print(np.random.normal(loc=1., scale=2., size=10))\n",
        "\n"
      ],
      "execution_count": null,
      "outputs": []
    },
    {
      "cell_type": "markdown",
      "metadata": {
        "id": "mUF7a7iCx1Ew",
        "colab_type": "text"
      },
      "source": [
        "## Boolean arrays and masks\n",
        "\n",
        "A **boolean array** is an array filled with booelan values (True or False). The special thing about boolean arrays is that they can be used as **masks** to select values on other arrays, using the usual square parenthesis syntax. Let's see how that works:"
      ]
    },
    {
      "cell_type": "code",
      "metadata": {
        "id": "dFOgsMmz0m_3",
        "colab_type": "code",
        "colab": {}
      },
      "source": [
        "a = np.array([10, 2, 4, 7, 1, 8, 9])\n",
        "# Create a boolean array with a conditional expression\n",
        "mask = a >= 5\n",
        "print(mask)\n",
        "print_array_properties(mask)\n",
        "\n",
        "# Let's use it to select values on another array\n",
        "b = np.arange(len(a))\n",
        "print(b)\n",
        "print(b[mask])\n",
        "\n",
        "# Of course you do not need the intermediate variable\n",
        "print(b[a >= 5])\n"
      ],
      "execution_count": null,
      "outputs": []
    },
    {
      "cell_type": "code",
      "metadata": {
        "id": "nJJeTzLq6o5F",
        "colab_type": "code",
        "colab": {}
      },
      "source": [
        "\"\"\" Multiple masks can be combined using logical operators:\n",
        " ~ (not), & (and), | (or) if they have the same shape\"\"\" \n",
        "a = np.array([10, 2, 4, 7, 1, 8, 9])\n",
        "b = np.arange(len(a))\n",
        "mask_b = b < 4\n",
        "mask_a = a >= 5\n",
        "print(~mask_b)\n",
        "print(mask_a & mask_b)\n",
        "print(mask_a | mask_b)"
      ],
      "execution_count": null,
      "outputs": []
    },
    {
      "cell_type": "markdown",
      "metadata": {
        "id": "KXyUpHZT2ve2",
        "colab_type": "text"
      },
      "source": [
        "##Other useful functions"
      ]
    },
    {
      "cell_type": "code",
      "metadata": {
        "id": "q8df8QqFJ1HE",
        "colab_type": "code",
        "colab": {}
      },
      "source": [
        "\n",
        "# Create an array of zeros of the given shape\n",
        "# Since shape is a tuple, we need double parenthesis\n",
        "zero_arr = np.zeros((2, 3))\n",
        "print(zero_arr, '\\n')\n",
        "\n",
        "# Create an array of ones\n",
        "# If we pass a single number as shape the array is 1d\n",
        "one_arr = np.ones(10)\n",
        "print(one_arr, '\\n')\n",
        "# Equivalent syntax:\n",
        "o = np.ones((10,))\n",
        "\n",
        "# Array of equispaced values\n",
        "print(np.linspace(0., 10., 5), '\\n')\n",
        "\n",
        "# Flatten an array\n",
        "arr = np.array([[0., 1.],\n",
        "                [2., 3.],\n",
        "                [4., 5.]])\n",
        "print(arr.flatten(), '\\n')\n",
        "\n",
        "# Transpose a matrix\n",
        "print(arr.T, '\\n') # or, equivalently, np.transpose(arr)"
      ],
      "execution_count": null,
      "outputs": []
    }
  ]
}