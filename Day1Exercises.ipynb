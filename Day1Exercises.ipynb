{
  "nbformat": 4,
  "nbformat_minor": 0,
  "metadata": {
    "colab": {
      "name": "Day1Exercises.ipynb",
      "provenance": [],
      "collapsed_sections": [
        "zeTW5h6-KpcS",
        "tidhTT8whTXF",
        "9vrlwtKrHtXg",
        "i7UGC3dokXdB",
        "BrNnWBzBNBgo",
        "5tAV2Wj-LYob",
        "dSBfhzSrmfdg",
        "veKFbHSCpP5K"
      ],
      "authorship_tag": "ABX9TyPyGIlom2zaTgYfVqROQEXK",
      "include_colab_link": true
    },
    "kernelspec": {
      "name": "python3",
      "display_name": "Python 3"
    }
  },
  "cells": [
    {
      "cell_type": "markdown",
      "metadata": {
        "id": "view-in-github",
        "colab_type": "text"
      },
      "source": [
        "<a href=\"https://colab.research.google.com/github/albertomanfreda/intensive_school_ml/blob/master/Day1Exercises.ipynb\" target=\"_parent\"><img src=\"https://colab.research.google.com/assets/colab-badge.svg\" alt=\"Open In Colab\"/></a>"
      ]
    },
    {
      "cell_type": "markdown",
      "metadata": {
        "id": "B5uIZyEKCaB5",
        "colab_type": "text"
      },
      "source": [
        " # 1 - Statements, assignment, syntax\n",
        " \n",
        " Which of the following are valid Python statement? (run the cells to check your answers)"
      ]
    },
    {
      "cell_type": "code",
      "metadata": {
        "id": "-w_S_m7yCU1P",
        "colab_type": "code",
        "colab": {}
      },
      "source": [
        "a = \n",
        "3"
      ],
      "execution_count": null,
      "outputs": []
    },
    {
      "cell_type": "code",
      "metadata": {
        "id": "PvrRs4mOCmN2",
        "colab_type": "code",
        "colab": {}
      },
      "source": [
        "a = \\\n",
        "            3"
      ],
      "execution_count": null,
      "outputs": []
    },
    {
      "cell_type": "code",
      "metadata": {
        "id": "NZ8xwcMeCtRe",
        "colab_type": "code",
        "colab": {}
      },
      "source": [
        "2 = 2"
      ],
      "execution_count": null,
      "outputs": []
    },
    {
      "cell_type": "code",
      "metadata": {
        "id": "0QkrMzkSC82x",
        "colab_type": "code",
        "colab": {}
      },
      "source": [
        "a"
      ],
      "execution_count": null,
      "outputs": []
    },
    {
      "cell_type": "markdown",
      "metadata": {
        "id": "21EnyU0asYxL",
        "colab_type": "text"
      },
      "source": [
        "#2 Logical operations\n",
        "\n",
        "What is the result of this logical operation?"
      ]
    },
    {
      "cell_type": "code",
      "metadata": {
        "id": "hDdrls_usW6E",
        "colab_type": "code",
        "colab": {}
      },
      "source": [
        "# Run to check your answer!\n",
        "input_val = 5\n",
        "x = (not(input_val >= 5)) or ((input_val % 3 == 2) and (input_val != 5))\n",
        "print(x)"
      ],
      "execution_count": null,
      "outputs": []
    },
    {
      "cell_type": "markdown",
      "metadata": {
        "id": "adRX9Y_4JPq2",
        "colab_type": "text"
      },
      "source": [
        "#3 Control flow\n",
        "\n",
        "Write a code that calculate and prints all the divisors of a given number.\n",
        "\n",
        "## Hints\n",
        "\n",
        "1. Use the modulo (%) operator\n",
        "2. You can start the loop at 2 and stop it at n//2 + 1 (why?)"
      ]
    },
    {
      "cell_type": "code",
      "metadata": {
        "id": "Q3cYqolJJdzs",
        "colab_type": "code",
        "colab": {}
      },
      "source": [
        "n = 36\n",
        "# Your code goes here"
      ],
      "execution_count": null,
      "outputs": []
    },
    {
      "cell_type": "markdown",
      "metadata": {
        "id": "zeTW5h6-KpcS",
        "colab_type": "text"
      },
      "source": [
        "## Solution"
      ]
    },
    {
      "cell_type": "code",
      "metadata": {
        "id": "tRoepzNgKrhv",
        "colab_type": "code",
        "colab": {}
      },
      "source": [
        "for i in range(2, n//2 + 1):\n",
        "    if n%i == 0:\n",
        "        print(i)"
      ],
      "execution_count": null,
      "outputs": []
    },
    {
      "cell_type": "markdown",
      "metadata": {
        "id": "XiwgbDpxM6s-",
        "colab_type": "text"
      },
      "source": [
        "# 4 String formatting\n",
        "\n",
        "Convert the string from the old-style formatting to the new-style formatting"
      ]
    },
    {
      "cell_type": "code",
      "metadata": {
        "id": "jBx-vcDOM_F-",
        "colab_type": "code",
        "colab": {}
      },
      "source": [
        "answer = 42\n",
        "question = 'unknown'\n",
        "old_style_sentence = 'The answer is %d, while the question is %s' \\\n",
        "                      % (answer, question)"
      ],
      "execution_count": null,
      "outputs": []
    },
    {
      "cell_type": "code",
      "metadata": {
        "id": "QQzdiOiMhM1B",
        "colab_type": "code",
        "colab": {}
      },
      "source": [
        "# Replace 'None' with your code\n",
        "new_style_sentence = None\n",
        "\n",
        "# If the strings are different the following line will fail with AssertionError\n",
        "# (you need to run the previous cell first!)\n",
        "assert(old_style_sentence == new_style_sentence)\n",
        "# Other\n",
        "print('Correct!')"
      ],
      "execution_count": null,
      "outputs": []
    },
    {
      "cell_type": "markdown",
      "metadata": {
        "id": "tidhTT8whTXF",
        "colab_type": "text"
      },
      "source": [
        "## Solution"
      ]
    },
    {
      "cell_type": "code",
      "metadata": {
        "id": "p7POY0U_hVbk",
        "colab_type": "code",
        "colab": {}
      },
      "source": [
        "new_style_sentence = 'The answer is {:d}, while the question is {:s}'.\\\n",
        "                     format(answer, question)"
      ],
      "execution_count": null,
      "outputs": []
    },
    {
      "cell_type": "markdown",
      "metadata": {
        "id": "hSsCg41ckmbV",
        "colab_type": "text"
      },
      "source": [
        "# 5 Lists - 1\n",
        "\n",
        "Modify the given list by inserting or removing elelements - without assigning - so that the assert statements do not fail. "
      ]
    },
    {
      "cell_type": "code",
      "metadata": {
        "id": "uidUXdSiGBH0",
        "colab_type": "code",
        "colab": {}
      },
      "source": [
        "initial_list = [1, 2, 'bob', 3]\n",
        "\n",
        "# Your code goes here\n",
        "\n",
        "# Check the result\n",
        "assert initial_list[2] == 3\n",
        "assert initial_list[-1] == 4\n",
        "assert sum(initial_list[2:4]) == 8"
      ],
      "execution_count": null,
      "outputs": []
    },
    {
      "cell_type": "markdown",
      "metadata": {
        "id": "9vrlwtKrHtXg",
        "colab_type": "text"
      },
      "source": [
        "## Solution"
      ]
    },
    {
      "cell_type": "code",
      "metadata": {
        "id": "Oteda-zFHuhc",
        "colab_type": "code",
        "colab": {}
      },
      "source": [
        "initial_list.pop(2)\n",
        "initial_list.append(4)\n",
        "initial_list.insert(3, 5)"
      ],
      "execution_count": null,
      "outputs": []
    },
    {
      "cell_type": "markdown",
      "metadata": {
        "id": "nssZvezEiGrD",
        "colab_type": "text"
      },
      "source": [
        "# 6 - Lists 2\n",
        "\n",
        "Get the name of the file from the file path, without extension.\n",
        "\n",
        "## Hint:\n",
        "  \n",
        "  1. Use *split* to separate the path into a list of pieces\n",
        "  2. Get the last item in the list.\n",
        "  3. Use *strip* to remove the extension"
      ]
    },
    {
      "cell_type": "code",
      "metadata": {
        "id": "n0Bu_A9UjOZx",
        "colab_type": "code",
        "colab": {}
      },
      "source": [
        "file_path = '/home/user/student/work/my_script.py'\n",
        "expected_result = 'my_script'\n",
        "\n",
        "# Replace 'None' with your code\n",
        "file_name = None\n",
        "\n",
        "assert  file_name == expected_result\n",
        "print('Correct!')"
      ],
      "execution_count": null,
      "outputs": []
    },
    {
      "cell_type": "markdown",
      "metadata": {
        "id": "i7UGC3dokXdB",
        "colab_type": "text"
      },
      "source": [
        "## Solution"
      ]
    },
    {
      "cell_type": "code",
      "metadata": {
        "id": "lQ6LZ2JwkZPh",
        "colab_type": "code",
        "colab": {}
      },
      "source": [
        "file_name = file_path.split('/')[-1].strip('.py')"
      ],
      "execution_count": null,
      "outputs": []
    },
    {
      "cell_type": "markdown",
      "metadata": {
        "id": "Lc077sztMnC_",
        "colab_type": "text"
      },
      "source": [
        "# 7 Dictionaries - 1\n",
        "\n",
        "Create a dictionary containing the keys 'name', 'surname' and 'age'"
      ]
    },
    {
      "cell_type": "code",
      "metadata": {
        "id": "zudzeoh6MynF",
        "colab_type": "code",
        "colab": {}
      },
      "source": [
        "my_dict = {#your code goes here\n",
        "          }\n",
        "assert 'name' in my_dict\n",
        "assert 'surname' in my_dict\n",
        "assert 'age' in my_dict"
      ],
      "execution_count": null,
      "outputs": []
    },
    {
      "cell_type": "markdown",
      "metadata": {
        "id": "BrNnWBzBNBgo",
        "colab_type": "text"
      },
      "source": [
        "## Solution"
      ]
    },
    {
      "cell_type": "code",
      "metadata": {
        "id": "9Kc-5DQxNEYt",
        "colab_type": "code",
        "colab": {}
      },
      "source": [
        "# The values can be anything\n",
        "my_dict = {'age' : 31, 'name' : 'Alberto', 'surname' : 'Manfreda'}"
      ],
      "execution_count": null,
      "outputs": []
    },
    {
      "cell_type": "markdown",
      "metadata": {
        "id": "3xUiOxFpKk03",
        "colab_type": "text"
      },
      "source": [
        "# 7. Dictionaries - 2\n",
        "\n",
        "Print the key in the following dictionary which correspond to a value starting with a vowel."
      ]
    },
    {
      "cell_type": "code",
      "metadata": {
        "id": "x5GKskROK6Hm",
        "colab_type": "code",
        "colab": {}
      },
      "source": [
        "my_dict = {'name' : 'Bob',\n",
        "           'hobby': 'football',\n",
        "           'work' : 'employee',\n",
        "           'state': 'USA'}\n",
        "\n",
        "# Your code goes here\n",
        "# Expected solution:\n",
        "# 'work'\n",
        "# 'state'"
      ],
      "execution_count": null,
      "outputs": []
    },
    {
      "cell_type": "markdown",
      "metadata": {
        "id": "5tAV2Wj-LYob",
        "colab_type": "text"
      },
      "source": [
        "## Solution"
      ]
    },
    {
      "cell_type": "code",
      "metadata": {
        "id": "HUEiEmFdLaNU",
        "colab_type": "code",
        "colab": {}
      },
      "source": [
        "vowels = ['a', 'e', 'i', 'o', 'u', 'A', 'E', 'I', 'O', 'U']\n",
        "for key, value in my_dict.items():\n",
        "    if value[0] in vowels:\n",
        "        print(key)"
      ],
      "execution_count": null,
      "outputs": []
    },
    {
      "cell_type": "markdown",
      "metadata": {
        "id": "PFCHP_LZmLT5",
        "colab_type": "text"
      },
      "source": [
        "# 8 Files\n",
        "\n",
        "Creates a file named 'my_name.txt' and write your name in int. Close the file and open it again, this time in reading mode, and print the name written in it.\n",
        "\n",
        "## Hint\n",
        "\n",
        "Remember to remove the '\\n' character if you use the *readline()* command."
      ]
    },
    {
      "cell_type": "code",
      "metadata": {
        "id": "tN8V8RkqmdeC",
        "colab_type": "code",
        "colab": {}
      },
      "source": [
        "# Your code goes here"
      ],
      "execution_count": null,
      "outputs": []
    },
    {
      "cell_type": "markdown",
      "metadata": {
        "id": "dSBfhzSrmfdg",
        "colab_type": "text"
      },
      "source": [
        "## Solution"
      ]
    },
    {
      "cell_type": "code",
      "metadata": {
        "id": "L2S47-61mfFw",
        "colab_type": "code",
        "colab": {
          "base_uri": "https://localhost:8080/",
          "height": 35
        },
        "outputId": "ff794d82-7b80-481e-839d-b22593930301"
      },
      "source": [
        "with open('my_name.txt', 'w') as output_file:\n",
        "    output_file.write('Alberto')\n",
        "\n",
        "with open('my_name.txt', 'r') as input_file:\n",
        "    l = input_file.readline()\n",
        "    print(l.strip('\\n'))"
      ],
      "execution_count": 64,
      "outputs": [
        {
          "output_type": "stream",
          "text": [
            "Alberto\n"
          ],
          "name": "stdout"
        }
      ]
    },
    {
      "cell_type": "markdown",
      "metadata": {
        "id": "V7dFCddNRJRJ",
        "colab_type": "text"
      },
      "source": [
        "# 9 Functions\n",
        "\n",
        "Write a fucntion that returns the average length of the words in a sentence.\n"
      ]
    },
    {
      "cell_type": "code",
      "metadata": {
        "id": "cspYZH3vjXbW",
        "colab_type": "code",
        "colab": {}
      },
      "source": [
        "def average_length_of_words(sentence):\n",
        "    # Your code goes here\n",
        "    pass\n",
        "\n",
        "assert average_length_of_words('only four lett erwo rdss') == 4\n",
        "assert average_length_of_words('one two three') == 11/3\n",
        "assert average_length_of_words('one two three four') == 15/4\n",
        "assert average_length_of_words('') == 0"
      ],
      "execution_count": null,
      "outputs": []
    },
    {
      "cell_type": "markdown",
      "metadata": {
        "id": "hzJG7dz7jmzx",
        "colab_type": "text"
      },
      "source": [
        "## Solution"
      ]
    },
    {
      "cell_type": "code",
      "metadata": {
        "id": "-VCnRkXujmGs",
        "colab_type": "code",
        "colab": {}
      },
      "source": [
        "def average_length_of_words(sentence):\n",
        "    words = sentence.split(' ')\n",
        "    num_words = len(words)\n",
        "    sum_ = 0 # avoid conflict with the sum() built-in function\n",
        "    for word in words:\n",
        "        sum_ += len(word)\n",
        "    return sum_/num_words\n"
      ],
      "execution_count": 63,
      "outputs": []
    },
    {
      "cell_type": "markdown",
      "metadata": {
        "id": "BEOEIwidnZ7W",
        "colab_type": "text"
      },
      "source": [
        "# 10 Standard library\n",
        "\n",
        "Write a function that takes as input a directory, print the name of all the files inside it and return the time required to execute that command.\n",
        "\n",
        "Apply it to the current working directory.\n",
        "\n",
        "## Hint\n",
        "\n",
        "Use os, glob, and time"
      ]
    },
    {
      "cell_type": "code",
      "metadata": {
        "id": "MFiA3EaZpFHP",
        "colab_type": "code",
        "colab": {}
      },
      "source": [
        "# Import the necessary modules here\n",
        "\n",
        "# Define the function\n",
        "def print_content_and_timeit(dir_path):\n",
        "    # Fill the code here\n",
        "    pass\n",
        "\n",
        "# Then call the function here"
      ],
      "execution_count": 71,
      "outputs": []
    },
    {
      "cell_type": "markdown",
      "metadata": {
        "id": "veKFbHSCpP5K",
        "colab_type": "text"
      },
      "source": [
        "## Solution"
      ]
    },
    {
      "cell_type": "code",
      "metadata": {
        "id": "20QmWFfknzCI",
        "colab_type": "code",
        "colab": {}
      },
      "source": [
        "import glob\n",
        "import time\n",
        "import os\n",
        "\n",
        "def print_content_and_timeit(dir_path):\n",
        "    tstart = time.time()\n",
        "    for name in glob.glob('{}/*'.format(dir_path)):\n",
        "        print(name)\n",
        "    return time.time() - tstart\n",
        "\n",
        "print(os.getcwd())\n",
        "print_content_and_timeit(os.getcwd())"
      ],
      "execution_count": null,
      "outputs": []
    }
  ]
}