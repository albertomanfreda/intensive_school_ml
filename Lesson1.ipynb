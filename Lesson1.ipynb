{
  "nbformat": 4,
  "nbformat_minor": 0,
  "metadata": {
    "colab": {
      "name": "Lesson1.ipynb",
      "provenance": [],
      "collapsed_sections": [],
      "toc_visible": true,
      "authorship_tag": "ABX9TyOkdQ5+XGdfcOr/wuDePUEt",
      "include_colab_link": true
    },
    "kernelspec": {
      "name": "python3",
      "display_name": "Python 3"
    }
  },
  "cells": [
    {
      "cell_type": "markdown",
      "metadata": {
        "id": "view-in-github",
        "colab_type": "text"
      },
      "source": [
        "<a href=\"https://colab.research.google.com/github/albertomanfreda/intensive_school_ml/blob/master/Lesson1.ipynb\" target=\"_parent\"><img src=\"https://colab.research.google.com/assets/colab-badge.svg\" alt=\"Open In Colab\"/></a>"
      ]
    },
    {
      "cell_type": "markdown",
      "metadata": {
        "id": "fpi1NH0l19Ck",
        "colab_type": "text"
      },
      "source": [
        "# Statements, comments and indentation\n",
        "\n",
        "Instructions that a Python interpreter can execute are called **statements**\n",
        "A statement in Python ends with a newline\n",
        "  - You can split it over multiple lines using the symbol '\\\\' \n",
        "  - A statement is also automatically continued on the next line if a parenthesis is left open\n",
        "\n",
        "A **comment** in Python starts with the '#' symbol. Comments are ignored by the\n",
        "interpreter, and are useful to document your code.\n",
        "\n",
        "Multiline comments can be written using \"\"\" (3 times \") at the beginning and at the end."
      ]
    },
    {
      "cell_type": "code",
      "metadata": {
        "id": "Qx2MkID42utk",
        "colab_type": "code",
        "colab": {}
      },
      "source": [
        "# This is a comment on a single line\n",
        "\"\"\" This is a comment spanning multiple\n",
        "lines. \"\"\"\n",
        "# The following line is a valid Python statement:\n",
        "print('Hello world') # You can also comment after a statement like this"
      ],
      "execution_count": null,
      "outputs": []
    },
    {
      "cell_type": "code",
      "metadata": {
        "id": "9eG_CDnt362z",
        "colab_type": "code",
        "colab": {}
      },
      "source": [
        "# The following is a multiline statement (note how I indented the second line to make it easier to read):\n",
        "a = 5 + \\\n",
        "    2\n",
        "# You don't actually need the '\\' when a parenthesis is open\n",
        "b = 3 * (a +\n",
        "         1)"
      ],
      "execution_count": 2,
      "outputs": []
    },
    {
      "cell_type": "markdown",
      "metadata": {
        "id": "CmuKEdV248Nd",
        "colab_type": "text"
      },
      "source": [
        "Python will ignore any number of empty spaces inside a statement. That is why I\n",
        "could indent the second line before without problem.\n",
        "\n",
        "Normally, however, indentation of the lines **is** very relevant. Python uses indentation to understand when a block of code begins and ends,\n",
        "so you can only indent when the rules require it. Indentation can be made of an\n",
        "arbitrary number of spaces, but 4 spaces is what is generally used."
      ]
    },
    {
      "cell_type": "code",
      "metadata": {
        "id": "kXHW1m9xFbb0",
        "colab_type": "code",
        "colab": {}
      },
      "source": [
        "# The spaces inside the next line will be ignored\n",
        "a    =    5\n",
        "# However indent like this will produce an error\n",
        "    a = 5"
      ],
      "execution_count": null,
      "outputs": []
    },
    {
      "cell_type": "markdown",
      "metadata": {
        "id": "WSOByh_nM584",
        "colab_type": "text"
      },
      "source": [
        "En passant, note how the error message points you nicely to the source of the problem. Useful error messages are one of the beauties of Python."
      ]
    },
    {
      "cell_type": "markdown",
      "metadata": {
        "id": "naljf_7zFbtZ",
        "colab_type": "text"
      },
      "source": [
        "# Variables and assignment\n",
        "\n",
        "A statment like 'a = 5' is called an **assignment statement**.\n",
        "It assignes the value of the **expression** on the right to a **variable**.\n",
        "In this case the variable 'a' is created. You don't need to specify a type, like in other languages: the interpreter will figure out the proper type by itself."
      ]
    },
    {
      "cell_type": "code",
      "metadata": {
        "id": "T_A98vGdHBKy",
        "colab_type": "code",
        "colab": {}
      },
      "source": [
        "# We can inspect the content of the variable with the print() function\n",
        "print(a)\n",
        "# and its type with type()\n",
        "print(type(a))\n",
        "# Let's see what happens if we assign a real number\n",
        "a = 5.5\n",
        "# The interpreter will create a variable with a different type\n",
        "print(type(a))"
      ],
      "execution_count": null,
      "outputs": []
    },
    {
      "cell_type": "markdown",
      "metadata": {
        "id": "_txfoZuBQpc1",
        "colab_type": "text"
      },
      "source": [
        "As we have just seen, variables in Python do not need to be declared beforehand: they are just created by assigning something to them.\n",
        "\n",
        "A variable name can be whatever the user prefers, except for a number of **keywords**, which are reserved because they have a special meaning in the language. The other rules for variable names are:\n",
        "\n",
        "- A variable name must start with a letter or the underscore character\n",
        "- A variable name cannot start with a number\n",
        "- A variable name can only contain alpha-numeric characters and underscores (A-z, 0-9, and _ )\n",
        "- Variable names are case-sensitive (age, Age and AGE are three different variables)\n"
      ]
    },
    {
      "cell_type": "code",
      "metadata": {
        "id": "kjzBPFzlRWKq",
        "colab_type": "code",
        "colab": {}
      },
      "source": [
        "# You can get the list of reserved keywords with the following two lines:\n",
        "import keyword\n",
        "keyword.kwlist"
      ],
      "execution_count": null,
      "outputs": []
    },
    {
      "cell_type": "markdown",
      "metadata": {
        "id": "wiY8bpGyraCS",
        "colab_type": "text"
      },
      "source": [
        "A useful way to think about variables in Python is in terms of tags, or links. When you assign the result of an expression to a variable, the result of that expression is written somewhere in memory and you are putting a tag on (or creating a link to) that memory space, which can be later used to access it. For this reason, variables are also called **references**.\n",
        "\n",
        "*Warning*: assigning a variable to another, **does not copy its value**, it merely puts a second tag on the same memory space. So if you change one, the other will change as well."
      ]
    },
    {
      "cell_type": "markdown",
      "metadata": {
        "id": "gar6ax9gPQtx",
        "colab_type": "text"
      },
      "source": [
        "# Mathematical operators\n",
        "\n",
        "Python natively supports:\n",
        "- Basic math operators: +, -, \\*, /\n",
        "- % (modulus)\n",
        "- \\** (exponent)\n",
        "- \\\\\\ (floor division)"
      ]
    },
    {
      "cell_type": "code",
      "metadata": {
        "id": "Jum4ArrxPuw2",
        "colab_type": "code",
        "colab": {}
      },
      "source": [
        "print(\"3 + 2 =\", 3 + 2)\n",
        "print(\"3 / 2 =\", 3 / 2) # Return a floating point number in Python 3\n",
        "print(\"3 // 2 =\", 3 // 2) # Return the result rounded down\n",
        "print(\"-3 // 2 =\", -3 // 2) # Surprised by the result?\n",
        "print(\"3 % 2 =\", 3 % 2)\n",
        "print(\"3**2 =\", 3**2)"
      ],
      "execution_count": null,
      "outputs": []
    },
    {
      "cell_type": "markdown",
      "metadata": {
        "id": "fHY-ou2KawX1",
        "colab_type": "text"
      },
      "source": [
        "## In-place operators\n",
        "\n",
        "Python also supports **in place** version of all these operators. An in-place version of an operator is written by adding the '=' sign after it, and has the effect of automatically assign the result of the operation to the variable itself. For example:\n",
        "\n",
        "\n",
        "```\n",
        "a = a + 5 \n",
        "```\n",
        "\n",
        "can be written as\n",
        "\n",
        "\n",
        "\n",
        "```\n",
        "a += 5\n",
        "```\n",
        "\n",
        "and same with -=, *=, /=  etc..."
      ]
    },
    {
      "cell_type": "code",
      "metadata": {
        "id": "w-ZRaZ79a7B2",
        "colab_type": "code",
        "colab": {}
      },
      "source": [
        "a = 10\n",
        "a -= 7\n",
        "a *= 2\n",
        "print(a)"
      ],
      "execution_count": null,
      "outputs": []
    },
    {
      "cell_type": "markdown",
      "metadata": {
        "id": "fnpgQeXnqP5U",
        "colab_type": "text"
      },
      "source": [
        "# Boolean variables and logical operators\n",
        "\n",
        "A logical expression has the **boolean** type, that is it can be **True** or **False**.\n",
        "\n",
        "To work with logical expressions python provides:\n",
        "\n",
        "- The logical operators: **or**, **and**, **not**\n",
        "- The comparison operators (==, !=, >, <, >=, <=)\n",
        "\n",
        "*Warning*: do not confuse the assignment operator '=' with the equality operator '=='"
      ]
    },
    {
      "cell_type": "code",
      "metadata": {
        "id": "4YPV54wy87ks",
        "colab_type": "code",
        "colab": {
          "base_uri": "https://localhost:8080/",
          "height": 53
        },
        "outputId": "689e1076-a779-453f-be1d-cf216ef18baf"
      },
      "source": [
        "a = (3 > 2) # the prenthesis is not really required, it's just for readibility\n",
        "print(a)\n",
        "print(not a)\n"
      ],
      "execution_count": 2,
      "outputs": [
        {
          "output_type": "stream",
          "text": [
            "True\n",
            "False\n"
          ],
          "name": "stdout"
        }
      ]
    },
    {
      "cell_type": "code",
      "metadata": {
        "id": "CUP0mYxPby6f",
        "colab_type": "code",
        "colab": {
          "base_uri": "https://localhost:8080/",
          "height": 72
        },
        "outputId": "c6c56048-02c7-4521-d6f2-2bced85b53cc"
      },
      "source": [
        "b = (2 == 5)  # the prenthesis is not really required, it's just for readibility\n",
        "print(b)\n",
        "print(a or b)\n",
        "print(a and b)"
      ],
      "execution_count": 3,
      "outputs": [
        {
          "output_type": "stream",
          "text": [
            "False\n",
            "True\n",
            "False\n"
          ],
          "name": "stdout"
        }
      ]
    },
    {
      "cell_type": "code",
      "metadata": {
        "id": "-GVSSPlrWXWS",
        "colab_type": "code",
        "colab": {}
      },
      "source": [
        "# Quiz: what is the result of this operation?\n",
        "input_value = 5\n",
        "result = (not(input_value >= 5)) or ((input_value % 3 == 2) and (input_value != 5))"
      ],
      "execution_count": 4,
      "outputs": []
    },
    {
      "cell_type": "code",
      "metadata": {
        "id": "5T0F7GR7WkPH",
        "colab_type": "code",
        "colab": {}
      },
      "source": [
        "print(result)"
      ],
      "execution_count": null,
      "outputs": []
    },
    {
      "cell_type": "markdown",
      "metadata": {
        "id": "pH9sxEScX1Xg",
        "colab_type": "text"
      },
      "source": [
        "#Control flow\n",
        "\n",
        "A programming language would be only marginally useful without the ability to conditionally execute different instructions (e.g. based on user input). In programming, this is generically called **control flow**. The most basilar control flow in Python is realized through the if - else statement. Ths syntax is:\n",
        "\n",
        "```\n",
        "if condition:\n",
        "    do this\n",
        "else:\n",
        "    do that\n",
        "```\n",
        "\n",
        "After the if statement, the Python interpreter expects an indented block (you will get an error if there isn't one), which can be made of a sngle line or serveral ones. All the lines inside the block are executed if and only if the condition is true."
      ]
    },
    {
      "cell_type": "code",
      "metadata": {
        "id": "ov8pLfynAFpU",
        "colab_type": "code",
        "colab": {}
      },
      "source": [
        "a = 3\n",
        "if a == 3: # don't forget the colon\n",
        "    print('a is equal to 3')\n",
        "    print('This line is inside the if block')\n",
        "else: # The else statement is optional\n",
        "    print('a is not equal to 3')\n",
        "    print('This line is inside the else block')"
      ],
      "execution_count": null,
      "outputs": []
    },
    {
      "cell_type": "markdown",
      "metadata": {
        "id": "baAuxA0KZQVr",
        "colab_type": "text"
      },
      "source": [
        "Another control flow statement is **while**. As the name says, it repeats a block of code while a given condition is met."
      ]
    },
    {
      "cell_type": "code",
      "metadata": {
        "id": "Vb9xHcql8pWX",
        "colab_type": "code",
        "colab": {}
      },
      "source": [
        "a = 10\n",
        "while a > 1:\n",
        "  print(a)\n",
        "  a -= 1\n",
        "print(a)"
      ],
      "execution_count": null,
      "outputs": []
    },
    {
      "cell_type": "markdown",
      "metadata": {
        "id": "SOXbeGl5WwDp",
        "colab_type": "text"
      },
      "source": [
        "We will see another operator for control flow, the **for** operator, after we have introduced a few data structures."
      ]
    }
  ]
}