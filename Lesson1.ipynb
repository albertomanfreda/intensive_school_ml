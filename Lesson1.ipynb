{
  "nbformat": 4,
  "nbformat_minor": 0,
  "metadata": {
    "colab": {
      "name": "Lesson1.ipynb",
      "provenance": [],
      "collapsed_sections": [],
      "toc_visible": true,
      "authorship_tag": "ABX9TyNwwd1r3F2PA5yzD8jWpWrN",
      "include_colab_link": true
    },
    "kernelspec": {
      "name": "python3",
      "display_name": "Python 3"
    }
  },
  "cells": [
    {
      "cell_type": "markdown",
      "metadata": {
        "id": "view-in-github",
        "colab_type": "text"
      },
      "source": [
        "<a href=\"https://colab.research.google.com/github/albertomanfreda/intensive_school_ml/blob/master/Lesson1.ipynb\" target=\"_parent\"><img src=\"https://colab.research.google.com/assets/colab-badge.svg\" alt=\"Open In Colab\"/></a>"
      ]
    },
    {
      "cell_type": "markdown",
      "metadata": {
        "id": "fpi1NH0l19Ck",
        "colab_type": "text"
      },
      "source": [
        "# Statements, comments and indentation\n",
        "\n",
        "Instructions that a Python interpreter can execute are called **statements**\n",
        "A statement in Python ends with a newline.\n",
        "  - You can split it over multiple lines using the symbol '\\\\' \n",
        "  - A statement is also automatically continued on the next line if a parenthesis is left open\n",
        "\n",
        "A **comment** in Python starts with the '#' symbol. Comments are ignored by the\n",
        "interpreter, and are useful to document your code.\n",
        "\n",
        "Multiline comments can be written by enclosing them with \"\"\" (3 times \")."
      ]
    },
    {
      "cell_type": "code",
      "metadata": {
        "id": "Qx2MkID42utk",
        "colab_type": "code",
        "colab": {
          "base_uri": "https://localhost:8080/",
          "height": 35
        },
        "outputId": "a059c56e-2d8c-4ded-f6a2-13a902b99ef8"
      },
      "source": [
        "# This is a comment on a single line\n",
        "\"\"\" This is a comment spanning multiple\n",
        "lines. \"\"\"\n",
        "# The following line is a valid Python statement:\n",
        "print('Hello world') # You can also comment at the end of a statement like this"
      ],
      "execution_count": 6,
      "outputs": [
        {
          "output_type": "stream",
          "text": [
            "Hello world\n"
          ],
          "name": "stdout"
        }
      ]
    },
    {
      "cell_type": "markdown",
      "metadata": {
        "id": "03igr16ziYEb",
        "colab_type": "text"
      },
      "source": [
        "In the above example 'Hello world' is a **string**, that is a sequence of characters. We will talk more about strings later. "
      ]
    },
    {
      "cell_type": "code",
      "metadata": {
        "id": "9eG_CDnt362z",
        "colab_type": "code",
        "colab": {}
      },
      "source": [
        "\"\"\" The following is a multiline statement (note how I indented the second line \n",
        "to make it easier to read): \"\"\"\n",
        "a = 5 + \\\n",
        "    2\n",
        "# You don't actually need the '\\' when a parenthesis is open\n",
        "b = 3 * (a +\n",
        "         1)"
      ],
      "execution_count": 8,
      "outputs": []
    },
    {
      "cell_type": "markdown",
      "metadata": {
        "id": "CmuKEdV248Nd",
        "colab_type": "text"
      },
      "source": [
        "Python will ignore any number of empty spaces inside a statement. That is why I\n",
        "could indent the second line before without problem.\n",
        "\n",
        "Normally, however, indentation of the lines **is** very relevant. Python uses indentation to understand when a block of code begins and ends,\n",
        "so you can only indent when the rules require it. Indentation can be made of an\n",
        "arbitrary number of spaces, but 4 spaces is what is generally used."
      ]
    },
    {
      "cell_type": "code",
      "metadata": {
        "id": "kXHW1m9xFbb0",
        "colab_type": "code",
        "colab": {
          "base_uri": "https://localhost:8080/",
          "height": 137
        },
        "outputId": "4f98f9aa-14dd-46a1-f685-1c462864518c"
      },
      "source": [
        "# The spaces inside the next line will be ignored\n",
        "a    =    5\n",
        "# However, indenting like this will produce an error\n",
        "    a = 5"
      ],
      "execution_count": 5,
      "outputs": [
        {
          "output_type": "error",
          "ename": "IndentationError",
          "evalue": "ignored",
          "traceback": [
            "\u001b[0;36m  File \u001b[0;32m\"<ipython-input-5-2f1686e08a5b>\"\u001b[0;36m, line \u001b[0;32m4\u001b[0m\n\u001b[0;31m    a = 5\u001b[0m\n\u001b[0m    ^\u001b[0m\n\u001b[0;31mIndentationError\u001b[0m\u001b[0;31m:\u001b[0m unexpected indent\n"
          ]
        }
      ]
    },
    {
      "cell_type": "markdown",
      "metadata": {
        "id": "WSOByh_nM584",
        "colab_type": "text"
      },
      "source": [
        "En passant, note how the error message points you nicely to the source of the problem. Useful error messages are one of the beauties of Python."
      ]
    },
    {
      "cell_type": "markdown",
      "metadata": {
        "id": "naljf_7zFbtZ",
        "colab_type": "text"
      },
      "source": [
        "# Variables and assignment\n",
        "\n",
        "A statment like 'a = 5' is called an **assignment statement**.\n",
        "It assignes the value of the **expression** on the right to a **variable**.\n",
        "In this case the variable 'a' is created. You don't need to specify a type, like in other languages: the interpreter will figure out the proper type by itself."
      ]
    },
    {
      "cell_type": "code",
      "metadata": {
        "id": "T_A98vGdHBKy",
        "colab_type": "code",
        "colab": {
          "base_uri": "https://localhost:8080/",
          "height": 90
        },
        "outputId": "e05c4e81-9d0e-4223-da55-2a36747a732a"
      },
      "source": [
        "a = 5\n",
        "# We can inspect the content of the variable with the print() function\n",
        "print(a)\n",
        "# and its type with type()\n",
        "print(type(a))\n",
        "\n",
        "# Let's see what happens if we assign a real number\n",
        "b = 5.5\n",
        "# The interpreter will create a variable with a different type\n",
        "print(type(b))\n",
        "\n",
        "# We can even reassign the same variable name to a different value\n",
        "a = 'a_string'\n",
        "print(type(a))\n"
      ],
      "execution_count": 9,
      "outputs": [
        {
          "output_type": "stream",
          "text": [
            "5\n",
            "<class 'int'>\n",
            "<class 'float'>\n",
            "<class 'str'>\n"
          ],
          "name": "stdout"
        }
      ]
    },
    {
      "cell_type": "markdown",
      "metadata": {
        "id": "_txfoZuBQpc1",
        "colab_type": "text"
      },
      "source": [
        "As we have just seen, variables in Python do not need to be declared beforehand: they are just created by assigning something to them.\n",
        "\n",
        "A variable name can be whatever the user prefers, except for a number of **keywords**, which are reserved because they have a special meaning in the language. The other rules for variable names are:\n",
        "\n",
        "- A variable name must start with a letter or the underscore character\n",
        "- A variable name cannot start with a number\n",
        "- A variable name can only contain alpha-numeric characters and underscores (A-z, 0-9, and _ )\n",
        "- Variable names are case-sensitive (age, Age and AGE are three different variables)\n"
      ]
    },
    {
      "cell_type": "code",
      "metadata": {
        "id": "kjzBPFzlRWKq",
        "colab_type": "code",
        "colab": {}
      },
      "source": [
        "# You can get the list of reserved keywords with the following two lines:\n",
        "import keyword\n",
        "keyword.kwlist"
      ],
      "execution_count": null,
      "outputs": []
    },
    {
      "cell_type": "markdown",
      "metadata": {
        "id": "wiY8bpGyraCS",
        "colab_type": "text"
      },
      "source": [
        "A useful way to think about variables in Python is in terms of tags, or links. When you assign the result of an expression to a variable, the result of that expression is written somewhere in memory and you are putting a tag on (or creating a link to) that memory space, which can be later used to access it. For this reason, variables are also called **references**.\n",
        "\n",
        "*Warning*: assigning a variable to another, **does not copy its value**, it merely puts a second tag on the same memory space. So if you change one, the other will change as well."
      ]
    },
    {
      "cell_type": "markdown",
      "metadata": {
        "id": "gar6ax9gPQtx",
        "colab_type": "text"
      },
      "source": [
        "# Mathematical operators\n",
        "\n",
        "Python natively supports:\n",
        "- Basic math operators: +, -, \\*, /\n",
        "- % (modulus)\n",
        "- \\** (exponent)\n",
        "- \\\\\\ (floor division)"
      ]
    },
    {
      "cell_type": "code",
      "metadata": {
        "id": "Jum4ArrxPuw2",
        "colab_type": "code",
        "colab": {}
      },
      "source": [
        "print(\"3 + 2 =\", 3 + 2)\n",
        "print(\"3 / 2 =\", 3 / 2) # Return a floating point number in Python 3\n",
        "print(\"3 // 2 =\", 3 // 2) # Return the result rounded down\n",
        "print(\"-3 // 2 =\", -3 // 2) # Surprised by the result?\n",
        "print(\"3 % 2 =\", 3 % 2)\n",
        "print(\"3**2 =\", 3**2)"
      ],
      "execution_count": null,
      "outputs": []
    },
    {
      "cell_type": "markdown",
      "metadata": {
        "id": "fHY-ou2KawX1",
        "colab_type": "text"
      },
      "source": [
        "## In-place operators\n",
        "\n",
        "Python also supports **in place** version of all these operators. An in-place version of an operator is written by adding the '=' sign after it, and has the effect of automatically assign the result of the operation to the variable itself. For example:\n",
        "\n",
        "\n",
        "```\n",
        "a = a + 5 \n",
        "```\n",
        "\n",
        "can be written as\n",
        "\n",
        "\n",
        "\n",
        "```\n",
        "a += 5\n",
        "```\n",
        "\n",
        "and same with -=, *=, /=  etc..."
      ]
    },
    {
      "cell_type": "code",
      "metadata": {
        "id": "w-ZRaZ79a7B2",
        "colab_type": "code",
        "colab": {}
      },
      "source": [
        "a = 10\n",
        "a -= 7\n",
        "a *= 2\n",
        "print(a)"
      ],
      "execution_count": null,
      "outputs": []
    },
    {
      "cell_type": "markdown",
      "metadata": {
        "id": "fnpgQeXnqP5U",
        "colab_type": "text"
      },
      "source": [
        "# Boolean variables and logical operators\n",
        "\n",
        "A logical expression has the **boolean** type, that is it can be **True** or **False**.\n",
        "\n",
        "To work with logical expressions python provides:\n",
        "\n",
        "- The logical operators: **or**, **and**, **not**\n",
        "- The comparison operators (==, !=, >, <, >=, <=)\n",
        "\n",
        "*Warning*: do not confuse the assignment operator '=' with the equality operator '=='"
      ]
    },
    {
      "cell_type": "code",
      "metadata": {
        "id": "4YPV54wy87ks",
        "colab_type": "code",
        "colab": {
          "base_uri": "https://localhost:8080/",
          "height": 53
        },
        "outputId": "3c3db947-c754-4d1e-a3e3-aff82792bec7"
      },
      "source": [
        "a = (3 > 2) # the prenthesis is not really required, it's just for readibility\n",
        "print(a)\n",
        "print(not a)\n"
      ],
      "execution_count": 18,
      "outputs": [
        {
          "output_type": "stream",
          "text": [
            "True\n",
            "False\n"
          ],
          "name": "stdout"
        }
      ]
    },
    {
      "cell_type": "code",
      "metadata": {
        "id": "CUP0mYxPby6f",
        "colab_type": "code",
        "colab": {
          "base_uri": "https://localhost:8080/",
          "height": 72
        },
        "outputId": "34b61251-1fa9-41f9-f770-0a89037d569c"
      },
      "source": [
        "a = (3 > 2) \n",
        "b = (2 == 5)  # the prenthesis is not really required, it's just for readibility\n",
        "print(b)\n",
        "print(a or b)\n",
        "print(a and b)"
      ],
      "execution_count": 19,
      "outputs": [
        {
          "output_type": "stream",
          "text": [
            "False\n",
            "True\n",
            "False\n"
          ],
          "name": "stdout"
        }
      ]
    },
    {
      "cell_type": "code",
      "metadata": {
        "id": "-GVSSPlrWXWS",
        "colab_type": "code",
        "colab": {}
      },
      "source": [
        "# Quiz: what is the result of this operation?\n",
        "input_value = 5\n",
        "result = (not(input_value >= 5)) or ((input_value % 3 == 2) and (input_value != 5))"
      ],
      "execution_count": 4,
      "outputs": []
    },
    {
      "cell_type": "code",
      "metadata": {
        "id": "5T0F7GR7WkPH",
        "colab_type": "code",
        "colab": {}
      },
      "source": [
        "print(result)"
      ],
      "execution_count": null,
      "outputs": []
    },
    {
      "cell_type": "markdown",
      "metadata": {
        "id": "qIPz7bhhHI-9",
        "colab_type": "text"
      },
      "source": [
        "# Control flow\n",
        "\n",
        "A programming language would be only marginally useful without the ability to conditionally execute different instructions (e.g. based on user input). In programming, this is generically called **control flow**. "
      ]
    },
    {
      "cell_type": "markdown",
      "metadata": {
        "id": "pH9sxEScX1Xg",
        "colab_type": "text"
      },
      "source": [
        "## If - else statement\n",
        "\n",
        "The most basic control flow in Python is realized through the **if** - **else** statement. Ths syntax is:\n",
        "\n",
        "```\n",
        "if condition:\n",
        "    do this\n",
        "elif other_condition:\n",
        "    do this\n",
        "elif yet_another_condition:\n",
        "    do this\n",
        "(... as many elif blocks as you need ...)\n",
        "else:\n",
        "    do that\n",
        "```\n",
        "\n",
        "where all the **elif** and the **else** blocks are optional. \n",
        "\n",
        "After the if statement, the Python interpreter expects an indented block (you will get an error if there isn't one), which can be made of a sngle line or serveral ones. All the lines inside the block are executed if and only if the condition is true.\n",
        "\n",
        "Overall the execution flow is:\n",
        "\n",
        "1.  If the **if** condition is true, then the **if** block is executed; after that, the execution jumps at the end (nor the **elif**, nor the **else** blocks are executed)\n",
        "2.  If the **if** condition is false, than the **if** block is not executed and the first **elif** condition (if any) is checked. \n",
        "3. Point 1 or 2 are repeated for each **elif** block sequentially, until one of the **elif** block is executed or their conditions are all checked to be false\n",
        "4. If none of the **if** or **elif** block was executed, the **else** block (if any) is.\n"
      ]
    },
    {
      "cell_type": "code",
      "metadata": {
        "id": "ov8pLfynAFpU",
        "colab_type": "code",
        "colab": {}
      },
      "source": [
        "# You can test what happens by changing the value of 'a' here\n",
        "a = 3\n",
        "if a == 3: # don't forget the colon\n",
        "    print('a is equal to 3')\n",
        "    print('This line is inside the if block too')\n",
        "elif a == 4:\n",
        "    print('a is equal to 4')\n",
        "    print('This line is inside the first elif block')\n",
        "elif a >= 5:\n",
        "    print('a is greater than (or equal to) 5')\n",
        "    print('This line is inside the second elif block')\n",
        "elif a == 6:\n",
        "    print('This line will never get executed')\n",
        "else:\n",
        "    print('This line is inside the else block')"
      ],
      "execution_count": null,
      "outputs": []
    },
    {
      "cell_type": "markdown",
      "metadata": {
        "id": "baAuxA0KZQVr",
        "colab_type": "text"
      },
      "source": [
        "## While loop\n",
        "Another control flow statement is **while**. As the name suggests, it repeats the execution of a block of code while a given condition is met, and stops when it becomes false.\n",
        "\n",
        "The syntax is:\n",
        "\n",
        "```\n",
        "while condition:_\n",
        "    do this\n",
        "```\n",
        "\n"
      ]
    },
    {
      "cell_type": "code",
      "metadata": {
        "id": "Vb9xHcql8pWX",
        "colab_type": "code",
        "colab": {
          "base_uri": "https://localhost:8080/",
          "height": 217
        },
        "outputId": "69358fdb-9de5-403b-9c55-3fcd00db7bf8"
      },
      "source": [
        "i = 10\n",
        "while (i > 1): # The parenthesis are anly for readibility\n",
        "  print(i)\n",
        "  i -= 1\n",
        "# After the end of the loop, the execution continues as usual \n",
        "print('Loop ended')\n",
        "print('The final value of i is: ', i)"
      ],
      "execution_count": 23,
      "outputs": [
        {
          "output_type": "stream",
          "text": [
            "10\n",
            "9\n",
            "8\n",
            "7\n",
            "6\n",
            "5\n",
            "4\n",
            "3\n",
            "2\n",
            "Loop ended\n",
            "The final value of i is:  1\n"
          ],
          "name": "stdout"
        }
      ]
    },
    {
      "cell_type": "markdown",
      "metadata": {
        "id": "9JZhwOmyvzp8",
        "colab_type": "text"
      },
      "source": [
        "## For loop\n",
        "Differently from **while**, the **for** statement repeat a block of code a fied number of times.\n",
        "The syntax is:\n",
        "\n",
        "\n",
        "```\n",
        "for variable in range(num_executions):\n",
        "    do this\n",
        "```\n",
        "\n",
        "The block of code will be executed a number of times equal to num_executions. At each iteration *variable* will assume a value equal to the current iteration index, starting from 0 to *num_execution* -1."
      ]
    },
    {
      "cell_type": "code",
      "metadata": {
        "id": "65I1n69xATu2",
        "colab_type": "code",
        "colab": {
          "base_uri": "https://localhost:8080/",
          "height": 199
        },
        "outputId": "b4d2aeab-c9a6-42c7-d4dd-af0d564063da"
      },
      "source": [
        "for i in range(10):\n",
        "    print(i)"
      ],
      "execution_count": 11,
      "outputs": [
        {
          "output_type": "stream",
          "text": [
            "0\n",
            "1\n",
            "2\n",
            "3\n",
            "4\n",
            "5\n",
            "6\n",
            "7\n",
            "8\n",
            "9\n"
          ],
          "name": "stdout"
        }
      ]
    },
    {
      "cell_type": "markdown",
      "metadata": {
        "id": "uMTy6CMIAbTp",
        "colab_type": "text"
      },
      "source": [
        "Actually, **range** accepts up to three arguments, separated by a comma: *start*, *stop* and *step*. Only *stop* is mandatory.\n",
        "The loop variable will assume all the values from *start* (included) to *stop* (excluded) in jumps of *step*."
      ]
    },
    {
      "cell_type": "code",
      "metadata": {
        "id": "XWP292ZMA2KM",
        "colab_type": "code",
        "colab": {
          "base_uri": "https://localhost:8080/",
          "height": 108
        },
        "outputId": "8fb49b80-e069-4445-c484-92910d5a4be6"
      },
      "source": [
        "for i in range(2, 7):\n",
        "    print(i)"
      ],
      "execution_count": 17,
      "outputs": [
        {
          "output_type": "stream",
          "text": [
            "2\n",
            "3\n",
            "4\n",
            "5\n",
            "6\n"
          ],
          "name": "stdout"
        }
      ]
    },
    {
      "cell_type": "markdown",
      "metadata": {
        "id": "-GG4MOjoBHPo",
        "colab_type": "text"
      },
      "source": [
        "**Note**: since the *stop* element is excluded and the *start* is included, the number of iterations you get (assuming *step* is 1) is equal to the difference between *stop* and *start*."
      ]
    },
    {
      "cell_type": "code",
      "metadata": {
        "id": "RAg1QH0vBQAm",
        "colab_type": "code",
        "colab": {
          "base_uri": "https://localhost:8080/",
          "height": 217
        },
        "outputId": "b0b36538-70b9-4b6a-f813-155f09f8f760"
      },
      "source": [
        "# Print all the even numbers up to 20\n",
        "for i in range(0, 21, 2):\n",
        "    print(i)"
      ],
      "execution_count": 16,
      "outputs": [
        {
          "output_type": "stream",
          "text": [
            "0\n",
            "2\n",
            "4\n",
            "6\n",
            "8\n",
            "10\n",
            "12\n",
            "14\n",
            "16\n",
            "18\n",
            "20\n"
          ],
          "name": "stdout"
        }
      ]
    },
    {
      "cell_type": "code",
      "metadata": {
        "id": "FafujdSoIFwB",
        "colab_type": "code",
        "colab": {
          "base_uri": "https://localhost:8080/",
          "height": 199
        },
        "outputId": "17341836-32ef-42c7-ddfb-a14b175351a3"
      },
      "source": [
        "# You can also loop backward with a negative step\n",
        "for i in range(10, 0, -1):\n",
        "    print(i)"
      ],
      "execution_count": 24,
      "outputs": [
        {
          "output_type": "stream",
          "text": [
            "10\n",
            "9\n",
            "8\n",
            "7\n",
            "6\n",
            "5\n",
            "4\n",
            "3\n",
            "2\n",
            "1\n"
          ],
          "name": "stdout"
        }
      ]
    }
  ]
}