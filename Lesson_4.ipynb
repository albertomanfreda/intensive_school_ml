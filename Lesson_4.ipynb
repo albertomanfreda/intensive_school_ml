{
  "nbformat": 4,
  "nbformat_minor": 0,
  "metadata": {
    "colab": {
      "name": "Lesson 4.ipynb",
      "provenance": [],
      "collapsed_sections": [],
      "authorship_tag": "ABX9TyPYzMR18W7VWFiagWa6zXMC",
      "include_colab_link": true
    },
    "kernelspec": {
      "name": "python3",
      "display_name": "Python 3"
    }
  },
  "cells": [
    {
      "cell_type": "markdown",
      "metadata": {
        "id": "view-in-github",
        "colab_type": "text"
      },
      "source": [
        "<a href=\"https://colab.research.google.com/github/albertomanfreda/intensive_school_ml/blob/master/Lesson_4.ipynb\" target=\"_parent\"><img src=\"https://colab.research.google.com/assets/colab-badge.svg\" alt=\"Open In Colab\"/></a>"
      ]
    },
    {
      "cell_type": "markdown",
      "metadata": {
        "id": "9qA7_CgHRm_o",
        "colab_type": "text"
      },
      "source": [
        "# File handling"
      ]
    },
    {
      "cell_type": "markdown",
      "metadata": {
        "id": "ryUkibfNRqD1",
        "colab_type": "text"
      },
      "source": [
        "## Text files and binary files\n",
        "\n",
        "A **text file** is a computer file that only contains plain text - that is a sequence of binary representations of characters, in some **encoding**. The term is often used in opposition to **binary file**, which may contain any kind of binary sequence. Images, audio, executables etc, are all binary files in this respect. Microsoft Office / Libre Office documents (e.g. Word) or pdf files are also **not** text files, even thought they contain text. That's because they always also store other informations about formatting, page structures and so on. Conversely, a plain text file cannot use special formatting, such as bold or italic, nor can it host tables or images.\n",
        "\n",
        "Conventionally, text files have the *.txt* extension, though that is by no mean a rule (nor a guarantee). Source code files, like Python scripts with the *.py* extension or C code files with the *.c* extension, are also text files. Another common extension is *.csv* (Comma-separated Values).\n",
        "\n",
        "Mind that, even when a *.txt* or *.csv* file contains numbers, their internal representation is much different from what it would be in a binary file, as each digits of the number is represented as a distinct text character, with the corrisponding bit sequence. For example, in a text file with ASCII encoding,the number 17 will be represented as the encoding for number 1 (00011111), followed by that for number 7 (00100101). This is much different from the binary representation of the integer number 17 (00010001). Of course, the same difference exists between the string '17' and the integer number 17: they are very different objects in memory!\n",
        "\n",
        "Python supports operation on both text or binary files. However we will mostly talk about text files, here.\n",
        "\n",
        "**Note**: There are many possible encodings for text files (ASCII, UTF-8, ANSI, UTF-16, etc...) and different OS uses different default encodings. On top of that, there is also the issue of **endianess**, that is the order of bytes inside a word of multiple bytes. Again, different devices (hard disk, network, etc...) may use different endianess. Discussing these kind of crazyness will take hours, but hopefully you need not to care about that most of the time, unless you are working with files produced by different systems. In that case, be ready to bite the bullet.\n"
      ]
    },
    {
      "cell_type": "markdown",
      "metadata": {
        "id": "I78TCAu1RMlM",
        "colab_type": "text"
      },
      "source": [
        "## Opening and closing files\n",
        "\n",
        "They can be opened in Python with the *open()* function, which takes as input the file path and a *mode* specifier, which is one of the following:\n",
        "\n",
        "|  |  |\n",
        "|-----|-----|\n",
        "| \"r\" | open for reading (default), returns an error if the file does not exist|\n",
        "| \"a\" | open for writing, appending to the end of the file if it exists, creating it if not|\n",
        "| \"w\" | open for writing, creates the file if it does not exist|\n",
        "| \"x\" | open for exclusive creation, returns an error if the file exists|\n",
        "| \"+\" | open for updating (reading and writing)|\n",
        "\n",
        "\n",
        "In addition you can specify if the file should be handled as binary or text mode:\n",
        "\n",
        "|  |  |\n",
        "|-----|-----|\n",
        "| \"t\" | Text - Default value. Text mode\n",
        "| \"b\" | Binary - Binary mode\n",
        "\n",
        "*open()* returns a handle to the file, which you can use to operate on it."
      ]
    },
    {
      "cell_type": "code",
      "metadata": {
        "id": "UvHs13QlRaKn",
        "colab_type": "code",
        "colab": {}
      },
      "source": [
        "# Open a text file in 'write' mode (creates it the first time)\n",
        "# Note: if the file exists it will be overwritten\n",
        "new_file = open('my_file.txt', 'wt')\n",
        "# Write some text to it\n",
        "new_file.write('Welcome to the Intensive School for advanced Graduate Studies - Machine Learning\\n')\n",
        "new_file.write('This is a sample line\\n')\n",
        "new_file.write('This is another sample line\\n')\n",
        "# Close it\n",
        "new_file.close()"
      ],
      "execution_count": 34,
      "outputs": []
    },
    {
      "cell_type": "code",
      "metadata": {
        "id": "NIcv_RekpZqI",
        "colab_type": "code",
        "colab": {
          "base_uri": "https://localhost:8080/",
          "height": 126
        },
        "outputId": "c088f330-f874-4da2-dcbc-83bf555a3ef4"
      },
      "source": [
        "# Reopen it in 'read' mode\n",
        "prev_file = open('my_file.txt', 'r')\n",
        "# Read will read the specified number of bytes\n",
        "print(prev_file.read(7))\n",
        "print(prev_file.read(7))\n",
        "# See where we are in the file (byte position)\n",
        "print(prev_file.tell())\n",
        "# Go to a specific position (in this case right after the first character)\n",
        "prev_file.seek(1)\n",
        "# Read all charcters until the newline \n",
        "print(prev_file.readline())\n",
        "# Read all the remaining lines: return a list of strings, one per line\n",
        "print(prev_file.readlines())\n",
        "#Close the file\n",
        "prev_file.close()"
      ],
      "execution_count": 33,
      "outputs": [
        {
          "output_type": "stream",
          "text": [
            "Welcome\n",
            " to the\n",
            "14\n",
            "elcome to the Intensive School for advanced Graduate Studies - Machine Learning\n",
            "\n",
            "['This is a sample line\\n', 'This is another sample line\\n']\n"
          ],
          "name": "stdout"
        }
      ]
    },
    {
      "cell_type": "markdown",
      "metadata": {
        "id": "AxiXe0y7pzBg",
        "colab_type": "text"
      },
      "source": [
        "Files in python supports for-loop iteration line by line"
      ]
    },
    {
      "cell_type": "code",
      "metadata": {
        "id": "4TScuUY7pcYk",
        "colab_type": "code",
        "colab": {
          "base_uri": "https://localhost:8080/",
          "height": 126
        },
        "outputId": "181dc6c2-7296-4fa2-ebbd-861bfaadeb7d"
      },
      "source": [
        "prev_file = open('my_file.txt')\n",
        "for line in prev_file:\n",
        "    print(line)\n",
        "prev_file.close()"
      ],
      "execution_count": 37,
      "outputs": [
        {
          "output_type": "stream",
          "text": [
            "Welcome to the Intensive School for advanced Graduate Studies - Machine Learning\n",
            "\n",
            "This is a sample line\n",
            "\n",
            "This is another sample line\n",
            "\n"
          ],
          "name": "stdout"
        }
      ]
    },
    {
      "cell_type": "markdown",
      "metadata": {
        "id": "IPVAyzByvENR",
        "colab_type": "text"
      },
      "source": [
        "## Context managers\n",
        "\n",
        "Having to remeber to close the file all the time is annoying. Also, what happens if an error occurs while we are operating on the file? The close line will never gt executed! Although eventually Python will release the resources for us in any case, there is a much safer way to control exactly when a file is closed: the **with** statement. A construct like **with**, that executes automatically some operations when entering and exiting a code block, si called a **context manager**."
      ]
    },
    {
      "cell_type": "code",
      "metadata": {
        "id": "KtE2ppWywn8l",
        "colab_type": "code",
        "colab": {}
      },
      "source": [
        "\"\"\" The file is automatically closed at the end of the indented block,\n",
        "no matter what.\"\"\"\n",
        "with open('my_file.txt', 'r') as my_file:\n",
        "    print(my_file.readline())\n",
        "\n",
        "# No need to close the file!"
      ],
      "execution_count": null,
      "outputs": []
    },
    {
      "cell_type": "markdown",
      "metadata": {
        "id": "C_zS5tp1LqL0",
        "colab_type": "text"
      },
      "source": [
        "One-line summary: you should always use **with** when working with a file."
      ]
    }
  ]
}