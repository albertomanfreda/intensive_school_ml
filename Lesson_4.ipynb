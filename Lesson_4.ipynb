{
  "nbformat": 4,
  "nbformat_minor": 0,
  "metadata": {
    "colab": {
      "name": "Lesson 4.ipynb",
      "provenance": [],
      "authorship_tag": "ABX9TyPhOh0uii7BuIyfAvF9n1z9",
      "include_colab_link": true
    },
    "kernelspec": {
      "name": "python3",
      "display_name": "Python 3"
    }
  },
  "cells": [
    {
      "cell_type": "markdown",
      "metadata": {
        "id": "view-in-github",
        "colab_type": "text"
      },
      "source": [
        "<a href=\"https://colab.research.google.com/github/albertomanfreda/intensive_school_ml/blob/master/Lesson_4.ipynb\" target=\"_parent\"><img src=\"https://colab.research.google.com/assets/colab-badge.svg\" alt=\"Open In Colab\"/></a>"
      ]
    },
    {
      "cell_type": "markdown",
      "metadata": {
        "id": "9qA7_CgHRm_o",
        "colab_type": "text"
      },
      "source": [
        "# File handling"
      ]
    },
    {
      "cell_type": "markdown",
      "metadata": {
        "id": "ryUkibfNRqD1",
        "colab_type": "text"
      },
      "source": [
        "## Text files\n",
        "\n",
        "A **text file** is a computer file that only contains text and has no special formatting such as bold text, italic text, images, etc. That means Microsoft Office documents (e.g. Word) or pdf files are **not** text files, though they contains text. For that reason the name **plain text files** is sometimes used.\n",
        "\n",
        "Conventionally, text files have the *.txt* extension, though that is by no mean a rule (nor a guarantee). Another common extension is *.csv* (Comma-separated Values).\n",
        "\n",
        "Text files can be opened with the "
      ]
    }
  ]
}