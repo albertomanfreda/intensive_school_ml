{
  "nbformat": 4,
  "nbformat_minor": 0,
  "metadata": {
    "colab": {
      "name": "LessonMatplotlib.ipynb",
      "provenance": [],
      "collapsed_sections": [],
      "authorship_tag": "ABX9TyOPED7fZ/I8TNTyUFxyplGD",
      "include_colab_link": true
    },
    "kernelspec": {
      "name": "python3",
      "display_name": "Python 3"
    }
  },
  "cells": [
    {
      "cell_type": "markdown",
      "metadata": {
        "id": "view-in-github",
        "colab_type": "text"
      },
      "source": [
        "<a href=\"https://colab.research.google.com/github/albertomanfreda/intensive_school_ml/blob/master/LessonMatplotlib.ipynb\" target=\"_parent\"><img src=\"https://colab.research.google.com/assets/colab-badge.svg\" alt=\"Open In Colab\"/></a>"
      ]
    },
    {
      "cell_type": "markdown",
      "metadata": {
        "id": "jhD_z9uT8f6e",
        "colab_type": "text"
      },
      "source": [
        "# Matplotlib\n",
        "\n",
        "**Matplolitb** is a Python library for plotting, based on NumPy.\n",
        "Most of its functionalities are accessed through the **pyplot** interface."
      ]
    },
    {
      "cell_type": "code",
      "metadata": {
        "id": "ShqCQf5b9_Fx",
        "colab_type": "code",
        "colab": {}
      },
      "source": [
        "\"\"\" The following is a special notebook command which specified how matplotlib\n",
        "figures are displayed in the notebook\"\"\"\n",
        "%matplotlib inline\n",
        "# The standard pyplot import\n",
        "from matplotlib import pyplot as plt"
      ],
      "execution_count": null,
      "outputs": []
    },
    {
      "cell_type": "markdown",
      "metadata": {
        "id": "_AX98oTx-KXI",
        "colab_type": "text"
      },
      "source": [
        "A basic concept in Matplotlib is that of **figure**, which is the windows where everything is drawn. Inside a figure there may be one ore multiple **axes**, that contains the graphical objects: axis, lines, shapes etc... \n",
        "\n",
        "Figures are created with the *figure()* command. When a figure is created, an axes is automatically created into it (so we do not have to do that manually).\n",
        "\n",
        "You can create multiple figures, but only one of them can be active at a time (by default the last that was created). plt commands always act on the currently active figure.\n",
        "\n",
        "Matplotlib by default assign an increasing number to each newly created figure (starting from 1), which acts like an id for the figure; you can specify a different number upon creation.\n",
        "\n",
        "If you call *figure()* with the number of a figure already existing, you do not create a new one, but rather make that figure the currently active one.\n",
        "\n",
        "The basic command for plotting data in pyplot is **plot()**, which takes as input two arrays of the same size, a format string and a number of keyword arguments for setting the aspect of the plot."
      ]
    },
    {
      "cell_type": "code",
      "metadata": {
        "id": "e3JqiVXk-pQh",
        "colab_type": "code",
        "colab": {}
      },
      "source": [
        "from matplotlib import pyplot as plt\n",
        "import numpy as np\n",
        "\n",
        "# Generate some data\n",
        "x = np.linspace(0., 10., 20)\n",
        "y = 3 * x - 1\n",
        "z = x**2\n",
        "\n",
        "# Create a new (empty) figure.\n",
        "plt.figure()\n",
        "# Let's inspect its number: gcf (get current figure) return the active figure\n",
        "print(plt.gcf().number)\n",
        "\n",
        "# Draw the data points. You can set the line and marker properties using\n",
        "# the format string, or by passing keyword arguments\n",
        "plt.plot(x, y, 'r^', label='staright line') # 'r^' -> red triangle markers\n",
        "plt.plot(x, z, linestyle='dashed', color='blue', marker='o', label='parable')\n",
        "\n",
        "# Matplotlib will adjust the axis range so tht all data points are shown\n",
        "# If you are not happy with that, you can manually set the limits\n",
        "plt.xlim(0., 10.)\n",
        "plt.ylim(0., 100.)\n",
        "\n",
        "# Give a label to the axis\n",
        "plt.xlabel('x')\n",
        "plt.ylabel('f(x)')\n",
        "\n",
        "# Draw the legend (automatically use the label of each plot)\n",
        "plt.legend()\n",
        "\n",
        "# Set the figure title\n",
        "plt.title('My data')\n",
        "\n",
        "# Add a grid on the background\n",
        "plt.grid(True)\n",
        "\n",
        "# Save the figure\n",
        "plt.savefig('data_image.png')\n",
        "\n",
        "# Draw all the figures\n",
        "plt.show()\n",
        " # Show should only be called once at the very end of your program."
      ],
      "execution_count": null,
      "outputs": []
    },
    {
      "cell_type": "code",
      "metadata": {
        "id": "XXZq5lbUcoiu",
        "colab_type": "code",
        "colab": {}
      },
      "source": [
        "# Let's check if the figure is there using a bash command\n",
        "!ls -hl data_image.png\n",
        "# And open it\n",
        "from IPython.display import Image\n",
        "Image('data_image.png')"
      ],
      "execution_count": null,
      "outputs": []
    },
    {
      "cell_type": "markdown",
      "metadata": {
        "id": "6HLB8QpxDkg5",
        "colab_type": "text"
      },
      "source": [
        "You can create a figure with multiple panels using the *subplots()* command.\n",
        "The syntax of subplots is *suplots(rows, columns, panel number)*, where the last argument select the currently active panel."
      ]
    },
    {
      "cell_type": "code",
      "metadata": {
        "id": "uQwIep2NVX67",
        "colab_type": "code",
        "colab": {}
      },
      "source": [
        "from matplotlib import pyplot as plt\n",
        "import numpy as np\n",
        "\n",
        "x = np.linspace(0., 1., 20)\n",
        "# Create a figure divided in 2 x 3 panels and select the first one\n",
        "# We don't need to call figure(), as it is automatically done for us\n",
        "plt.subplot(2, 3, 1)\n",
        "# Draw some data\n",
        "plt.plot(x, np.exp(x), 'b^')\n",
        "# Select different panels and draw something else\n",
        "plt.subplot(2, 3, 5)\n",
        "plt.plot(x, np.sin(x), 'g.')\n",
        "plt.subplot(2, 3, 3)\n",
        "plt.plot(x, np.cos(x), 'k-')\n",
        "# Show\n",
        "plt.show()"
      ],
      "execution_count": null,
      "outputs": []
    },
    {
      "cell_type": "markdown",
      "metadata": {
        "id": "o4BdoL3pY9Ob",
        "colab_type": "text"
      },
      "source": [
        "## Histograms\n",
        "\n",
        "Histograms are a useful kind of data represantation, so it is worth seeing how they can be created and plotted with NumPy + Matplotlib. Histograms are characterized by their bins - that is the division of the x axis, while on the y axis we have the number of values (or entries) falling into that bin."
      ]
    },
    {
      "cell_type": "code",
      "metadata": {
        "id": "HKVvE9XZZQCu",
        "colab_type": "code",
        "colab": {}
      },
      "source": [
        "from matplotlib import pyplot as plt\n",
        "import numpy as np\n",
        "# Generate 5000 random values with gaussian distribution\n",
        "x = np.random.normal(loc=1., scale=2., size=5000)\n",
        "# Automatic binning: we specify the numbe of bins\n",
        "# plt.hist() returns the entries in each bin, the bin edges and the graphical\n",
        "# objects\n",
        "entries, bins, patches = plt.hist(x, bins=15, color='green',\n",
        "                                  edgecolor='none', alpha=0.3)\n",
        "print(bins)\n",
        "print(entries)\n",
        "# We can also manually specify the binning\n",
        "plt.hist(x, bins=np.linspace(-5., 7., 41), histtype='step', color='steelblue')\n",
        "\n",
        "# Always set the axis labels!\n",
        "plt.xlabel('x')\n",
        "plt.ylabel('entries/bin')\n",
        "\n",
        "# Show\n",
        "plt.show()"
      ],
      "execution_count": null,
      "outputs": []
    },
    {
      "cell_type": "code",
      "metadata": {
        "id": "K8qgisSvfp0Y",
        "colab_type": "code",
        "colab": {}
      },
      "source": [
        "# 2d histograms\n",
        "from matplotlib import pyplot as plt\n",
        "import numpy as np\n",
        "\n",
        "# Generate some random data\n",
        "mean = [0, 0]\n",
        "cov = [[1, 1], [1, 2]]\n",
        "x, y = np.random.multivariate_normal(mean, cov, 10000).T\n",
        "\n",
        "# Draw with hist2d\n",
        "plt.hist2d(x, y, bins=30, cmap='Blues')\n",
        "cb = plt.colorbar()\n",
        "cb.set_label('counts in bin')\n",
        "\n",
        "# Show\n",
        "plt.show()"
      ],
      "execution_count": null,
      "outputs": []
    }
  ]
}