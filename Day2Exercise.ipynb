{
  "nbformat": 4,
  "nbformat_minor": 0,
  "metadata": {
    "colab": {
      "name": "Day2Exercise.ipynb",
      "provenance": [],
      "collapsed_sections": [
        "73n5RDSLqd4u",
        "RH7JtLehPZDt",
        "wimLSgbHQmsB",
        "zCoBik9FSDrR",
        "dBafen8OT3Xg",
        "fQkr_a_aUgU-"
      ],
      "authorship_tag": "ABX9TyO6AeTU4MOFiLCmB4lCTvJp",
      "include_colab_link": true
    },
    "kernelspec": {
      "name": "python3",
      "display_name": "Python 3"
    }
  },
  "cells": [
    {
      "cell_type": "markdown",
      "metadata": {
        "id": "view-in-github",
        "colab_type": "text"
      },
      "source": [
        "<a href=\"https://colab.research.google.com/github/albertomanfreda/intensive_school_ml/blob/master/Day2Exercise.ipynb\" target=\"_parent\"><img src=\"https://colab.research.google.com/assets/colab-badge.svg\" alt=\"Open In Colab\"/></a>"
      ]
    },
    {
      "cell_type": "markdown",
      "metadata": {
        "id": "HXow8rrwqLu7",
        "colab_type": "text"
      },
      "source": [
        "# 1 Classes\n",
        "\n",
        "Create Dog class which has the following specification:\n",
        "\n",
        "  * Dogs consume their energy by barking and gain energy by sleeping\n",
        "  * A fresh Dog instance has 3 units of energy\n",
        "  * Dog has a method sleep which gives 2 units of energy\n",
        "  * Dog has a method bark which consumes 1 unit of energy and print an error message if the energy is already at zero.\n",
        "  * Dog has an attrinute energy which represent the amount of energy left"
      ]
    },
    {
      "cell_type": "code",
      "metadata": {
        "id": "NGmxX6EVqTxs",
        "colab_type": "code",
        "colab": {}
      },
      "source": [
        "class Dog:\n",
        "    # Your code here"
      ],
      "execution_count": null,
      "outputs": []
    },
    {
      "cell_type": "code",
      "metadata": {
        "id": "P0nZ5QG4qbC1",
        "colab_type": "code",
        "colab": {}
      },
      "source": [
        "# Test it! (don't forget tp run your code first\n",
        "doge = Dog()\n",
        "assert doge.energy == 3\n",
        "\n",
        "doge.bark()\n",
        "doge.bark()\n",
        "doge.bark()\n",
        "assert doge.energy == 0\n",
        "\n",
        "doge.bark()\n",
        "assert doge.energy == 0\n",
        "\n",
        "doge.sleep()\n",
        "assert doge.energy == 2\n",
        "\n",
        "another_doge = Dog()\n",
        "assert another_doge.energy == 3"
      ],
      "execution_count": null,
      "outputs": []
    },
    {
      "cell_type": "markdown",
      "metadata": {
        "id": "73n5RDSLqd4u",
        "colab_type": "text"
      },
      "source": [
        "## Solution"
      ]
    },
    {
      "cell_type": "code",
      "metadata": {
        "id": "VzGlfufIqfFb",
        "colab_type": "code",
        "colab": {}
      },
      "source": [
        "class Dog:\n",
        "\n",
        "    def __init__(self):\n",
        "        self.energy  = 3\n",
        "\n",
        "    def bark(self):\n",
        "        if self.energy == 0:\n",
        "            print('I cannot bark anymore!')\n",
        "        else:\n",
        "            self.energy -= 1\n",
        "    \n",
        "    def sleep(self):\n",
        "        self.energy += 2"
      ],
      "execution_count": null,
      "outputs": []
    },
    {
      "cell_type": "markdown",
      "metadata": {
        "id": "9kCS7XdYsd1y",
        "colab_type": "text"
      },
      "source": [
        "# 2 \\*args\n",
        "\n",
        "Write a *multiply* function that takes as input an arbitrary sequence of numbers  and an returns their product."
      ]
    },
    {
      "cell_type": "code",
      "metadata": {
        "id": "v4XiDnxMMreU",
        "colab_type": "code",
        "colab": {}
      },
      "source": [
        "# Write the function here\n",
        "\n",
        "assert multiply(1, 2, 3) == 6"
      ],
      "execution_count": null,
      "outputs": []
    },
    {
      "cell_type": "markdown",
      "metadata": {
        "id": "RH7JtLehPZDt",
        "colab_type": "text"
      },
      "source": [
        "## Solution"
      ]
    },
    {
      "cell_type": "code",
      "metadata": {
        "id": "yuOFWPmbPaeo",
        "colab_type": "code",
        "colab": {}
      },
      "source": [
        "def multiply(*args):\n",
        "    \"\"\"\n",
        "    \"\"\"\n",
        "    product = 1\n",
        "    for var in args:\n",
        "        product *= var\n",
        "    return product"
      ],
      "execution_count": null,
      "outputs": []
    },
    {
      "cell_type": "markdown",
      "metadata": {
        "id": "uoM9dJOmPivc",
        "colab_type": "text"
      },
      "source": [
        "# 3 \\*\\*kwargs\n",
        "\n",
        "Write a function *find_password* that takes as input an aribitrary number of keyword arguments and check if among them there is one named 'password'. If there is one, return its content, otherwise return None."
      ]
    },
    {
      "cell_type": "code",
      "metadata": {
        "id": "A5C7lbwoP8ND",
        "colab_type": "code",
        "colab": {}
      },
      "source": [
        "# Write the function here\n",
        "\n",
        "assert find_password(a='a') == None\n",
        "assert find_password(a='a', password='qwerty') == 'qwerty'"
      ],
      "execution_count": null,
      "outputs": []
    },
    {
      "cell_type": "markdown",
      "metadata": {
        "id": "wimLSgbHQmsB",
        "colab_type": "text"
      },
      "source": [
        "## Solution"
      ]
    },
    {
      "cell_type": "code",
      "metadata": {
        "id": "slG1ZKa2Qn99",
        "colab_type": "code",
        "colab": {}
      },
      "source": [
        "def find_password(**kwargs):\n",
        "    if 'password' in kwargs:\n",
        "        return kwargs['password']\n",
        "    else:\n",
        "        return None\n",
        "        \n",
        "# Even better version\n",
        "def find_password(**kwargs):\n",
        "    return kwargs.get('password', None)"
      ],
      "execution_count": null,
      "outputs": []
    },
    {
      "cell_type": "markdown",
      "metadata": {
        "id": "4egs-Hz9ekQF",
        "colab_type": "text"
      },
      "source": [
        "## 4 Numpy - 1\n",
        "\n",
        "Create a 2x3 matrix filled with the number 42."
      ]
    },
    {
      "cell_type": "code",
      "metadata": {
        "id": "j5n9wXrDRXOL",
        "colab_type": "code",
        "colab": {}
      },
      "source": [
        "import numpy as np\n",
        "matrix = None # Replace 'None' with your code\n",
        "\n",
        "assert np.shape == (2,3)\n",
        "assert np.all(matrix == 42)"
      ],
      "execution_count": null,
      "outputs": []
    },
    {
      "cell_type": "markdown",
      "metadata": {
        "id": "zCoBik9FSDrR",
        "colab_type": "text"
      },
      "source": [
        "## Solution"
      ]
    },
    {
      "cell_type": "code",
      "metadata": {
        "id": "aWbiUcaXSBUR",
        "colab_type": "code",
        "colab": {}
      },
      "source": [
        "matrix = np.full((2,3), 42)"
      ],
      "execution_count": null,
      "outputs": []
    },
    {
      "cell_type": "markdown",
      "metadata": {
        "id": "Rr91QeoSRZbb",
        "colab_type": "text"
      },
      "source": [
        "# 5 Numpy - 2\n",
        "\n",
        "Generate a random matrix with shape 5x3 and values unformly distributed between -1 and 1\n",
        "\n",
        "## Hints\n",
        " \n",
        " * Use *np.random.uniform* to generate the numbers. \n",
        " * Since *np.random.uniform* returns only 1d arrays, we need to reshape it to the desired shape "
      ]
    },
    {
      "cell_type": "code",
      "metadata": {
        "id": "eCrr1S-XRfSa",
        "colab_type": "code",
        "colab": {}
      },
      "source": [
        "import numpy as np\n",
        "np.random.seed(1)\n",
        "\n",
        "matrix = None # Replace 'None' with your code\n",
        "\n",
        "assert matrix.shape == (5, 3) "
      ],
      "execution_count": null,
      "outputs": []
    },
    {
      "cell_type": "markdown",
      "metadata": {
        "id": "dBafen8OT3Xg",
        "colab_type": "text"
      },
      "source": [
        "## Solution"
      ]
    },
    {
      "cell_type": "code",
      "metadata": {
        "id": "56-24y2eT4y6",
        "colab_type": "code",
        "colab": {}
      },
      "source": [
        "matrix = np.random.uniform(-1., 1., size=15).reshape((5, 3))"
      ],
      "execution_count": null,
      "outputs": []
    },
    {
      "cell_type": "markdown",
      "metadata": {
        "id": "OdNGRh8RRfkV",
        "colab_type": "text"
      },
      "source": [
        "# 6 Numpy - 3"
      ]
    },
    {
      "cell_type": "markdown",
      "metadata": {
        "id": "BhHDcKQZUXqi",
        "colab_type": "text"
      },
      "source": [
        "Take the matrix from the previous exercise and print only the rows with a mean greater then 0.\n",
        "\n",
        "## Hints \n",
        " * Use the *axis* parameter to compute the mean of the rows. YOu should get a 5x1 arrays as ouput.\n",
        " * Create a mask on the mean values, then apply it to the initial matrix"
      ]
    },
    {
      "cell_type": "code",
      "metadata": {
        "id": "S7nzoBZJRiIv",
        "colab_type": "code",
        "colab": {}
      },
      "source": [
        "# Your codes here"
      ],
      "execution_count": null,
      "outputs": []
    },
    {
      "cell_type": "markdown",
      "metadata": {
        "id": "fQkr_a_aUgU-",
        "colab_type": "text"
      },
      "source": [
        "## Solution"
      ]
    },
    {
      "cell_type": "code",
      "metadata": {
        "id": "CVqi91UgUhu5",
        "colab_type": "code",
        "colab": {}
      },
      "source": [
        "row_mean = matrix.mean(axis=1)\n",
        "mask = row_mean > 0\n",
        "print(matrix[mask])"
      ],
      "execution_count": null,
      "outputs": []
    }
  ]
}