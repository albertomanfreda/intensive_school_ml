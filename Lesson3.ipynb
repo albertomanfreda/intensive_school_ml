{
  "nbformat": 4,
  "nbformat_minor": 0,
  "metadata": {
    "colab": {
      "name": "Lesson3.ipynb",
      "provenance": [],
      "collapsed_sections": [],
      "toc_visible": true,
      "include_colab_link": true
    },
    "kernelspec": {
      "name": "python3",
      "display_name": "Python 3"
    }
  },
  "cells": [
    {
      "cell_type": "markdown",
      "metadata": {
        "id": "view-in-github",
        "colab_type": "text"
      },
      "source": [
        "<a href=\"https://colab.research.google.com/github/albertomanfreda/intensive_school_ml/blob/master/Lesson3.ipynb\" target=\"_parent\"><img src=\"https://colab.research.google.com/assets/colab-badge.svg\" alt=\"Open In Colab\"/></a>"
      ]
    },
    {
      "cell_type": "markdown",
      "metadata": {
        "id": "Nafut5gziym3",
        "colab_type": "text"
      },
      "source": [
        "# Data Structures"
      ]
    },
    {
      "cell_type": "markdown",
      "metadata": {
        "id": "IZ1rva2Ti3YX",
        "colab_type": "text"
      },
      "source": [
        "## Lists\n",
        "\n",
        "A **list** is a powerful data stucture that is able to contain an arbitrary number of elements of any type (and not necessarily of the same type). The syntax to create a list is the follwing:\n",
        "\n",
        "\n",
        "\n",
        "```\n",
        "list_name = [item0, item1, item2, ...]\n",
        "```\n",
        "\n"
      ]
    },
    {
      "cell_type": "code",
      "metadata": {
        "id": "kuBs12kbKqAZ",
        "colab_type": "code",
        "colab": {}
      },
      "source": [
        "my_list = [1, 2, 3., 'a string']"
      ],
      "execution_count": null,
      "outputs": []
    },
    {
      "cell_type": "markdown",
      "metadata": {
        "id": "2MnJMAjj5djF",
        "colab_type": "text"
      },
      "source": [
        "Elements in a list can be individually accessed using the square parenthesis, as in the following eample (this is also called **random access**, though there is nothing actually random involved):"
      ]
    },
    {
      "cell_type": "code",
      "metadata": {
        "id": "rT1CDray5iAF",
        "colab_type": "code",
        "colab": {}
      },
      "source": [
        "my_list = [1, 2, 3., 'a string']\n",
        "# Note: element numbering starts from zero, not one!\n",
        "print(my_list[0], my_list[1], my_list[2], my_list[3])\n",
        "# The index is circular: -1 is the last element, -2 the second-to-last and so on\n",
        "print(my_list[-1], my_list[-2], my_list[-3], my_list[-4])"
      ],
      "execution_count": null,
      "outputs": []
    },
    {
      "cell_type": "markdown",
      "metadata": {
        "id": "m8yG68JCp8ae",
        "colab_type": "text"
      },
      "source": [
        "You can get the number of elemnts currently in a list with the **len** function."
      ]
    },
    {
      "cell_type": "code",
      "metadata": {
        "id": "4-v908SWqDIy",
        "colab_type": "code",
        "colab": {}
      },
      "source": [
        "my_list = [1, 2, 3., 'a string']\n",
        "print(len(my_list))"
      ],
      "execution_count": null,
      "outputs": []
    },
    {
      "cell_type": "markdown",
      "metadata": {
        "id": "OnT1I2gi4eFs",
        "colab_type": "text"
      },
      "source": [
        "Lists in Python are **mutable**, that is they can be changed by adding or removing elements, or by changing the content at one or more of their indices."
      ]
    },
    {
      "cell_type": "code",
      "metadata": {
        "id": "ZpyUmCKK4koI",
        "colab_type": "code",
        "colab": {}
      },
      "source": [
        "my_list = [1, 2., 'a string']\n",
        "\n",
        "# Add an element at the end\n",
        "my_list.append('another_string')\n",
        "print(my_list)\n",
        "\n",
        "# Change the element at index 2\n",
        "my_list[2] = 'a different string' \n",
        "print(my_list)\n",
        "\n",
        "# Insert a new element in position 1\n",
        "my_list.insert(1, 1.5) \n",
        "print(my_list)\n",
        "\n",
        "# Remove the element in second-to-last position\n",
        "# Note: pop() actually returns the deleted element\n",
        "deleted_elem = my_list.pop(-2)\n",
        "print('{} has been deleted from the list'.format(deleted_elem))\n",
        "print(my_list)"
      ],
      "execution_count": null,
      "outputs": []
    },
    {
      "cell_type": "markdown",
      "metadata": {
        "id": "S0_2KSvkL30a",
        "colab_type": "text"
      },
      "source": [
        "You can check if a list contains a given element using **in**:"
      ]
    },
    {
      "cell_type": "code",
      "metadata": {
        "id": "IhYHABiaL9Et",
        "colab_type": "code",
        "colab": {}
      },
      "source": [
        "my_list = [1, 2, 3, 'Alice']\n",
        "print(1 in my_list)\n",
        "if 'Bob' in my_list:\n",
        "    print('Found Bob!')\n",
        "else:\n",
        "    print('Bob not found!')"
      ],
      "execution_count": null,
      "outputs": []
    },
    {
      "cell_type": "markdown",
      "metadata": {
        "id": "eUhOJ1AHr1l2",
        "colab_type": "text"
      },
      "source": [
        "Lists can also be easily sorted (in-place). This, of course, requires that the type of the elements in the list is homogenous enough so that pairs of elements can be compared.\n",
        "\n",
        "Curiosity: the algorithm for list sorting in Python is called *Timsort* (after Tim Peters, which developed it) and it's a very clever and efficient one https://en.wikipedia.org/wiki/Timsort. "
      ]
    },
    {
      "cell_type": "code",
      "metadata": {
        "id": "K7CuwhRLsN8N",
        "colab_type": "code",
        "colab": {}
      },
      "source": [
        "a = [2, 4., 3, 1] # it's ok to mix floats and integers\n",
        "a.sort()\n",
        "print(a)\n",
        "\n",
        "my_list = [1, 2., 'a string'] # it's not ok to compare numbers and strings!\n",
        "my_list.sort()\n",
        "print(my_list)"
      ],
      "execution_count": null,
      "outputs": []
    },
    {
      "cell_type": "markdown",
      "metadata": {
        "id": "WQfSXkxj5k9B",
        "colab_type": "text"
      },
      "source": [
        "### Slices\n",
        "\n",
        "In Python, there is a powerful tool to select a subsamples of a list (and of other data containers): **slices**.\n",
        "\n",
        "**Note**: slices are also a fundamental tool for arrays and tensors manipulation in the numpy library, which is the base of the Python scientific ecosystem.\n",
        "\n",
        "The syntax for slices is:\n",
        "\n",
        "```\n",
        "a_list_slice = a_list[start:end:step]\n",
        "```\n",
        "\n",
        "Which returns a list containing all the elements from the *start* (**included**) to the *end* (**excluded**) in jumps of *step*, in the very same way as the **range** function we have seen before."
      ]
    },
    {
      "cell_type": "code",
      "metadata": {
        "id": "CWUrJOqYnyla",
        "colab_type": "code",
        "colab": {}
      },
      "source": [
        "song_words = ['We', 'all', 'live', 'in', 'a', 'Yellow', 'Submarine']\n",
        "print(song_words[1:4])\n",
        "\n",
        "# Here we set also the step\n",
        "print(song_words[0:5:2])"
      ],
      "execution_count": null,
      "outputs": []
    },
    {
      "cell_type": "code",
      "metadata": {
        "id": "bhAKTdw3u0zd",
        "colab_type": "code",
        "colab": {}
      },
      "source": [
        "song_words = ['We', 'all', 'live', 'in', 'a', 'Yellow', 'Submarine']\n",
        "# Omitting the start argument, the slice will start from the beginning\n",
        "print(song_words[:4])\n",
        "\n",
        "# Omitting the end argument, the slice will end at the end of the list\n",
        "print(song_words[4:])\n",
        "\n",
        "# Omitting both we get the full list\n",
        "print(song_words[:])\n",
        "\n",
        "# And here we get the list reverted\n",
        "print(song_words[::-1])"
      ],
      "execution_count": null,
      "outputs": []
    },
    {
      "cell_type": "markdown",
      "metadata": {
        "id": "SXaCVoYdmSSF",
        "colab_type": "text"
      },
      "source": [
        "You can also create a slice variable first, using the **slice** function, and then apply it to a list afterwards."
      ]
    },
    {
      "cell_type": "code",
      "metadata": {
        "id": "0pmDg2VzmZ9W",
        "colab_type": "code",
        "colab": {}
      },
      "source": [
        "song_words = ['We', 'all', 'live', 'in', 'a', 'Yellow', 'Submarine']\n",
        "my_slice = slice(1, 5, 2)\n",
        "print(song_words[my_slice])"
      ],
      "execution_count": null,
      "outputs": []
    },
    {
      "cell_type": "markdown",
      "metadata": {
        "id": "l0qbUn-kEmmh",
        "colab_type": "text"
      },
      "source": [
        "### For-loop on lists\n",
        "\n",
        "Let's say you want to iterate on a list and do something with each of its elements. You can do it like this:"
      ]
    },
    {
      "cell_type": "code",
      "metadata": {
        "id": "dJgJbqjaE3PB",
        "colab_type": "code",
        "colab": {}
      },
      "source": [
        "alphabet = ['a', 'b', 'c', 'd']\n",
        "for i in range(0, len(alphabet)):\n",
        "    print(alphabet[i])"
      ],
      "execution_count": null,
      "outputs": []
    },
    {
      "cell_type": "markdown",
      "metadata": {
        "id": "lz1mhiiuFGG_",
        "colab_type": "text"
      },
      "source": [
        "However, Python provides a much much expressive way to do the same thing - which you should *always* prefer:\n",
        "\n",
        "```\n",
        "for element in list:\n",
        "    do something\n",
        "```\n",
        "\n"
      ]
    },
    {
      "cell_type": "code",
      "metadata": {
        "id": "ju-9ums5FLPx",
        "colab_type": "code",
        "colab": {}
      },
      "source": [
        "alphabet = ['a', 'b', 'c', 'd']\n",
        "for letter in alphabet:\n",
        "    print(letter)"
      ],
      "execution_count": null,
      "outputs": []
    },
    {
      "cell_type": "markdown",
      "metadata": {
        "id": "5pD6M19rF5UK",
        "colab_type": "text"
      },
      "source": [
        "Any data container that allows you to iterate on its elements like that is called an **iterable**. We will encounter other iterables soon.\n",
        "\n",
        "What of you also need to know the index of the current element?\n",
        "You can do that with the **enumerate** function. The syntax is:\n",
        "\n",
        "\n",
        "```\n",
        "for i, element in enumerate(list):\n",
        "    do_something\n",
        "```\n",
        "\n"
      ]
    },
    {
      "cell_type": "code",
      "metadata": {
        "id": "E6ni-OjmHHL_",
        "colab_type": "code",
        "colab": {}
      },
      "source": [
        "cities = ['Rome', 'Paris', 'London', 'Berlin', 'New York', 'Tokyo', 'Beijing']\n",
        "cities.sort() # alphabetical order\n",
        "print('Cities alphabetically sorted:')\n",
        "for i, city in enumerate(cities):\n",
        "    print('{:d}) {}'.format(i+1, city))\n"
      ],
      "execution_count": null,
      "outputs": []
    },
    {
      "cell_type": "markdown",
      "metadata": {
        "id": "68JjRAFByNj6",
        "colab_type": "text"
      },
      "source": [
        "And what if you want to iterate over two lists at the same time? That's a work for the **zip()** function:"
      ]
    },
    {
      "cell_type": "code",
      "metadata": {
        "id": "zsazfT49yMtF",
        "colab_type": "code",
        "colab": {}
      },
      "source": [
        "alphabet = ['a', 'b', 'c']\n",
        "numbers = [1, 2, 3, 4]\n",
        "# If the lists have different sizes, zip will stop as soon as the shorter ends\n",
        "for letter, number in zip(alphabet, numbers):\n",
        "    print('{} -> {:d}'.format(letter, number))"
      ],
      "execution_count": null,
      "outputs": []
    },
    {
      "cell_type": "markdown",
      "metadata": {
        "id": "e75fcCDczBZQ",
        "colab_type": "text"
      },
      "source": [
        "This works for any pairs of iterables, even of different types, not just two lists."
      ]
    },
    {
      "cell_type": "markdown",
      "metadata": {
        "id": "pbjbeUbycpfP",
        "colab_type": "text"
      },
      "source": [
        "### List comprehension\n",
        "\n",
        "Another syntax for creating a list is the so-called **list comprehension**. It is essentially a **for**-loop inside square parenthesis; the only things that may looks weird at first, is that you use the loop variable *before* writing the actual **for**-statement."
      ]
    },
    {
      "cell_type": "code",
      "metadata": {
        "id": "0FzsBOvlc2Hr",
        "colab_type": "code",
        "colab": {}
      },
      "source": [
        "# Note how 'i' is used before the for statement in which is defined\n",
        "# The trick is to read the statement from right to left!\n",
        "my_list = [i**2 for i in range(10)]\n",
        "print(my_list)"
      ],
      "execution_count": null,
      "outputs": []
    },
    {
      "cell_type": "markdown",
      "metadata": {
        "id": "pJuHvz-2DZSd",
        "colab_type": "text"
      },
      "source": [
        "## Tuples\n",
        "\n",
        "At first look **tuples** are very similar to lists. However they have a major difference: they are **immutable**. That means that a tuple cannot be altered after it was created: you cannot add or remove elements and you cannot change the elements inside it.\n",
        "\n",
        "A tuple is created similarly to a lists, only with round brackets instead of square ones."
      ]
    },
    {
      "cell_type": "code",
      "metadata": {
        "id": "ZnZm05AsJ7dw",
        "colab_type": "code",
        "colab": {}
      },
      "source": [
        "a_tuple = (1, 2, 3., 'a_string')\n",
        "print(a_tuple[0])\n",
        "\n",
        "#Attempting to change an element of a tuple will produce an error\n",
        "a_tuple[0] = 5"
      ],
      "execution_count": null,
      "outputs": []
    },
    {
      "cell_type": "markdown",
      "metadata": {
        "id": "9Fm_sIwAKiwb",
        "colab_type": "text"
      },
      "source": [
        "When creating a tuple of a single element, however, the syntax is slightly different, to avoid possible ambiguities:"
      ]
    },
    {
      "cell_type": "code",
      "metadata": {
        "id": "g_JgfvfxKqdW",
        "colab_type": "code",
        "colab": {}
      },
      "source": [
        "# We need to put a comma even if there are no other elements after that one\n",
        "single_element_tuple = ('a', )"
      ],
      "execution_count": null,
      "outputs": []
    },
    {
      "cell_type": "markdown",
      "metadata": {
        "id": "yGC1MlGrKSvP",
        "colab_type": "text"
      },
      "source": [
        "Tuples are iterables and support slicing just like lists, so all we have said before still applies here."
      ]
    },
    {
      "cell_type": "code",
      "metadata": {
        "id": "MdMGo1dfwuLn",
        "colab_type": "code",
        "colab": {}
      },
      "source": [
        "numbers_tuple = (1, 2, 3, 4, 5)\n",
        "for number in numbers_tuple:\n",
        "    print(number)\n",
        "\n",
        "print(numbers_tuple[1:3])"
      ],
      "execution_count": null,
      "outputs": []
    },
    {
      "cell_type": "markdown",
      "metadata": {
        "colab_type": "text",
        "id": "14-jaQcsIiIh"
      },
      "source": [
        "## Strings - part II\n",
        "\n",
        "While we have already talked of strings in the previous lesson, it is useful to pinpoint that strings too can be seen as a data structure. Much like tuples, they are iterables, support slicing and are **immutable**. In some sense, they are like tuples of characters."
      ]
    },
    {
      "cell_type": "code",
      "metadata": {
        "colab_type": "code",
        "id": "Ea_8KHODIiIj",
        "colab": {}
      },
      "source": [
        "a_string = 'This is a string'\n",
        "\n",
        "print(len(a_string))\n",
        "print(a_string[2])\n",
        "print(a_string[1:-3:2])\n",
        "\n",
        "a_string[2] = 'd'"
      ],
      "execution_count": null,
      "outputs": []
    },
    {
      "cell_type": "markdown",
      "metadata": {
        "id": "8Wrx1TMffhgX",
        "colab_type": "text"
      },
      "source": [
        "## Dictionaries\n",
        "\n",
        "**Dictionaries** are one of the most important Python data structures. Not only they are really powerful and handy to use, but behind the hoods the Python interpreter itself uses dictionaries a lot - in some sense we may say that Python is built around dictionaries. For that reason, the implementation of dictionaries in Python is very efficient. It is based on **hash tables** (https://www.tutorialspoint.com/data_structures_algorithms/hash_data_structure.htm).\n",
        "\n",
        "A dictionary is a table of pairs *key* : *value*, where you use the key to retrieve or modify the value. The key can be any **hashable** type - which basically means any immutable type* - though strings are definitely the most used.\n",
        "\n",
        "*Strictly speaking, hashable is not quite the same as immutable, but for our purposes we may assume it is. Strings and numerical types are all hashables. A tuple is hashable only if all its items are hashable."
      ]
    },
    {
      "cell_type": "code",
      "metadata": {
        "id": "5NgOycgTqTxC",
        "colab_type": "code",
        "colab": {}
      },
      "source": [
        "\"\"\" Dictionary creation. Here both the keywords and the values are strings.\n",
        "Beware of where you need to put braces, colons and commas. Note also my use of\n",
        "indentation and spaces to improve readibility. \"\"\"\n",
        "\n",
        "address_book = {'Sherlock Holmes' : '221B Baker Street, London, U.K.',\n",
        "                'Bruce Wayne'     : '1007 Mountain Drive, Gotham, U.S.A.',\n",
        "                'Clark Kent'      : '1938 Sulivan Ln, Metropolis, U.S.A.'\n",
        "               }\n",
        "\n",
        "# Value retrival by key\n",
        "print(address_book['Bruce Wayne'])"
      ],
      "execution_count": null,
      "outputs": []
    },
    {
      "cell_type": "markdown",
      "metadata": {
        "id": "4nCK5kvZ7EWR",
        "colab_type": "text"
      },
      "source": [
        "Attempting to read a non-existent key generates an error. If you want to prevent that, the **get()** function can be used instead: if the requested key is missing it returns a user-specified default value, if given, or **None**, if not."
      ]
    },
    {
      "cell_type": "code",
      "metadata": {
        "id": "Acur37oS7DxD",
        "colab_type": "code",
        "colab": {}
      },
      "source": [
        "print(address_book.get('Invisible Man'))\n",
        "\n",
        "# get() allows to specify a default value if the key is missing\n",
        "print(address_book.get('Carmen Sandiego', 'Unknown'))\n",
        "\n",
        "# For comparison, let'see how the traditional access method produces an error\n",
        "address_book['Carmen Sandiego']\n",
        "\n"
      ],
      "execution_count": null,
      "outputs": []
    },
    {
      "cell_type": "markdown",
      "metadata": {
        "id": "zX-oJ570qM1L",
        "colab_type": "text"
      },
      "source": [
        "Since dictionary are mutable, you can add or remove keywords, or change the value of existing ones. Something which is sometimes confusing is that the syntax for adding a new keyword is the same as for changing an existing one: just assign to it. If the keyword does not exist, it will be added automatically."
      ]
    },
    {
      "cell_type": "code",
      "metadata": {
        "id": "btCRpjqbCy-S",
        "colab_type": "code",
        "colab": {}
      },
      "source": [
        "# Create a empty dict\n",
        "initally_empty_dict = {}\n",
        "\n",
        "# Add a new keyord\n",
        "initally_empty_dict['new_key'] = 1\n",
        "print(initally_empty_dict)\n",
        "\n",
        "# Change it's value\n",
        "initally_empty_dict['new_key'] = 2\n",
        "print(initally_empty_dict)\n",
        "\n",
        "# Remove it: as for lists, pop() returns the deleted element\n",
        "deleted_value = initally_empty_dict.pop('new_key')\n",
        "print('{} was deleted'.format(deleted_value))\n",
        "print(initally_empty_dict)\n"
      ],
      "execution_count": null,
      "outputs": []
    },
    {
      "cell_type": "markdown",
      "metadata": {
        "id": "pXL1LUM-EIye",
        "colab_type": "text"
      },
      "source": [
        "### Dictionary iteration\n",
        "\n",
        "Dictionary are iterables, that is they support the handy for-loop syntax."
      ]
    },
    {
      "cell_type": "code",
      "metadata": {
        "id": "RlJrr4-zEQ9m",
        "colab_type": "code",
        "colab": {}
      },
      "source": [
        "menu = {'Appetizer'   : 'Fried shrimps',\n",
        "        'Main course' : 'Grilled crab',\n",
        "        'Dessert'     : 'Raspberry cake'}\n",
        "# Usual for syntax\n",
        "for entry in menu:\n",
        "    print('We are serving {} as {}'.format(menu[entry], entry))"
      ],
      "execution_count": null,
      "outputs": []
    },
    {
      "cell_type": "code",
      "metadata": {
        "id": "5_j8U60zK1Pg",
        "colab_type": "code",
        "colab": {}
      },
      "source": [
        "menu = {'Appetizer'   : 'Fried shrimps',\n",
        "        'Main course' : 'Grilled crab',\n",
        "        'Dessert'     : 'Raspberry cake'}\n",
        "        \n",
        "# Event better with items()\n",
        "for entry, dish in menu.items():\n",
        "    print('We are serving {} as {}'.format(menu[entry], entry))"
      ],
      "execution_count": null,
      "outputs": []
    },
    {
      "cell_type": "code",
      "metadata": {
        "id": "TPiMG985K5Pw",
        "colab_type": "code",
        "colab": {}
      },
      "source": [
        "menu = {'Appetizer'   : 'Fried shrimps',\n",
        "        'Main course' : 'Grilled crab',\n",
        "        'Dessert'     : 'Raspberry cake'}\n",
        "\n",
        "# You can also loop directly on the values:\n",
        "print('Our menu today:')\n",
        "for dish in menu.values():\n",
        "    print(dish)"
      ],
      "execution_count": null,
      "outputs": []
    },
    {
      "cell_type": "markdown",
      "metadata": {
        "id": "K3JUqvVP2tj3",
        "colab_type": "text"
      },
      "source": [
        "## Nested iterables\n",
        "\n",
        "An data container can be a member of another one, just like any other variable. For example, you can have a list or a tuple inside another list, or inside a dictionary. To access elements inside the inner container just chian the square parentesys syntax:"
      ]
    },
    {
      "cell_type": "code",
      "metadata": {
        "id": "QEWCrxS83Vo1",
        "colab_type": "code",
        "colab": {}
      },
      "source": [
        "# Define a list\n",
        "inner_list = ['a', 'b', 'c']\n",
        "# Put this list inside and other list\n",
        "outer_list = [1, inner_list, 2]\n",
        "# Access the inner list\n",
        "print(outer_list[1])\n",
        "# Access elements inside the inner list\n",
        "print(outer_list[1][2])"
      ],
      "execution_count": null,
      "outputs": []
    },
    {
      "cell_type": "markdown",
      "metadata": {
        "id": "DdAmnkdx1qMm",
        "colab_type": "text"
      },
      "source": [
        "## A caveat about mutables\n",
        "\n",
        "In Python, assigning a variable to another, **does not copy its value**, it merely adds a second reference (or puts a second tag, if you want) on the same memory space. If the object pointed is a mutable, like a list, or a dictionary, changing the first variable, will change the other as well."
      ]
    },
    {
      "cell_type": "code",
      "metadata": {
        "id": "ijxjL8HU1_ad",
        "colab_type": "code",
        "colab": {}
      },
      "source": [
        "list_1 = [1, 2, 3]\n",
        "list_2 = list_1\n",
        "# list_2 and list_1 are references to the same object in memory!\n",
        "list_1.append(4)\n",
        "# list_2 has changed as well!\n",
        "print(list_2)"
      ],
      "execution_count": null,
      "outputs": []
    }
  ]
}