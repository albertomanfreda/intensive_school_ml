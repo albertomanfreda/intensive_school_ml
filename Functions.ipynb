{
  "nbformat": 4,
  "nbformat_minor": 0,
  "metadata": {
    "colab": {
      "name": "Functions.ipynb",
      "provenance": [],
      "collapsed_sections": [],
      "authorship_tag": "ABX9TyOgvMDREusJo50lecfNYSb2",
      "include_colab_link": true
    },
    "kernelspec": {
      "name": "python3",
      "display_name": "Python 3"
    }
  },
  "cells": [
    {
      "cell_type": "markdown",
      "metadata": {
        "id": "view-in-github",
        "colab_type": "text"
      },
      "source": [
        "<a href=\"https://colab.research.google.com/github/albertomanfreda/intensive_school_ml/blob/master/Functions.ipynb\" target=\"_parent\"><img src=\"https://colab.research.google.com/assets/colab-badge.svg\" alt=\"Open In Colab\"/></a>"
      ]
    },
    {
      "cell_type": "markdown",
      "metadata": {
        "id": "T7cEHtAFL9em",
        "colab_type": "text"
      },
      "source": [
        "# Functions\n",
        "\n",
        "A **function** is basically a block of code that can be written once and then invoked from other places. \n",
        "Functions are one of the most fundamental concepts in programming, as they are the best and most used way to avoid repeating the same lines of code many times throught your program (remember the **DRY** principle).\n",
        "\n",
        "A function may or may not require something as input and may or may not retrun something as output. Functions are created with the **def** statement, and called with the **parenthesis operator** *()*:"
      ]
    },
    {
      "cell_type": "code",
      "metadata": {
        "id": "Y8jCj6ljNOSF",
        "colab_type": "code",
        "colab": {
          "base_uri": "https://localhost:8080/",
          "height": 35
        },
        "outputId": "76926886-7596-44ff-b1a9-1fec6f4f4bd9"
      },
      "source": [
        "# Defining a function with no input, which prints something and return nothing\n",
        "def greetings_function():\n",
        "    print('Hello')\n",
        "\n",
        "# Functions are called with the parenthesis operator ()\n",
        "greetings_function()"
      ],
      "execution_count": 1,
      "outputs": [
        {
          "output_type": "stream",
          "text": [
            "Hello\n"
          ],
          "name": "stdout"
        }
      ]
    },
    {
      "cell_type": "code",
      "metadata": {
        "id": "58hiKP3kNfE3",
        "colab_type": "code",
        "colab": {
          "base_uri": "https://localhost:8080/",
          "height": 35
        },
        "outputId": "e24f2bf4-033f-4620-b4e7-e45fbc1d8e74"
      },
      "source": [
        "# Let's try a function with some input and some output\n",
        "def triangle_area(base, height):\n",
        "    return 0.5 * base * height\n",
        "\n",
        "# The expression after 'return' is assigned to what is left of the '='\n",
        "area = triangle_area(2., 5.)\n",
        "print(area)"
      ],
      "execution_count": 7,
      "outputs": [
        {
          "output_type": "stream",
          "text": [
            "5.0\n"
          ],
          "name": "stdout"
        }
      ]
    }
  ]
}