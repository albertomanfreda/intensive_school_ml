{
  "nbformat": 4,
  "nbformat_minor": 0,
  "metadata": {
    "colab": {
      "name": "Functions.ipynb",
      "provenance": [],
      "collapsed_sections": [],
      "authorship_tag": "ABX9TyNpCdQ4Ggnys2vSoS4Ok6Ap",
      "include_colab_link": true
    },
    "kernelspec": {
      "name": "python3",
      "display_name": "Python 3"
    }
  },
  "cells": [
    {
      "cell_type": "markdown",
      "metadata": {
        "id": "view-in-github",
        "colab_type": "text"
      },
      "source": [
        "<a href=\"https://colab.research.google.com/github/albertomanfreda/intensive_school_ml/blob/master/Functions.ipynb\" target=\"_parent\"><img src=\"https://colab.research.google.com/assets/colab-badge.svg\" alt=\"Open In Colab\"/></a>"
      ]
    },
    {
      "cell_type": "markdown",
      "metadata": {
        "id": "T7cEHtAFL9em",
        "colab_type": "text"
      },
      "source": [
        "# Functions\n",
        "\n",
        "A **function** is basically a block of code that can be written once and then invoked from other places. \n",
        "Functions are one of the most fundamental concepts in programming, as they are the best and most used way to avoid repeating the same lines of code many times throughout your program (remember the **DRY** principle).\n",
        "A function may or may not require something as input and may or may not retrun something as output. \n",
        "\n",
        "In Python, functions are created with the **def** statement, and called with the **parenthesis operator** *()*. The code inside the function is only executed when the function is called, not when it is defined."
      ]
    },
    {
      "cell_type": "code",
      "metadata": {
        "id": "Y8jCj6ljNOSF",
        "colab_type": "code",
        "colab": {
          "base_uri": "https://localhost:8080/",
          "height": 162
        },
        "outputId": "d9cf6f93-8540-47be-ab58-c58da1a6027a"
      },
      "source": [
        "# Defining a function with no input, which prints something and return nothing\n",
        "def demonstrative_function():\n",
        "    \"\"\" This comment after the def statement and before the function body is \n",
        "    called docstring and can be used to document your function. You can take a\n",
        "    look at the docstring of a function with the help() command. \"\"\"\n",
        "    print('This is my first function')\n",
        "\n",
        "# Functions are called with the parenthesis operator ()\n",
        "demonstrative_function()\n",
        "# Let's see the help of this function\n",
        "help(demonstrative_function)"
      ],
      "execution_count": 19,
      "outputs": [
        {
          "output_type": "stream",
          "text": [
            "This is my first function\n",
            "Help on function demonstrative_function in module __main__:\n",
            "\n",
            "demonstrative_function()\n",
            "    This comment after the def statement and before the function body is \n",
            "    called docstring and can be used to document your function. You can take a\n",
            "    look at the docstring of a function with the help() command.\n",
            "\n"
          ],
          "name": "stdout"
        }
      ]
    },
    {
      "cell_type": "code",
      "metadata": {
        "id": "58hiKP3kNfE3",
        "colab_type": "code",
        "colab": {
          "base_uri": "https://localhost:8080/",
          "height": 35
        },
        "outputId": "f1c494cf-79a9-4ded-bffe-a045a5b65f77"
      },
      "source": [
        "# Let's try a function with accept two inputs and some output\n",
        "def triangle_area(base, height):\n",
        "    \"\"\" Function hat computes the area of a triangle given the base and the\n",
        "    height. \"\"\"\n",
        "    return 0.5 * base * height\n",
        "\n",
        "# The expression after 'return' is assigned to what is left of the '='\n",
        "area = triangle_area(2., 5.)\n",
        "print(area)"
      ],
      "execution_count": 20,
      "outputs": [
        {
          "output_type": "stream",
          "text": [
            "5.0\n"
          ],
          "name": "stdout"
        }
      ]
    },
    {
      "cell_type": "markdown",
      "metadata": {
        "id": "ZdyI5ZegPJPy",
        "colab_type": "text"
      },
      "source": [
        "Inputs passed to a function are called **arguments**. The arguments you pass are assigned to the corresponding variable inside the function based on the order in which you pass them - that's why they are also called **positional arguments**. In general, you need to call a function with the exact number of arguments required, otherwise an error will occur. "
      ]
    },
    {
      "cell_type": "code",
      "metadata": {
        "id": "nDDSoY93QfWA",
        "colab_type": "code",
        "colab": {
          "base_uri": "https://localhost:8080/",
          "height": 210
        },
        "outputId": "b19d7fc3-2ee4-4a9e-9115-cfbd79bcb0db"
      },
      "source": [
        "def function_with_two_args(agr1, arg2):\n",
        "    print(arg1)\n",
        "    print(arg2)\n",
        "\n",
        "function_with_two_args(3.)"
      ],
      "execution_count": 10,
      "outputs": [
        {
          "output_type": "error",
          "ename": "TypeError",
          "evalue": "ignored",
          "traceback": [
            "\u001b[0;31m---------------------------------------------------------------------------\u001b[0m",
            "\u001b[0;31mTypeError\u001b[0m                                 Traceback (most recent call last)",
            "\u001b[0;32m<ipython-input-10-58b77782319b>\u001b[0m in \u001b[0;36m<module>\u001b[0;34m()\u001b[0m\n\u001b[1;32m      3\u001b[0m     \u001b[0mprint\u001b[0m\u001b[0;34m(\u001b[0m\u001b[0marg2\u001b[0m\u001b[0;34m)\u001b[0m\u001b[0;34m\u001b[0m\u001b[0;34m\u001b[0m\u001b[0m\n\u001b[1;32m      4\u001b[0m \u001b[0;34m\u001b[0m\u001b[0m\n\u001b[0;32m----> 5\u001b[0;31m \u001b[0mfunction_with_two_args\u001b[0m\u001b[0;34m(\u001b[0m\u001b[0;36m3.\u001b[0m\u001b[0;34m)\u001b[0m\u001b[0;34m\u001b[0m\u001b[0;34m\u001b[0m\u001b[0m\n\u001b[0m",
            "\u001b[0;31mTypeError\u001b[0m: function_with_two_args() missing 1 required positional argument: 'arg2'"
          ]
        }
      ]
    },
    {
      "cell_type": "markdown",
      "metadata": {
        "id": "zitjxl7YRQ_B",
        "colab_type": "text"
      },
      "source": [
        "However, you can specify the name of the argument when calling the function: in that case the order does not matter. These are called **keyword** argument.\n",
        "Keyword arguments and position arguments may be mixed, but keyword arguments must follow positional arguments: the opposite generates an error."
      ]
    },
    {
      "cell_type": "code",
      "metadata": {
        "id": "Zt5h-NhzRYLZ",
        "colab_type": "code",
        "colab": {
          "base_uri": "https://localhost:8080/",
          "height": 90
        },
        "outputId": "66cf7a7a-9292-4205-d065-1f3f818501af"
      },
      "source": [
        "def function_with_two_args(arg1, arg2):\n",
        "    print('arg1 = {}'.format(arg1))\n",
        "    print('arg2 = {}'.format(arg2))\n",
        "\n",
        "var1 = 2.\n",
        "var2 = 'foo'\n",
        "# With keywords the order does not matter\n",
        "function_with_two_args(arg2=var1, arg1=var2)\n",
        "\"\"\" In the following line, however, var1 is assigned positionally to arg1, so\n",
        "the other argument can only be assigned to arg2\"\"\"\n",
        "function_with_two_args(var1, arg2=var2)"
      ],
      "execution_count": 13,
      "outputs": [
        {
          "output_type": "stream",
          "text": [
            "arg1 = foo\n",
            "arg2 = 2.0\n",
            "arg1 = 2.0\n",
            "arg2 = foo\n"
          ],
          "name": "stdout"
        }
      ]
    },
    {
      "cell_type": "code",
      "metadata": {
        "id": "YaoP8s6pWrX6",
        "colab_type": "code",
        "colab": {
          "base_uri": "https://localhost:8080/",
          "height": 137
        },
        "outputId": "360e963a-cce2-4cb3-cc54-95511df96649"
      },
      "source": [
        "# This, instead, is wrong\n",
        "function_with_two_args(arg1=var1, var2)"
      ],
      "execution_count": 14,
      "outputs": [
        {
          "output_type": "error",
          "ename": "SyntaxError",
          "evalue": "ignored",
          "traceback": [
            "\u001b[0;36m  File \u001b[0;32m\"<ipython-input-14-be6d80af4b9e>\"\u001b[0;36m, line \u001b[0;32m2\u001b[0m\n\u001b[0;31m    function_with_two_args(arg1=var1, var2)\u001b[0m\n\u001b[0m                                     ^\u001b[0m\n\u001b[0;31mSyntaxError\u001b[0m\u001b[0;31m:\u001b[0m positional argument follows keyword argument\n"
          ]
        }
      ]
    },
    {
      "cell_type": "markdown",
      "metadata": {
        "id": "VN3Jw4AaQc1B",
        "colab_type": "text"
      },
      "source": [
        "\n",
        "\n",
        "There are two types of argument in Python: required and optional. An optional argument is optional, the "
      ]
    }
  ]
}