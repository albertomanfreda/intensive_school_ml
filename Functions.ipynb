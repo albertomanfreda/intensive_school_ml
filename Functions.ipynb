{
  "nbformat": 4,
  "nbformat_minor": 0,
  "metadata": {
    "colab": {
      "name": "Functions.ipynb",
      "provenance": [],
      "collapsed_sections": [],
      "toc_visible": true,
      "authorship_tag": "ABX9TyPTqgdyGGYW6d0MnUcb+8FW",
      "include_colab_link": true
    },
    "kernelspec": {
      "name": "python3",
      "display_name": "Python 3"
    }
  },
  "cells": [
    {
      "cell_type": "markdown",
      "metadata": {
        "id": "view-in-github",
        "colab_type": "text"
      },
      "source": [
        "<a href=\"https://colab.research.google.com/github/albertomanfreda/intensive_school_ml/blob/master/Functions.ipynb\" target=\"_parent\"><img src=\"https://colab.research.google.com/assets/colab-badge.svg\" alt=\"Open In Colab\"/></a>"
      ]
    },
    {
      "cell_type": "markdown",
      "metadata": {
        "id": "T7cEHtAFL9em",
        "colab_type": "text"
      },
      "source": [
        "# Functions\n",
        "\n",
        "Functions are one of the most fundamental concepts in programming, as they are the best and most used way to avoid repeating the same lines of code many times throughout your program (remember the **DRY** principle).\n",
        "\n",
        "A **function** is basically a block of code that can be written once and then invoked from other places. The code inside the function is only executed when the function is called, not when it is defined.\n",
        "\n",
        "A function may or may not require something as input and may or may not retrun something as output. \n",
        "\n",
        "In Python, functions are created with the **def** statement, followed by the name of the function and the input arguments between round parenthesis. Then after a colon, the function code goes inside an indented block (this kind of syntax should start to look familiar to you). Functions are called with the **parenthesis operator** *()*. \n",
        "\n",
        "To return data from a function the **return** keyword is used."
      ]
    },
    {
      "cell_type": "code",
      "metadata": {
        "id": "Y8jCj6ljNOSF",
        "colab_type": "code",
        "colab": {
          "base_uri": "https://localhost:8080/",
          "height": 162
        },
        "outputId": "d9cf6f93-8540-47be-ab58-c58da1a6027a"
      },
      "source": [
        "# Defining a function with no input, which prints something and return nothing\n",
        "def demonstrative_function():\n",
        "    \"\"\" This comment after the def statement and before the function body is \n",
        "    called docstring and can be used to document your function. You can take a\n",
        "    look at the docstring of a function with the help() command. \"\"\"\n",
        "    print('This is my first function')\n",
        "\n",
        "# Functions are called with the parenthesis operator ()\n",
        "demonstrative_function()\n",
        "# Let's see the help of this function\n",
        "help(demonstrative_function)"
      ],
      "execution_count": 19,
      "outputs": [
        {
          "output_type": "stream",
          "text": [
            "This is my first function\n",
            "Help on function demonstrative_function in module __main__:\n",
            "\n",
            "demonstrative_function()\n",
            "    This comment after the def statement and before the function body is \n",
            "    called docstring and can be used to document your function. You can take a\n",
            "    look at the docstring of a function with the help() command.\n",
            "\n"
          ],
          "name": "stdout"
        }
      ]
    },
    {
      "cell_type": "code",
      "metadata": {
        "id": "58hiKP3kNfE3",
        "colab_type": "code",
        "colab": {
          "base_uri": "https://localhost:8080/",
          "height": 35
        },
        "outputId": "f1c494cf-79a9-4ded-bffe-a045a5b65f77"
      },
      "source": [
        "# Let's define a function which accepts two inputs and returns some output\n",
        "def triangle_area(base, height):\n",
        "    \"\"\" Function hat computes the area of a triangle given the base and the\n",
        "    height. \"\"\"\n",
        "    return 0.5 * base * height\n",
        "\n",
        "# The expression after 'return' is assigned to what is left of the '='\n",
        "area = triangle_area(2., 5.)\n",
        "print(area)"
      ],
      "execution_count": 20,
      "outputs": [
        {
          "output_type": "stream",
          "text": [
            "5.0\n"
          ],
          "name": "stdout"
        }
      ]
    },
    {
      "cell_type": "markdown",
      "metadata": {
        "id": "ZdyI5ZegPJPy",
        "colab_type": "text"
      },
      "source": [
        "## Positional and keyword arguments\n",
        "\n",
        "Inputs passed to a function are called **arguments** or **parameters**. The arguments you pass are assigned to the corresponding variable in the function definition based on their order - that's why they are also called **positional arguments**. In general, you need to call a function with the exact number of arguments required, otherwise an error will occur. "
      ]
    },
    {
      "cell_type": "code",
      "metadata": {
        "id": "nDDSoY93QfWA",
        "colab_type": "code",
        "colab": {
          "base_uri": "https://localhost:8080/",
          "height": 210
        },
        "outputId": "c0f008b3-66c4-4b3e-9627-85c1f05d0182"
      },
      "source": [
        "def function_with_two_args(arg1, arg2):\n",
        "    print(arg1)\n",
        "    print(arg2)\n",
        "\n",
        "# The following line will generate an error\n",
        "function_with_two_args(3.)"
      ],
      "execution_count": 38,
      "outputs": [
        {
          "output_type": "error",
          "ename": "TypeError",
          "evalue": "ignored",
          "traceback": [
            "\u001b[0;31m---------------------------------------------------------------------------\u001b[0m",
            "\u001b[0;31mTypeError\u001b[0m                                 Traceback (most recent call last)",
            "\u001b[0;32m<ipython-input-38-6f37c1f617ec>\u001b[0m in \u001b[0;36m<module>\u001b[0;34m()\u001b[0m\n\u001b[1;32m      4\u001b[0m \u001b[0;34m\u001b[0m\u001b[0m\n\u001b[1;32m      5\u001b[0m \u001b[0;31m# The following line will generate an error\u001b[0m\u001b[0;34m\u001b[0m\u001b[0;34m\u001b[0m\u001b[0;34m\u001b[0m\u001b[0m\n\u001b[0;32m----> 6\u001b[0;31m \u001b[0mfunction_with_two_args\u001b[0m\u001b[0;34m(\u001b[0m\u001b[0;36m3.\u001b[0m\u001b[0;34m)\u001b[0m\u001b[0;34m\u001b[0m\u001b[0;34m\u001b[0m\u001b[0m\n\u001b[0m",
            "\u001b[0;31mTypeError\u001b[0m: function_with_two_args() missing 1 required positional argument: 'arg2'"
          ]
        }
      ]
    },
    {
      "cell_type": "markdown",
      "metadata": {
        "id": "zitjxl7YRQ_B",
        "colab_type": "text"
      },
      "source": [
        "You can also specify the name of the arguments when calling the function: in that case the order does not matter. These are called **keyword** arguments.\n",
        "Keyword arguments and positional arguments may be mixed, but keyword arguments must follow positional ones: the opposite generates an error."
      ]
    },
    {
      "cell_type": "code",
      "metadata": {
        "id": "Zt5h-NhzRYLZ",
        "colab_type": "code",
        "colab": {
          "base_uri": "https://localhost:8080/",
          "height": 90
        },
        "outputId": "66cf7a7a-9292-4205-d065-1f3f818501af"
      },
      "source": [
        "def function_with_two_args(arg1, arg2):\n",
        "    print('arg1 = {}'.format(arg1))\n",
        "    print('arg2 = {}'.format(arg2))\n",
        "\n",
        "var1 = 2.\n",
        "var2 = 'foo'\n",
        "# With keywords the order does not matter\n",
        "function_with_two_args(arg2=var1, arg1=var2)\n",
        "\"\"\" In the following line, however, var1 is assigned positionally to arg1, so\n",
        "the other argument can only be assigned to arg2\"\"\"\n",
        "function_with_two_args(var1, arg2=var2)"
      ],
      "execution_count": 13,
      "outputs": [
        {
          "output_type": "stream",
          "text": [
            "arg1 = foo\n",
            "arg2 = 2.0\n",
            "arg1 = 2.0\n",
            "arg2 = foo\n"
          ],
          "name": "stdout"
        }
      ]
    },
    {
      "cell_type": "code",
      "metadata": {
        "id": "YaoP8s6pWrX6",
        "colab_type": "code",
        "colab": {
          "base_uri": "https://localhost:8080/",
          "height": 137
        },
        "outputId": "e2fb682c-de0c-4e28-e666-8dd42ca93444"
      },
      "source": [
        "# This, instead, is wrong\n",
        "function_with_two_args(arg1=var1, var2)"
      ],
      "execution_count": 22,
      "outputs": [
        {
          "output_type": "error",
          "ename": "SyntaxError",
          "evalue": "ignored",
          "traceback": [
            "\u001b[0;36m  File \u001b[0;32m\"<ipython-input-22-be6d80af4b9e>\"\u001b[0;36m, line \u001b[0;32m2\u001b[0m\n\u001b[0;31m    function_with_two_args(arg1=var1, var2)\u001b[0m\n\u001b[0m                                     ^\u001b[0m\n\u001b[0;31mSyntaxError\u001b[0m\u001b[0;31m:\u001b[0m positional argument follows keyword argument\n"
          ]
        }
      ]
    },
    {
      "cell_type": "markdown",
      "metadata": {
        "id": "Dr7YxvLWY0dG",
        "colab_type": "text"
      },
      "source": [
        "## Default arguments\n",
        "\n",
        "You can also provide a default value for some of your arguments, with a syntax similar to that of keyword arguments. Arguments with a  default value may not be pased when calling the function, and the default value is used instead. This is useful for functions that may want to offer lots of flexibility, while keeping at the same time the verbosity at a reasonable level."
      ]
    },
    {
      "cell_type": "code",
      "metadata": {
        "id": "ZEj2TkzE0f9A",
        "colab_type": "code",
        "colab": {
          "base_uri": "https://localhost:8080/",
          "height": 199
        },
        "outputId": "883363e4-bdef-48ae-ab83-78fce6a73742"
      },
      "source": [
        "def functions_with_default_args(a, b=0, c='default', d='default'):\n",
        "    \"\"\" Showcase functions for default arguments.\"\"\"\n",
        "    print('a = {}'.format(a))\n",
        "    print('b = {}'.format(b))\n",
        "    print('c = {}'.format(c))\n",
        "    print('d = {}\\n'.format(d))\n",
        "\n",
        "# Use default values\n",
        "functions_with_default_args(0)\n",
        "# Overwrite b and d, leave c as default\n",
        "functions_with_default_args(1, 2, d='not default')"
      ],
      "execution_count": 48,
      "outputs": [
        {
          "output_type": "stream",
          "text": [
            "a = 0\n",
            "b = 0\n",
            "c = default\n",
            "d = default\n",
            "\n",
            "a = 1\n",
            "b = 2\n",
            "c = default\n",
            "d = not default\n",
            "\n"
          ],
          "name": "stdout"
        }
      ]
    },
    {
      "cell_type": "markdown",
      "metadata": {
        "id": "YaJF6ULF0sG3",
        "colab_type": "text"
      },
      "source": [
        "## Local variable vs global variables\n",
        "\n",
        "Each variable in Python has a **scope** which is the portion of code where it is visible. A variable defined outside any function is called **global** and is accessible anywhere from your code. Instead, a variable defined inside a function, is **local** and will be visible only inside the function. Once the function call ends, the variable is deleted, and is no longer accessible.\n",
        "\n",
        "Functions in Python have their own **namespace**. While we haven't defined what a namespace is, you can think of it as the portion of code in which a variable name is visible. When you create a variable inside a function, it will be visible only inside the function. Moreover, if there is a global variable with the same name of a local one, it will be shadowed by the local one inside the function."
      ]
    },
    {
      "cell_type": "code",
      "metadata": {
        "id": "e58DGg4r3S0s",
        "colab_type": "code",
        "colab": {
          "base_uri": "https://localhost:8080/",
          "height": 90
        },
        "outputId": "10b31f11-ef26-4c23-d8cc-a8e4b0f262d3"
      },
      "source": [
        "# Global variable\n",
        "a = 1\n",
        "b = 2\n",
        "c = 3\n",
        "\n",
        "# Arguments are local variable\n",
        "def f(b):\n",
        "    \"\"\" Here the argument b will shadow the global variable with the same name.\n",
        "    \"\"\"\n",
        "    a = -1 # this will also shadow the corresponding global variable\n",
        "    print('Inside function')\n",
        "    print('a = {}'.format(a))\n",
        "    print('b = {}'.format(b))\n",
        "    print('c = {}'.format(c)) # c is still the global one\n",
        "\n",
        "# Call the function\n",
        "f(5)"
      ],
      "execution_count": null,
      "outputs": [
        {
          "output_type": "stream",
          "text": [
            "Inside function\n",
            "a = -1\n",
            "b = 5\n",
            "c = 3\n"
          ],
          "name": "stdout"
        }
      ]
    },
    {
      "cell_type": "markdown",
      "metadata": {
        "id": "AYen6Lqz5ldD",
        "colab_type": "text"
      },
      "source": [
        "Note: mutable arguments passed to a function can be changed inside the function. However reassigning a variable has only effect locally."
      ]
    },
    {
      "cell_type": "code",
      "metadata": {
        "id": "hcv0XAGk6hCN",
        "colab_type": "code",
        "colab": {
          "base_uri": "https://localhost:8080/",
          "height": 35
        },
        "outputId": "a68c2360-3991-44ff-cee0-eaf64dacae18"
      },
      "source": [
        "def change_list(input_list):\n",
        "    \"\"\" Append an element to the list which is equal to its first element \"\"\"\n",
        "    # This change will affect the input list even outside the function\n",
        "    input_list.append(input_list[0])\n",
        "    # This, instead, will have no effect outside: we are just repointing the \n",
        "    # local 'input_list' tag to a different memory location.\n",
        "    input_list = ['a', 'b', 'c']\n",
        "\n",
        "# It is perfectly safe to use the same name for global and local variables\n",
        "input_list = [1, 2, 3]\n",
        "change_list(input_list)\n",
        "print(input_list)\n"
      ],
      "execution_count": null,
      "outputs": [
        {
          "output_type": "stream",
          "text": [
            "[1, 2, 3, 1]\n"
          ],
          "name": "stdout"
        }
      ]
    }
  ]
}