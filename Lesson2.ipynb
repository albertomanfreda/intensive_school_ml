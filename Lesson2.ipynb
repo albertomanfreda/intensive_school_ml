{
  "nbformat": 4,
  "nbformat_minor": 0,
  "metadata": {
    "colab": {
      "name": "Lesson2.ipynb",
      "provenance": [],
      "collapsed_sections": [],
      "authorship_tag": "ABX9TyO2XiwgW4ggOspufXeWvpPJ",
      "include_colab_link": true
    },
    "kernelspec": {
      "name": "python3",
      "display_name": "Python 3"
    }
  },
  "cells": [
    {
      "cell_type": "markdown",
      "metadata": {
        "id": "view-in-github",
        "colab_type": "text"
      },
      "source": [
        "<a href=\"https://colab.research.google.com/github/albertomanfreda/intensive_school_ml/blob/master/Lesson2.ipynb\" target=\"_parent\"><img src=\"https://colab.research.google.com/assets/colab-badge.svg\" alt=\"Open In Colab\"/></a>"
      ]
    },
    {
      "cell_type": "markdown",
      "metadata": {
        "id": "i48hNTgrK6w1",
        "colab_type": "text"
      },
      "source": [
        "# Strings"
      ]
    },
    {
      "cell_type": "markdown",
      "metadata": {
        "id": "rO6N29CbK-fV",
        "colab_type": "text"
      },
      "source": [
        "Strings in Python are sequences of characters. They can be easily created by just putting some text inside double or single quotes."
      ]
    },
    {
      "cell_type": "code",
      "metadata": {
        "id": "rg7zLdgBnUfu",
        "colab_type": "code",
        "colab": {}
      },
      "source": [
        "a_string = 'This is a string'\n",
        "another_string = \"This is a string, too\""
      ],
      "execution_count": 1,
      "outputs": []
    },
    {
      "cell_type": "markdown",
      "metadata": {
        "id": "ZuKtSxOExr3F",
        "colab_type": "text"
      },
      "source": [
        "## String formatting\n",
        "\n",
        "There are several different ways to format strings in Python:\n",
        "\n",
        "* The ugly way, just adding pieces with '+'\n",
        "* \"Old-school\" with the *%* operator\n",
        "* With the new *format* syntax introduced in Python3\n",
        "* With the even newer *f-strings* (Python 3.6+), which we won't cover here.\n"
      ]
    },
    {
      "cell_type": "code",
      "metadata": {
        "id": "Nybwd_Ap3Kgx",
        "colab_type": "code",
        "colab": {
          "base_uri": "https://localhost:8080/",
          "height": 35
        },
        "outputId": "d0abc5f6-1990-40cd-c49f-5b06d887342a"
      },
      "source": [
        "# The ugly way: avoid this if you can\n",
        "name = 'Bob'\n",
        "age = 15\n",
        "print('My name is ' + name + ', I am ' + str(age) + ' years old.')"
      ],
      "execution_count": 31,
      "outputs": [
        {
          "output_type": "stream",
          "text": [
            "My name is Bob, I am 15 years old.\n"
          ],
          "name": "stdout"
        }
      ]
    },
    {
      "cell_type": "markdown",
      "metadata": {
        "id": "D03y-FX4zX7U",
        "colab_type": "text"
      },
      "source": [
        "### Old style string formatting"
      ]
    },
    {
      "cell_type": "code",
      "metadata": {
        "id": "lJ1jUfMxzumO",
        "colab_type": "code",
        "colab": {
          "base_uri": "https://localhost:8080/",
          "height": 108
        },
        "outputId": "7f137b0c-9e68-46a0-d1ff-8c62a76a5511"
      },
      "source": [
        "name = 'Bob'\n",
        "greetings = 'Hi, %s!' % name # %s is a placeholder for a string\n",
        "print(greetings)\n",
        "\n",
        "age = 15\n",
        "print('I am %d years old' % age) # %d is the placeholder for an integer\n",
        "\n",
        "pi = 3.1415926535\n",
        "print('%f' % pi) # %f is for floating point numbers\n",
        "print('%.9f' % pi) # You can control the number of decimal digits like this\n",
        "\n",
        "# You can use the % operator to substitute more than one values in a string\n",
        "print('%s is %d years old' % (name, age)) # Note the parenthesis!"
      ],
      "execution_count": 6,
      "outputs": [
        {
          "output_type": "stream",
          "text": [
            "Hi, Bob!\n",
            "I am 15 years old\n",
            "3.141593\n",
            "3.141592654\n",
            "Bob is 15 years old\n"
          ],
          "name": "stdout"
        }
      ]
    },
    {
      "cell_type": "markdown",
      "metadata": {
        "id": "1nt5BwB84b56",
        "colab_type": "text"
      },
      "source": [
        "### New string formatting\n",
        "\n",
        "*  The placeholders are indicated by a *{}*\n",
        "*  Format specifiers are declared inside the placeholder, after a colon\n",
        "*  The *%* operator at the end of the string is replaced by *format* "
      ]
    },
    {
      "cell_type": "code",
      "metadata": {
        "id": "tedSdicd4hZt",
        "colab_type": "code",
        "colab": {
          "base_uri": "https://localhost:8080/",
          "height": 53
        },
        "outputId": "07275a9d-2752-4941-a19d-8ec301ee7ead"
      },
      "source": [
        "print('{} is {:d} years old'.format(name, age))\n",
        "print('{:.6f}'.format(pi))"
      ],
      "execution_count": 12,
      "outputs": [
        {
          "output_type": "stream",
          "text": [
            "Bob is 15 years old\n",
            "3.141593\n"
          ],
          "name": "stdout"
        }
      ]
    },
    {
      "cell_type": "markdown",
      "metadata": {
        "id": "RFjc7q6r5c_w",
        "colab_type": "text"
      },
      "source": [
        "The new syntax may seems slightly less intuitive, but it is also more powerful:\n"
      ]
    },
    {
      "cell_type": "code",
      "metadata": {
        "id": "6oPzKkNNxAA_",
        "colab_type": "code",
        "colab": {
          "base_uri": "https://localhost:8080/",
          "height": 35
        },
        "outputId": "2dfb6037-a7cd-404a-8179-7612bf8e86b2"
      },
      "source": [
        "# We can give names to the placeholders, which helps readibility\n",
        "print('{son} is the son of {mother}'.format(son='Bob', mother='Alice'))"
      ],
      "execution_count": 15,
      "outputs": [
        {
          "output_type": "stream",
          "text": [
            "Bob is the son of Alice\n"
          ],
          "name": "stdout"
        }
      ]
    },
    {
      "cell_type": "code",
      "metadata": {
        "id": "zjW_YKNJ5cmD",
        "colab_type": "code",
        "colab": {
          "base_uri": "https://localhost:8080/",
          "height": 35
        },
        "outputId": "025ab63a-0988-4cbd-b18b-da2118c5035a"
      },
      "source": [
        "# We can also substitute the placeholders later\n",
        "unformatted_string = '{} is the son of {}' # Note how \\ is used to escape the single quote\n",
        "mother = 'Alice'\n",
        "son = 'Bob'\n",
        "print(unformatted_string.format(son, mother))"
      ],
      "execution_count": 14,
      "outputs": [
        {
          "output_type": "stream",
          "text": [
            "Bob is the son of Alice\n"
          ],
          "name": "stdout"
        }
      ]
    },
    {
      "cell_type": "markdown",
      "metadata": {
        "id": "bqwoxkmYySWo",
        "colab_type": "text"
      },
      "source": [
        "Besides the '%' operator Python identifies another special character: the backslash *\\*.\n",
        "\n",
        "This is used essentially for two reasons:\n",
        "\n",
        "1.  Escape other special characters, so that they lose their special meaning an can be actually represented in the string:\n",
        "\n",
        "  * \\\\'  (escaped single quote)\n",
        "\n",
        "  * \\\\\"  (escaped double quote)\n",
        "\n",
        "  * \\\\\\  (escaped backslash)\n",
        "\n",
        "2.  Combine with other characters to create special symbols:\n",
        "  \n",
        "  * \\n \t(New Line)\n",
        "  * \\r \t(Carriage Return)\n",
        "  * \\t \t(Tab)\n",
        "  * others...."
      ]
    },
    {
      "cell_type": "code",
      "metadata": {
        "id": "OguHnens1FZM",
        "colab_type": "code",
        "colab": {
          "base_uri": "https://localhost:8080/",
          "height": 35
        },
        "outputId": "4b310f52-7ca1-473d-be35-2e9866066a10"
      },
      "source": [
        "print('Bob\\'s mother is Alice')"
      ],
      "execution_count": 28,
      "outputs": [
        {
          "output_type": "stream",
          "text": [
            "Bob's mother is Alice\n"
          ],
          "name": "stdout"
        }
      ]
    },
    {
      "cell_type": "code",
      "metadata": {
        "id": "mNbNyw2c1yiW",
        "colab_type": "code",
        "colab": {
          "base_uri": "https://localhost:8080/",
          "height": 53
        },
        "outputId": "7c6a2992-d7cb-4e9b-90b1-17392cb08020"
      },
      "source": [
        "print('Let\\'s start a newline\\n\\tand give it a little shift!')"
      ],
      "execution_count": 29,
      "outputs": [
        {
          "output_type": "stream",
          "text": [
            "Let's start a newline\n",
            "\tand give it a little shift!\n"
          ],
          "name": "stdout"
        }
      ]
    },
    {
      "cell_type": "markdown",
      "metadata": {
        "id": "7jNM-9LvsVzy",
        "colab_type": "text"
      },
      "source": [
        "### Further readings\n",
        "\n",
        "Learning all about the string formatting syntax is way beyond the scope of this course. You can find a useful list of tricks here:\n",
        "\n",
        "https://pyformat.info/#string_pad_align\n",
        "\n",
        "Under the hoods, one of the main changes in the passage bewteen Python 2 and Python 3 is the addition of Unicode support. As a data scientist, it is unlikely that you will need to care about that, but if you are really interested you may take a look at:\n",
        "\n",
        "https://docs.python.org/3/howto/unicode.htm\n",
        "\n",
        "or read chapter 4 of the great book 'Fluent Python' by Luciano Ramalho."
      ]
    },
    {
      "cell_type": "markdown",
      "metadata": {
        "id": "Nafut5gziym3",
        "colab_type": "text"
      },
      "source": [
        "# Data Structures"
      ]
    },
    {
      "cell_type": "markdown",
      "metadata": {
        "id": "IZ1rva2Ti3YX",
        "colab_type": "text"
      },
      "source": [
        "## Lists\n",
        "\n",
        "A **list** is a powerful data strcuture that can contain an arbitrary number of elements of any type (even different between them). The syntax to create a list is the follwings:\n",
        "\n",
        "\n",
        "\n",
        "```\n",
        "list_name = [arg1, arg2, arg3, ...]\n",
        "```\n",
        "\n"
      ]
    },
    {
      "cell_type": "code",
      "metadata": {
        "id": "kuBs12kbKqAZ",
        "colab_type": "code",
        "colab": {}
      },
      "source": [
        "my_list = [1, 2., 'a string']"
      ],
      "execution_count": null,
      "outputs": []
    },
    {
      "cell_type": "markdown",
      "metadata": {
        "id": "2MnJMAjj5djF",
        "colab_type": "text"
      },
      "source": [
        "Elements in a list can be positionally accessed with []"
      ]
    },
    {
      "cell_type": "code",
      "metadata": {
        "id": "rT1CDray5iAF",
        "colab_type": "code",
        "colab": {
          "base_uri": "https://localhost:8080/",
          "height": 53
        },
        "outputId": "20a5ea54-f4fc-449e-9aee-d3ca8aad2df9"
      },
      "source": [
        "# Note: the first element is numbered with zero, not one!\n",
        "print(my_list[0], my_list[1], my_list[2])\n",
        "# The index is circular: -1 is the last element, -2 the second-to-last and so on\n",
        "print(my_list[-1], my_list[-2], my_list[-3])"
      ],
      "execution_count": 39,
      "outputs": [
        {
          "output_type": "stream",
          "text": [
            "1 2.0 a string\n",
            "a string 2.0 1\n"
          ],
          "name": "stdout"
        }
      ]
    },
    {
      "cell_type": "markdown",
      "metadata": {
        "id": "WQfSXkxj5k9B",
        "colab_type": "text"
      },
      "source": [
        "In Python, there is a powerful syntax to access subsamples of a list: **slices**. Note: slices are a fundamental tool for arrays and tensors manipulation in the numpy library, which is the base of the Python scientific ecosystem."
      ]
    },
    {
      "cell_type": "markdown",
      "metadata": {
        "id": "OnT1I2gi4eFs",
        "colab_type": "text"
      },
      "source": [
        "Lists in Python are **mutable**. They can be changed by, e.g. adding elements at the end, or changing the content of one or more of the elements."
      ]
    },
    {
      "cell_type": "code",
      "metadata": {
        "id": "ZpyUmCKK4koI",
        "colab_type": "code",
        "colab": {
          "base_uri": "https://localhost:8080/",
          "height": 35
        },
        "outputId": "a6345cf5-f5e6-43fd-bada-6d6f7a290c5d"
      },
      "source": [
        "my_list.append('another_string')\n",
        "print(my_list)"
      ],
      "execution_count": 35,
      "outputs": [
        {
          "output_type": "stream",
          "text": [
            "[1, 2.0, 'a string', 'another_string']\n"
          ],
          "name": "stdout"
        }
      ]
    }
  ]
}