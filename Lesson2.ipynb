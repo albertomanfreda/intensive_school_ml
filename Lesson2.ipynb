{
  "nbformat": 4,
  "nbformat_minor": 0,
  "metadata": {
    "colab": {
      "name": "Lesson2.ipynb",
      "provenance": [],
      "collapsed_sections": [],
      "authorship_tag": "ABX9TyPzyal3IQtlwg+IXj7mlCKR",
      "include_colab_link": true
    },
    "kernelspec": {
      "name": "python3",
      "display_name": "Python 3"
    }
  },
  "cells": [
    {
      "cell_type": "markdown",
      "metadata": {
        "id": "view-in-github",
        "colab_type": "text"
      },
      "source": [
        "<a href=\"https://colab.research.google.com/github/albertomanfreda/intensive_school_ml/blob/master/Lesson2.ipynb\" target=\"_parent\"><img src=\"https://colab.research.google.com/assets/colab-badge.svg\" alt=\"Open In Colab\"/></a>"
      ]
    },
    {
      "cell_type": "markdown",
      "metadata": {
        "id": "Nafut5gziym3",
        "colab_type": "text"
      },
      "source": [
        "# Data Structures"
      ]
    },
    {
      "cell_type": "markdown",
      "metadata": {
        "id": "IZ1rva2Ti3YX",
        "colab_type": "text"
      },
      "source": [
        "## Lists\n",
        "\n",
        "A **list** is a powerful data stucture that is able to contain an arbitrary number of elements of any type (and not necessarily of the same type). The syntax to create a list is the follwing:\n",
        "\n",
        "\n",
        "\n",
        "```\n",
        "list_name = [item0, item1, item2, ...]\n",
        "```\n",
        "\n"
      ]
    },
    {
      "cell_type": "code",
      "metadata": {
        "id": "kuBs12kbKqAZ",
        "colab_type": "code",
        "colab": {}
      },
      "source": [
        "my_list = [1, 2, 3., 'a string']"
      ],
      "execution_count": 19,
      "outputs": []
    },
    {
      "cell_type": "markdown",
      "metadata": {
        "id": "2MnJMAjj5djF",
        "colab_type": "text"
      },
      "source": [
        "Elements in a list can be individually accessed using the square parenthesis, as in the following eample (this is also called **random access**, though there is nothing actually random involved):"
      ]
    },
    {
      "cell_type": "code",
      "metadata": {
        "id": "rT1CDray5iAF",
        "colab_type": "code",
        "colab": {
          "base_uri": "https://localhost:8080/",
          "height": 53
        },
        "outputId": "52e5f235-719c-4b68-d47a-ad242b3cb9ee"
      },
      "source": [
        "my_list = [1, 2, 3., 'a string']\n",
        "# Note: element numbering starts from zero, not one!\n",
        "print(my_list[0], my_list[1], my_list[2], my_list[3])\n",
        "# The index is circular: -1 is the last element, -2 the second-to-last and so on\n",
        "print(my_list[-1], my_list[-2], my_list[-3], my_list[-4])"
      ],
      "execution_count": 11,
      "outputs": [
        {
          "output_type": "stream",
          "text": [
            "1 2 3.0 a string\n",
            "a string 3.0 2 1\n"
          ],
          "name": "stdout"
        }
      ]
    },
    {
      "cell_type": "markdown",
      "metadata": {
        "id": "m8yG68JCp8ae",
        "colab_type": "text"
      },
      "source": [
        "You can get the number of elemnts currently in a list with the **len** function."
      ]
    },
    {
      "cell_type": "code",
      "metadata": {
        "id": "4-v908SWqDIy",
        "colab_type": "code",
        "colab": {
          "base_uri": "https://localhost:8080/",
          "height": 35
        },
        "outputId": "243c781b-16da-41f5-dc95-e52d3e5d3923"
      },
      "source": [
        "my_list = [1, 2, 3., 'a string']\n",
        "print(len(my_list))"
      ],
      "execution_count": 12,
      "outputs": [
        {
          "output_type": "stream",
          "text": [
            "4\n"
          ],
          "name": "stdout"
        }
      ]
    },
    {
      "cell_type": "markdown",
      "metadata": {
        "id": "OnT1I2gi4eFs",
        "colab_type": "text"
      },
      "source": [
        "Lists in Python are **mutable**, that is they can be changed by adding or removing elements, or by changing the content at one or more of their indices."
      ]
    },
    {
      "cell_type": "code",
      "metadata": {
        "id": "ZpyUmCKK4koI",
        "colab_type": "code",
        "colab": {
          "base_uri": "https://localhost:8080/",
          "height": 90
        },
        "outputId": "b08f3adf-239c-47b2-88e6-aca374632e7a"
      },
      "source": [
        "my_list = [1, 2., 'a string']\n",
        "\n",
        "# Add an element at the end\n",
        "my_list.append('another_string')\n",
        "print(my_list)\n",
        "\n",
        "# Change the element at index 2\n",
        "my_list[2] = 'a different string' \n",
        "print(my_list)\n",
        "\n",
        "# Insert a new element in position 1\n",
        "my_list.insert(1, 1.5) \n",
        "print(my_list)\n",
        "\n",
        "# Remove the element in second-to-last position\n",
        "my_list.pop(-2)\n",
        "print(my_list)"
      ],
      "execution_count": 16,
      "outputs": [
        {
          "output_type": "stream",
          "text": [
            "[1, 2.0, 'a string', 'another_string']\n",
            "[1, 2.0, 'a different string', 'another_string']\n",
            "[1, 1.5, 2.0, 'a different string', 'another_string']\n",
            "[1, 1.5, 2.0, 'another_string']\n"
          ],
          "name": "stdout"
        }
      ]
    },
    {
      "cell_type": "markdown",
      "metadata": {
        "id": "eUhOJ1AHr1l2",
        "colab_type": "text"
      },
      "source": [
        "Lists can also be easily sorted (in-place). This, of course, requires that the type of the elements in the list is homogenous enough so that pairs of elements can be compared.\n",
        "\n",
        "Curiosity: the algorithm for list sorting in Python is called *Timsort* (after Tim Peters, which developed it) and it's a very clever and efficient one https://en.wikipedia.org/wiki/Timsort. "
      ]
    },
    {
      "cell_type": "code",
      "metadata": {
        "id": "K7CuwhRLsN8N",
        "colab_type": "code",
        "colab": {
          "base_uri": "https://localhost:8080/",
          "height": 246
        },
        "outputId": "2ac44a8a-09d8-4bfe-ebf6-416bf26631c6"
      },
      "source": [
        "a = [2, 4., 3, 1] # it's ok to mix floats and integers\n",
        "a.sort()\n",
        "print(a)\n",
        "\n",
        "my_list = [1, 2., 'a string'] # it's not ok to compare numbers and strings!\n",
        "my_list.sort()\n",
        "print(my_list)"
      ],
      "execution_count": 20,
      "outputs": [
        {
          "output_type": "stream",
          "text": [
            "[1, 2, 3, 4.0]\n"
          ],
          "name": "stdout"
        },
        {
          "output_type": "error",
          "ename": "TypeError",
          "evalue": "ignored",
          "traceback": [
            "\u001b[0;31m---------------------------------------------------------------------------\u001b[0m",
            "\u001b[0;31mTypeError\u001b[0m                                 Traceback (most recent call last)",
            "\u001b[0;32m<ipython-input-20-0fb4869ddb1b>\u001b[0m in \u001b[0;36m<module>\u001b[0;34m()\u001b[0m\n\u001b[1;32m      4\u001b[0m \u001b[0;34m\u001b[0m\u001b[0m\n\u001b[1;32m      5\u001b[0m \u001b[0mmy_list\u001b[0m \u001b[0;34m=\u001b[0m \u001b[0;34m[\u001b[0m\u001b[0;36m1\u001b[0m\u001b[0;34m,\u001b[0m \u001b[0;36m2.\u001b[0m\u001b[0;34m,\u001b[0m \u001b[0;34m'a string'\u001b[0m\u001b[0;34m]\u001b[0m \u001b[0;31m# it's not ok to compare numbers and strings!\u001b[0m\u001b[0;34m\u001b[0m\u001b[0;34m\u001b[0m\u001b[0m\n\u001b[0;32m----> 6\u001b[0;31m \u001b[0mmy_list\u001b[0m\u001b[0;34m.\u001b[0m\u001b[0msort\u001b[0m\u001b[0;34m(\u001b[0m\u001b[0;34m)\u001b[0m\u001b[0;34m\u001b[0m\u001b[0;34m\u001b[0m\u001b[0m\n\u001b[0m\u001b[1;32m      7\u001b[0m \u001b[0mprint\u001b[0m\u001b[0;34m(\u001b[0m\u001b[0mmy_list\u001b[0m\u001b[0;34m)\u001b[0m\u001b[0;34m\u001b[0m\u001b[0;34m\u001b[0m\u001b[0m\n",
            "\u001b[0;31mTypeError\u001b[0m: '<' not supported between instances of 'str' and 'float'"
          ]
        }
      ]
    },
    {
      "cell_type": "markdown",
      "metadata": {
        "id": "WQfSXkxj5k9B",
        "colab_type": "text"
      },
      "source": [
        "### Slices\n",
        "\n",
        "In Python, there is a powerful tool to select a subsamples of a list (and of other data containers): **slices**.\n",
        "\n",
        "**Note**: slices are also a fundamental tool for arrays and tensors manipulation in the numpy library, which is the base of the Python scientific ecosystem.\n",
        "\n",
        "The syntax for slices is:\n",
        "\n",
        "```\n",
        "a_list_slice = a_list[start:end:step]\n",
        "```\n",
        "\n",
        "Which returns a list containing all the elements from the *start* (**included**) to the *end* (**excluded**) in jumps of *step*, in the very same way as the **range** function we have seen before."
      ]
    },
    {
      "cell_type": "code",
      "metadata": {
        "id": "CWUrJOqYnyla",
        "colab_type": "code",
        "colab": {
          "base_uri": "https://localhost:8080/",
          "height": 53
        },
        "outputId": "21d42b5e-8f8e-40a7-89e6-98ed5eb67459"
      },
      "source": [
        "song_words = ['We', 'all', 'live', 'in', 'a', 'Yellow', 'Submarine']\n",
        "print(song_words[1:4])\n",
        "\n",
        "# Here we set also the step\n",
        "print(song_words[0:5:2])"
      ],
      "execution_count": 13,
      "outputs": [
        {
          "output_type": "stream",
          "text": [
            "['all', 'live', 'in']\n",
            "['We', 'live', 'a']\n"
          ],
          "name": "stdout"
        }
      ]
    },
    {
      "cell_type": "code",
      "metadata": {
        "id": "bhAKTdw3u0zd",
        "colab_type": "code",
        "colab": {
          "base_uri": "https://localhost:8080/",
          "height": 90
        },
        "outputId": "63136f13-82a4-450c-b482-ec5d49283464"
      },
      "source": [
        "song_words = ['We', 'all', 'live', 'in', 'a', 'Yellow', 'Submarine']\n",
        "# Omitting the start argument, the slice will start from the beginning\n",
        "print(song_words[:4])\n",
        "\n",
        "# Omitting the end argument, the slice will end at the end of the list\n",
        "print(song_words[4:])\n",
        "\n",
        "# Omitting both we get the full list\n",
        "print(song_words[:])\n",
        "\n",
        "# And here we get the list reverted\n",
        "print(song_words[::-1])"
      ],
      "execution_count": 4,
      "outputs": [
        {
          "output_type": "stream",
          "text": [
            "['We', 'all', 'live', 'in']\n",
            "['a', 'Yellow', 'Submarine']\n",
            "['We', 'all', 'live', 'in', 'a', 'Yellow', 'Submarine']\n",
            "['Submarine', 'Yellow', 'a', 'in', 'live', 'all', 'We']\n"
          ],
          "name": "stdout"
        }
      ]
    },
    {
      "cell_type": "markdown",
      "metadata": {
        "id": "SXaCVoYdmSSF",
        "colab_type": "text"
      },
      "source": [
        "You can also create a slice variable first, using the **slice** function, and then apply it to a list afterwards."
      ]
    },
    {
      "cell_type": "code",
      "metadata": {
        "id": "0pmDg2VzmZ9W",
        "colab_type": "code",
        "colab": {
          "base_uri": "https://localhost:8080/",
          "height": 35
        },
        "outputId": "424eb3cc-a568-403c-baac-1976e1a901d6"
      },
      "source": [
        "song_words = ['We', 'all', 'live', 'in', 'a', 'Yellow', 'Submarine']\n",
        "my_slice = slice(1, 5, 2)\n",
        "print(song_words[my_slice])"
      ],
      "execution_count": 8,
      "outputs": [
        {
          "output_type": "stream",
          "text": [
            "['all', 'in']\n"
          ],
          "name": "stdout"
        }
      ]
    },
    {
      "cell_type": "markdown",
      "metadata": {
        "id": "l0qbUn-kEmmh",
        "colab_type": "text"
      },
      "source": [
        "### For-loop on lists\n",
        "\n",
        "Let's say you want to iterate on a list and do something with each of its elements. You can do it like this:"
      ]
    },
    {
      "cell_type": "code",
      "metadata": {
        "id": "dJgJbqjaE3PB",
        "colab_type": "code",
        "colab": {
          "base_uri": "https://localhost:8080/",
          "height": 90
        },
        "outputId": "4c7e4c9d-ce3f-4682-f57b-dfa5dda0fedf"
      },
      "source": [
        "alphabet = ['a', 'b', 'c', 'd']\n",
        "for i in range(0, len(alphabet)):\n",
        "    print(alphabet[i])"
      ],
      "execution_count": 23,
      "outputs": [
        {
          "output_type": "stream",
          "text": [
            "a\n",
            "b\n",
            "c\n",
            "d\n"
          ],
          "name": "stdout"
        }
      ]
    },
    {
      "cell_type": "markdown",
      "metadata": {
        "id": "lz1mhiiuFGG_",
        "colab_type": "text"
      },
      "source": [
        "However, Python provides a much much expressive way to do the same thing - which you should *always* prefer:\n",
        "\n",
        "```\n",
        "for element in list:\n",
        "    do something\n",
        "```\n",
        "\n"
      ]
    },
    {
      "cell_type": "code",
      "metadata": {
        "id": "ju-9ums5FLPx",
        "colab_type": "code",
        "colab": {
          "base_uri": "https://localhost:8080/",
          "height": 90
        },
        "outputId": "ecf93af1-f39f-4353-f8fc-9da91a6c5fe3"
      },
      "source": [
        "alphabet = ['a', 'b', 'c', 'd']\n",
        "for letter in alphabet:\n",
        "    print(letter)"
      ],
      "execution_count": 24,
      "outputs": [
        {
          "output_type": "stream",
          "text": [
            "a\n",
            "b\n",
            "c\n",
            "d\n"
          ],
          "name": "stdout"
        }
      ]
    },
    {
      "cell_type": "markdown",
      "metadata": {
        "id": "5pD6M19rF5UK",
        "colab_type": "text"
      },
      "source": [
        "Any data container that allows you to iterate on its elements like that is called an **iterable**. We will encounter other iterables soon.\n",
        "\n",
        "What of you also need to know the index of the current element?\n",
        "You can do that with the **enumerate** function. The syntax is:\n",
        "\n",
        "\n",
        "```\n",
        "for i, element in enumerate(list):\n",
        "    do_something\n",
        "```\n",
        "\n"
      ]
    },
    {
      "cell_type": "code",
      "metadata": {
        "id": "E6ni-OjmHHL_",
        "colab_type": "code",
        "colab": {
          "base_uri": "https://localhost:8080/",
          "height": 162
        },
        "outputId": "32fb22f5-0538-49ab-a31d-5e27cb194ff7"
      },
      "source": [
        "cities = ['Rome', 'Paris', 'London', 'Berlin', 'New York', 'Tokyo', 'Beijing']\n",
        "cities.sort() # alphabetical order\n",
        "print('Cities alphabetically sorted:')\n",
        "for i, city in enumerate(cities):\n",
        "    print('{:d}) {}'.format(i+1, city))\n"
      ],
      "execution_count": 27,
      "outputs": [
        {
          "output_type": "stream",
          "text": [
            "Cities alphabetically sorted:\n",
            "1) Beijing\n",
            "2) Berlin\n",
            "3) London\n",
            "4) New York\n",
            "5) Paris\n",
            "6) Rome\n",
            "7) Tokyo\n"
          ],
          "name": "stdout"
        }
      ]
    },
    {
      "cell_type": "markdown",
      "metadata": {
        "id": "68JjRAFByNj6",
        "colab_type": "text"
      },
      "source": [
        "And what if you want to iterate over two lists at the same time? That's a work for the **zip()** function:"
      ]
    },
    {
      "cell_type": "code",
      "metadata": {
        "id": "zsazfT49yMtF",
        "colab_type": "code",
        "colab": {
          "base_uri": "https://localhost:8080/",
          "height": 72
        },
        "outputId": "98062a1d-8515-4084-f006-56051bce0787"
      },
      "source": [
        "alphabet = ['a', 'b', 'c']\n",
        "numbers = [1, 2, 3, 4]\n",
        "# If the lists have different size zip will stop as soon as the shorter ends\n",
        "for letter, number in zip(alphabet, numbers):\n",
        "    print('{} -> {:d}'.format(letter, number))"
      ],
      "execution_count": 44,
      "outputs": [
        {
          "output_type": "stream",
          "text": [
            "a -> 1\n",
            "b -> 2\n",
            "c -> 3\n"
          ],
          "name": "stdout"
        }
      ]
    },
    {
      "cell_type": "markdown",
      "metadata": {
        "id": "e75fcCDczBZQ",
        "colab_type": "text"
      },
      "source": [
        "This works for any pairs of iterables, even of different types, not just two lists."
      ]
    },
    {
      "cell_type": "markdown",
      "metadata": {
        "id": "pJuHvz-2DZSd",
        "colab_type": "text"
      },
      "source": [
        "## Tuples\n",
        "\n",
        "At first look **tuples** are very similar to lists. However they have a major difference: they are **immutable**. That means that a tuple cannot be altered after it was created: you cannot add or remove elements and you cannot change the elements inside it.\n",
        "\n",
        "A tuple is created similarly to a lists, only with round brackets."
      ]
    },
    {
      "cell_type": "code",
      "metadata": {
        "id": "ZnZm05AsJ7dw",
        "colab_type": "code",
        "colab": {
          "base_uri": "https://localhost:8080/",
          "height": 228
        },
        "outputId": "99f9b14a-6622-4d85-cbae-51e0aa6da924"
      },
      "source": [
        "a_tuple = (1, 2, 3., 'a_string')\n",
        "print(a_tuple[0])\n",
        "\n",
        "#Attempting to change an element of a tuple will produce an error\n",
        "a_tuple[0] = 5"
      ],
      "execution_count": 30,
      "outputs": [
        {
          "output_type": "stream",
          "text": [
            "1\n"
          ],
          "name": "stdout"
        },
        {
          "output_type": "error",
          "ename": "TypeError",
          "evalue": "ignored",
          "traceback": [
            "\u001b[0;31m---------------------------------------------------------------------------\u001b[0m",
            "\u001b[0;31mTypeError\u001b[0m                                 Traceback (most recent call last)",
            "\u001b[0;32m<ipython-input-30-132feb397fc5>\u001b[0m in \u001b[0;36m<module>\u001b[0;34m()\u001b[0m\n\u001b[1;32m      3\u001b[0m \u001b[0;34m\u001b[0m\u001b[0m\n\u001b[1;32m      4\u001b[0m \u001b[0;31m#Attempting to change an element of a tuple will produce an error\u001b[0m\u001b[0;34m\u001b[0m\u001b[0;34m\u001b[0m\u001b[0;34m\u001b[0m\u001b[0m\n\u001b[0;32m----> 5\u001b[0;31m \u001b[0ma_tuple\u001b[0m\u001b[0;34m[\u001b[0m\u001b[0;36m0\u001b[0m\u001b[0;34m]\u001b[0m \u001b[0;34m=\u001b[0m \u001b[0;36m5\u001b[0m\u001b[0;34m\u001b[0m\u001b[0;34m\u001b[0m\u001b[0m\n\u001b[0m",
            "\u001b[0;31mTypeError\u001b[0m: 'tuple' object does not support item assignment"
          ]
        }
      ]
    },
    {
      "cell_type": "markdown",
      "metadata": {
        "id": "9Fm_sIwAKiwb",
        "colab_type": "text"
      },
      "source": [
        "When creating a tuple of a single element, however, the syntax is slightly different, to avoid possible ambiguities:"
      ]
    },
    {
      "cell_type": "code",
      "metadata": {
        "id": "g_JgfvfxKqdW",
        "colab_type": "code",
        "colab": {}
      },
      "source": [
        "# We need to put a comma even if there are no other elements after that one\n",
        "single_element_tuple = ('a', )"
      ],
      "execution_count": 31,
      "outputs": []
    },
    {
      "cell_type": "markdown",
      "metadata": {
        "id": "yGC1MlGrKSvP",
        "colab_type": "text"
      },
      "source": [
        "Tuples are iterables and support slicing just like lists, so all we said before still applies here."
      ]
    },
    {
      "cell_type": "code",
      "metadata": {
        "id": "MdMGo1dfwuLn",
        "colab_type": "code",
        "colab": {
          "base_uri": "https://localhost:8080/",
          "height": 126
        },
        "outputId": "e7fe7643-e3c8-403e-87c0-7eb4284588d5"
      },
      "source": [
        "numbers_tuple = (1, 2, 3, 4, 5)\n",
        "for number in numbers_tuple:\n",
        "    print(number)\n",
        "\n",
        "print(numbers_tuple[1:3])"
      ],
      "execution_count": 35,
      "outputs": [
        {
          "output_type": "stream",
          "text": [
            "1\n",
            "2\n",
            "3\n",
            "4\n",
            "5\n",
            "(2, 3)\n"
          ],
          "name": "stdout"
        }
      ]
    },
    {
      "cell_type": "markdown",
      "metadata": {
        "id": "i48hNTgrK6w1",
        "colab_type": "text"
      },
      "source": [
        "# Strings"
      ]
    },
    {
      "cell_type": "markdown",
      "metadata": {
        "id": "rO6N29CbK-fV",
        "colab_type": "text"
      },
      "source": [
        "Strings in Python are sequences of characters. They can be easily created by just putting some text inside double or single quotes."
      ]
    },
    {
      "cell_type": "code",
      "metadata": {
        "id": "rg7zLdgBnUfu",
        "colab_type": "code",
        "colab": {}
      },
      "source": [
        "a_string = 'This is a string'\n",
        "another_string = \"This is a string, too\""
      ],
      "execution_count": 1,
      "outputs": []
    },
    {
      "cell_type": "markdown",
      "metadata": {
        "id": "pld5ZWkvwaNR",
        "colab_type": "text"
      },
      "source": [
        "Strings are iterables too and they support slincing. Like tuples, strings are **immutable** (so, in some way, strings are like tuples of characters)."
      ]
    },
    {
      "cell_type": "code",
      "metadata": {
        "id": "5cva7WXgxRh2",
        "colab_type": "code",
        "colab": {
          "base_uri": "https://localhost:8080/",
          "height": 264
        },
        "outputId": "29dca0ed-2532-4c5f-d8e4-aa4f58ff110d"
      },
      "source": [
        "a_string = 'This is a string'\n",
        "\n",
        "print(len(a_string))\n",
        "print(a_string[2])\n",
        "print(a_string[1:-3:2])\n",
        "\n",
        "a_string[2] = 'd'"
      ],
      "execution_count": 43,
      "outputs": [
        {
          "output_type": "stream",
          "text": [
            "16\n",
            "i\n",
            "hsi  t\n"
          ],
          "name": "stdout"
        },
        {
          "output_type": "error",
          "ename": "TypeError",
          "evalue": "ignored",
          "traceback": [
            "\u001b[0;31m---------------------------------------------------------------------------\u001b[0m",
            "\u001b[0;31mTypeError\u001b[0m                                 Traceback (most recent call last)",
            "\u001b[0;32m<ipython-input-43-9d0cb9d393f3>\u001b[0m in \u001b[0;36m<module>\u001b[0;34m()\u001b[0m\n\u001b[1;32m      5\u001b[0m \u001b[0mprint\u001b[0m\u001b[0;34m(\u001b[0m\u001b[0ma_string\u001b[0m\u001b[0;34m[\u001b[0m\u001b[0;36m1\u001b[0m\u001b[0;34m:\u001b[0m\u001b[0;34m-\u001b[0m\u001b[0;36m3\u001b[0m\u001b[0;34m:\u001b[0m\u001b[0;36m2\u001b[0m\u001b[0;34m]\u001b[0m\u001b[0;34m)\u001b[0m\u001b[0;34m\u001b[0m\u001b[0;34m\u001b[0m\u001b[0m\n\u001b[1;32m      6\u001b[0m \u001b[0;34m\u001b[0m\u001b[0m\n\u001b[0;32m----> 7\u001b[0;31m \u001b[0ma_string\u001b[0m\u001b[0;34m[\u001b[0m\u001b[0;36m2\u001b[0m\u001b[0;34m]\u001b[0m \u001b[0;34m=\u001b[0m \u001b[0;34m'd'\u001b[0m\u001b[0;34m\u001b[0m\u001b[0;34m\u001b[0m\u001b[0m\n\u001b[0m",
            "\u001b[0;31mTypeError\u001b[0m: 'str' object does not support item assignment"
          ]
        }
      ]
    },
    {
      "cell_type": "markdown",
      "metadata": {
        "id": "ZuKtSxOExr3F",
        "colab_type": "text"
      },
      "source": [
        "## String formatting\n",
        "\n",
        "There are several different ways to format strings in Python:\n",
        "\n",
        "* The ugly way, just adding pieces with '+'\n",
        "* \"Old-school\" with the *%* operator\n",
        "* With the new *format* syntax introduced in Python3\n",
        "* With the even newer *f-strings* (Python 3.6+), which we won't cover here.\n"
      ]
    },
    {
      "cell_type": "code",
      "metadata": {
        "id": "Nybwd_Ap3Kgx",
        "colab_type": "code",
        "colab": {
          "base_uri": "https://localhost:8080/",
          "height": 35
        },
        "outputId": "d0abc5f6-1990-40cd-c49f-5b06d887342a"
      },
      "source": [
        "# The ugly way: avoid this if you can\n",
        "name = 'Bob'\n",
        "age = 15\n",
        "print('My name is ' + name + ', I am ' + str(age) + ' years old.')"
      ],
      "execution_count": 31,
      "outputs": [
        {
          "output_type": "stream",
          "text": [
            "My name is Bob, I am 15 years old.\n"
          ],
          "name": "stdout"
        }
      ]
    },
    {
      "cell_type": "markdown",
      "metadata": {
        "id": "D03y-FX4zX7U",
        "colab_type": "text"
      },
      "source": [
        "### Old style string formatting"
      ]
    },
    {
      "cell_type": "code",
      "metadata": {
        "id": "lJ1jUfMxzumO",
        "colab_type": "code",
        "colab": {
          "base_uri": "https://localhost:8080/",
          "height": 108
        },
        "outputId": "7f137b0c-9e68-46a0-d1ff-8c62a76a5511"
      },
      "source": [
        "name = 'Bob'\n",
        "greetings = 'Hi, %s!' % name # %s is a placeholder for a string\n",
        "print(greetings)\n",
        "\n",
        "age = 15\n",
        "print('I am %d years old' % age) # %d is the placeholder for an integer\n",
        "\n",
        "pi = 3.1415926535\n",
        "print('%f' % pi) # %f is for floating point numbers\n",
        "print('%.9f' % pi) # You can control the number of decimal digits like this\n",
        "\n",
        "# You can use the % operator to substitute more than one values in a string\n",
        "print('%s is %d years old' % (name, age)) # Note the parenthesis!"
      ],
      "execution_count": 6,
      "outputs": [
        {
          "output_type": "stream",
          "text": [
            "Hi, Bob!\n",
            "I am 15 years old\n",
            "3.141593\n",
            "3.141592654\n",
            "Bob is 15 years old\n"
          ],
          "name": "stdout"
        }
      ]
    },
    {
      "cell_type": "markdown",
      "metadata": {
        "id": "1nt5BwB84b56",
        "colab_type": "text"
      },
      "source": [
        "### New string formatting\n",
        "\n",
        "*  The placeholders are indicated by a *{}*\n",
        "*  Format specifiers are declared inside the placeholder, after a colon\n",
        "*  The *%* operator at the end of the string is replaced by *format* "
      ]
    },
    {
      "cell_type": "code",
      "metadata": {
        "id": "tedSdicd4hZt",
        "colab_type": "code",
        "colab": {
          "base_uri": "https://localhost:8080/",
          "height": 53
        },
        "outputId": "07275a9d-2752-4941-a19d-8ec301ee7ead"
      },
      "source": [
        "print('{} is {:d} years old'.format(name, age))\n",
        "print('{:.6f}'.format(pi))"
      ],
      "execution_count": 12,
      "outputs": [
        {
          "output_type": "stream",
          "text": [
            "Bob is 15 years old\n",
            "3.141593\n"
          ],
          "name": "stdout"
        }
      ]
    },
    {
      "cell_type": "markdown",
      "metadata": {
        "id": "RFjc7q6r5c_w",
        "colab_type": "text"
      },
      "source": [
        "The new syntax may seems slightly less intuitive, but it is also more powerful:\n"
      ]
    },
    {
      "cell_type": "code",
      "metadata": {
        "id": "6oPzKkNNxAA_",
        "colab_type": "code",
        "colab": {
          "base_uri": "https://localhost:8080/",
          "height": 35
        },
        "outputId": "2dfb6037-a7cd-404a-8179-7612bf8e86b2"
      },
      "source": [
        "# We can give names to the placeholders, which helps readibility\n",
        "print('{son} is the son of {mother}'.format(son='Bob', mother='Alice'))"
      ],
      "execution_count": 15,
      "outputs": [
        {
          "output_type": "stream",
          "text": [
            "Bob is the son of Alice\n"
          ],
          "name": "stdout"
        }
      ]
    },
    {
      "cell_type": "code",
      "metadata": {
        "id": "zjW_YKNJ5cmD",
        "colab_type": "code",
        "colab": {
          "base_uri": "https://localhost:8080/",
          "height": 35
        },
        "outputId": "025ab63a-0988-4cbd-b18b-da2118c5035a"
      },
      "source": [
        "# We can also substitute the placeholders later\n",
        "unformatted_string = '{} is the son of {}' # Note how \\ is used to escape the single quote\n",
        "mother = 'Alice'\n",
        "son = 'Bob'\n",
        "print(unformatted_string.format(son, mother))"
      ],
      "execution_count": 14,
      "outputs": [
        {
          "output_type": "stream",
          "text": [
            "Bob is the son of Alice\n"
          ],
          "name": "stdout"
        }
      ]
    },
    {
      "cell_type": "markdown",
      "metadata": {
        "id": "bqwoxkmYySWo",
        "colab_type": "text"
      },
      "source": [
        "Besides the '%' operator Python identifies another special character: the backslash *\\*.\n",
        "\n",
        "This is used essentially for two reasons:\n",
        "\n",
        "1.  Escape other special characters, so that they lose their special meaning an can be actually represented in the string:\n",
        "\n",
        "  * \\\\'  (escaped single quote)\n",
        "\n",
        "  * \\\\\"  (escaped double quote)\n",
        "\n",
        "  * \\\\\\  (escaped backslash)\n",
        "\n",
        "2.  Combine with other characters to create special symbols:\n",
        "  \n",
        "  * \\n \t(New Line)\n",
        "  * \\r \t(Carriage Return)\n",
        "  * \\t \t(Tab)\n",
        "  * others...."
      ]
    },
    {
      "cell_type": "code",
      "metadata": {
        "id": "OguHnens1FZM",
        "colab_type": "code",
        "colab": {
          "base_uri": "https://localhost:8080/",
          "height": 35
        },
        "outputId": "4b310f52-7ca1-473d-be35-2e9866066a10"
      },
      "source": [
        "print('Bob\\'s mother is Alice')"
      ],
      "execution_count": 28,
      "outputs": [
        {
          "output_type": "stream",
          "text": [
            "Bob's mother is Alice\n"
          ],
          "name": "stdout"
        }
      ]
    },
    {
      "cell_type": "code",
      "metadata": {
        "id": "mNbNyw2c1yiW",
        "colab_type": "code",
        "colab": {
          "base_uri": "https://localhost:8080/",
          "height": 53
        },
        "outputId": "7c6a2992-d7cb-4e9b-90b1-17392cb08020"
      },
      "source": [
        "print('Let\\'s start a newline\\n\\tand give it a little shift!')"
      ],
      "execution_count": 29,
      "outputs": [
        {
          "output_type": "stream",
          "text": [
            "Let's start a newline\n",
            "\tand give it a little shift!\n"
          ],
          "name": "stdout"
        }
      ]
    },
    {
      "cell_type": "markdown",
      "metadata": {
        "id": "7jNM-9LvsVzy",
        "colab_type": "text"
      },
      "source": [
        "### Further readings\n",
        "\n",
        "Learning all about the string formatting syntax is way beyond the scope of this course. You can find a useful list of tricks here:\n",
        "\n",
        "https://pyformat.info/#string_pad_align\n",
        "\n",
        "Under the hoods, one of the main changes in the passage bewteen Python 2 and Python 3 is the addition of Unicode support. As a data scientist, it is unlikely that you will need to care about that, but if you are really interested you may take a look at:\n",
        "\n",
        "https://docs.python.org/3/howto/unicode.htm\n",
        "\n",
        "or read chapter 4 of the great book 'Fluent Python' by Luciano Ramalho."
      ]
    }
  ]
}