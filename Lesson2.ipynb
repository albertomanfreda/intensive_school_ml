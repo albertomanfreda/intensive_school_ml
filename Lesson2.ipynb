{
  "nbformat": 4,
  "nbformat_minor": 0,
  "metadata": {
    "colab": {
      "name": "Lesson2.ipynb",
      "provenance": [],
      "collapsed_sections": [],
      "toc_visible": true,
      "authorship_tag": "ABX9TyPTzCJyaV1a/ZZEHUQaL+2X",
      "include_colab_link": true
    },
    "kernelspec": {
      "name": "python3",
      "display_name": "Python 3"
    }
  },
  "cells": [
    {
      "cell_type": "markdown",
      "metadata": {
        "id": "view-in-github",
        "colab_type": "text"
      },
      "source": [
        "<a href=\"https://colab.research.google.com/github/albertomanfreda/intensive_school_ml/blob/master/Lesson2.ipynb\" target=\"_parent\"><img src=\"https://colab.research.google.com/assets/colab-badge.svg\" alt=\"Open In Colab\"/></a>"
      ]
    },
    {
      "cell_type": "markdown",
      "metadata": {
        "colab_type": "text",
        "id": "gBjHXTsOIiIH"
      },
      "source": [
        "# Strings"
      ]
    },
    {
      "cell_type": "markdown",
      "metadata": {
        "colab_type": "text",
        "id": "gEntfR4FIiIO"
      },
      "source": [
        "Strings in Python are sequences of characters. They can be easily created by just putting some text inside double or single quotes."
      ]
    },
    {
      "cell_type": "code",
      "metadata": {
        "colab_type": "code",
        "id": "lrIJ9g5SIiIT",
        "colab": {}
      },
      "source": [
        "a_string = 'This is a string'\n",
        "another_string = \"This is a string, too\""
      ],
      "execution_count": null,
      "outputs": []
    },
    {
      "cell_type": "markdown",
      "metadata": {
        "colab_type": "text",
        "id": "HaC0YLWPIiIv"
      },
      "source": [
        "## String formatting\n",
        "\n",
        "There are several different ways to format strings in Python:\n",
        "\n",
        "* The ugly way, just adding pieces with '+'\n",
        "* \"Old-school\" with the *%* operator\n",
        "* With the new *format* syntax introduced in Python3\n",
        "* With the even newer *f-strings* (Python 3.6+), which we won't cover here.\n"
      ]
    },
    {
      "cell_type": "code",
      "metadata": {
        "colab_type": "code",
        "id": "LOyHJ86aIiIx",
        "colab": {
          "base_uri": "https://localhost:8080/",
          "height": 35
        },
        "outputId": "d0abc5f6-1990-40cd-c49f-5b06d887342a"
      },
      "source": [
        "# The ugly way: avoid this if you can\n",
        "name = 'Bob'\n",
        "age = 15\n",
        "print('My name is ' + name + ', I am ' + str(age) + ' years old.')"
      ],
      "execution_count": null,
      "outputs": [
        {
          "output_type": "stream",
          "text": [
            "My name is Bob, I am 15 years old.\n"
          ],
          "name": "stdout"
        }
      ]
    },
    {
      "cell_type": "markdown",
      "metadata": {
        "colab_type": "text",
        "id": "Ab9p_cnFIiI4"
      },
      "source": [
        "### Old style string formatting"
      ]
    },
    {
      "cell_type": "code",
      "metadata": {
        "colab_type": "code",
        "id": "3ifjgTG7IiI6",
        "colab": {
          "base_uri": "https://localhost:8080/",
          "height": 108
        },
        "outputId": "7f137b0c-9e68-46a0-d1ff-8c62a76a5511"
      },
      "source": [
        "name = 'Bob'\n",
        "greetings = 'Hi, %s!' % name # %s is a placeholder for a string\n",
        "print(greetings)\n",
        "\n",
        "age = 15\n",
        "print('I am %d years old' % age) # %d is the placeholder for an integer\n",
        "\n",
        "pi = 3.1415926535\n",
        "print('%f' % pi) # %f is for floating point numbers\n",
        "print('%.9f' % pi) # You can control the number of decimal digits like this\n",
        "\n",
        "# You can use the % operator to substitute more than one values in a string\n",
        "print('%s is %d years old' % (name, age)) # Note the parenthesis!"
      ],
      "execution_count": null,
      "outputs": [
        {
          "output_type": "stream",
          "text": [
            "Hi, Bob!\n",
            "I am 15 years old\n",
            "3.141593\n",
            "3.141592654\n",
            "Bob is 15 years old\n"
          ],
          "name": "stdout"
        }
      ]
    },
    {
      "cell_type": "markdown",
      "metadata": {
        "colab_type": "text",
        "id": "VRgS1EOgIiJB"
      },
      "source": [
        "### New string formatting\n",
        "\n",
        "*  The placeholders are indicated by a *{}*\n",
        "*  Format specifiers are declared inside the placeholder, after a colon\n",
        "*  The *%* operator at the end of the string is replaced by *format* "
      ]
    },
    {
      "cell_type": "code",
      "metadata": {
        "colab_type": "code",
        "id": "aEJi9tSrIiJC",
        "colab": {
          "base_uri": "https://localhost:8080/",
          "height": 53
        },
        "outputId": "07275a9d-2752-4941-a19d-8ec301ee7ead"
      },
      "source": [
        "print('{} is {:d} years old'.format(name, age))\n",
        "print('{:.6f}'.format(pi))"
      ],
      "execution_count": null,
      "outputs": [
        {
          "output_type": "stream",
          "text": [
            "Bob is 15 years old\n",
            "3.141593\n"
          ],
          "name": "stdout"
        }
      ]
    },
    {
      "cell_type": "markdown",
      "metadata": {
        "colab_type": "text",
        "id": "Pt3Yp-OoIiJI"
      },
      "source": [
        "The new syntax may seems slightly less intuitive, but it is also more powerful:\n"
      ]
    },
    {
      "cell_type": "code",
      "metadata": {
        "colab_type": "code",
        "id": "O_WZX6trIiJJ",
        "colab": {
          "base_uri": "https://localhost:8080/",
          "height": 35
        },
        "outputId": "2dfb6037-a7cd-404a-8179-7612bf8e86b2"
      },
      "source": [
        "# We can give names to the placeholders, which helps readibility\n",
        "print('{son} is the son of {mother}'.format(son='Bob', mother='Alice'))"
      ],
      "execution_count": null,
      "outputs": [
        {
          "output_type": "stream",
          "text": [
            "Bob is the son of Alice\n"
          ],
          "name": "stdout"
        }
      ]
    },
    {
      "cell_type": "code",
      "metadata": {
        "colab_type": "code",
        "id": "Gc5w3BoTIiJQ",
        "colab": {
          "base_uri": "https://localhost:8080/",
          "height": 35
        },
        "outputId": "025ab63a-0988-4cbd-b18b-da2118c5035a"
      },
      "source": [
        "# We can also substitute the placeholders later\n",
        "unformatted_string = '{} is the son of {}' # Note how \\ is used to escape the single quote\n",
        "mother = 'Alice'\n",
        "son = 'Bob'\n",
        "print(unformatted_string.format(son, mother))"
      ],
      "execution_count": null,
      "outputs": [
        {
          "output_type": "stream",
          "text": [
            "Bob is the son of Alice\n"
          ],
          "name": "stdout"
        }
      ]
    },
    {
      "cell_type": "markdown",
      "metadata": {
        "colab_type": "text",
        "id": "rAiIds5dIiJV"
      },
      "source": [
        "Besides the '%' operator, Python identifies another special character: the backslash *\\*.\n",
        "\n",
        "This is used essentially for two reasons:\n",
        "\n",
        "1.  Escape other special characters, so that they lose their special meaning an can be actually represented in the string:\n",
        "\n",
        "  * \\\\'  (escaped single quote)\n",
        "\n",
        "  * \\\\\"  (escaped double quote)\n",
        "\n",
        "  * \\\\\\  (escaped backslash)\n",
        "\n",
        "2.  Combine with other characters to create special symbols:\n",
        "  \n",
        "  * \\n \t(New Line)\n",
        "  * \\r \t(Carriage Return)\n",
        "  * \\t \t(Tab)\n",
        "  * others...."
      ]
    },
    {
      "cell_type": "code",
      "metadata": {
        "colab_type": "code",
        "id": "7yW-EuA-IiJW",
        "colab": {
          "base_uri": "https://localhost:8080/",
          "height": 35
        },
        "outputId": "4b310f52-7ca1-473d-be35-2e9866066a10"
      },
      "source": [
        "print('Bob\\'s mother is Alice')"
      ],
      "execution_count": null,
      "outputs": [
        {
          "output_type": "stream",
          "text": [
            "Bob's mother is Alice\n"
          ],
          "name": "stdout"
        }
      ]
    },
    {
      "cell_type": "code",
      "metadata": {
        "colab_type": "code",
        "id": "8gWi_N6oIiJb",
        "colab": {
          "base_uri": "https://localhost:8080/",
          "height": 53
        },
        "outputId": "7c6a2992-d7cb-4e9b-90b1-17392cb08020"
      },
      "source": [
        "print('Let\\'s start a newline\\n\\tand give it a little shift!')"
      ],
      "execution_count": null,
      "outputs": [
        {
          "output_type": "stream",
          "text": [
            "Let's start a newline\n",
            "\tand give it a little shift!\n"
          ],
          "name": "stdout"
        }
      ]
    },
    {
      "cell_type": "markdown",
      "metadata": {
        "colab_type": "text",
        "id": "u_zxkqcpIiJg"
      },
      "source": [
        "### Further readings\n",
        "\n",
        "Learning all about the string formatting syntax is way beyond the scope of this course. You can find a useful list of tricks here:\n",
        "\n",
        "https://pyformat.info/#string_pad_align\n",
        "\n",
        "Under the hoods, one of the main changes in the passage bewteen Python 2 and Python 3 is the addition of Unicode support. As a data scientist, it is unlikely that you will need to care about that, but if you are really interested you may take a look at:\n",
        "\n",
        "https://docs.python.org/3/howto/unicode.htm\n",
        "\n",
        "or read chapter 4 of the great book 'Fluent Python' by Luciano Ramalho."
      ]
    }
  ]
}