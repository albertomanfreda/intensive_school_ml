{
  "nbformat": 4,
  "nbformat_minor": 0,
  "metadata": {
    "colab": {
      "name": "Lesson2.ipynb",
      "provenance": [],
      "collapsed_sections": [],
      "authorship_tag": "ABX9TyOIz3AqwnTjS/hU9BGlfcCi",
      "include_colab_link": true
    },
    "kernelspec": {
      "name": "python3",
      "display_name": "Python 3"
    }
  },
  "cells": [
    {
      "cell_type": "markdown",
      "metadata": {
        "id": "view-in-github",
        "colab_type": "text"
      },
      "source": [
        "<a href=\"https://colab.research.google.com/github/albertomanfreda/intensive_school_ml/blob/master/Lesson2.ipynb\" target=\"_parent\"><img src=\"https://colab.research.google.com/assets/colab-badge.svg\" alt=\"Open In Colab\"/></a>"
      ]
    },
    {
      "cell_type": "markdown",
      "metadata": {
        "id": "i48hNTgrK6w1",
        "colab_type": "text"
      },
      "source": [
        "# Strings"
      ]
    },
    {
      "cell_type": "markdown",
      "metadata": {
        "id": "rO6N29CbK-fV",
        "colab_type": "text"
      },
      "source": [
        "Strings in Python are sequences of characters. They can be easily created by just putting some text inside double or single quotes."
      ]
    },
    {
      "cell_type": "code",
      "metadata": {
        "id": "rg7zLdgBnUfu",
        "colab_type": "code",
        "colab": {}
      },
      "source": [
        "a_string = 'This is a string'\n",
        "another_string = \"This is a string, too\""
      ],
      "execution_count": 1,
      "outputs": []
    },
    {
      "cell_type": "markdown",
      "metadata": {
        "id": "ZuKtSxOExr3F",
        "colab_type": "text"
      },
      "source": [
        "## String formatting\n",
        "\n",
        "There are three main ways to format strings in Python:\n",
        "\n",
        "* \"Old-school\" with the *%* operator\n",
        "* With the new *format* syntax introduced in Python3\n",
        "* With the even newer *f-strings* (Python 3.6+), which we won't cover here.\n"
      ]
    },
    {
      "cell_type": "markdown",
      "metadata": {
        "id": "D03y-FX4zX7U",
        "colab_type": "text"
      },
      "source": [
        "### Old style string formatting"
      ]
    },
    {
      "cell_type": "code",
      "metadata": {
        "id": "lJ1jUfMxzumO",
        "colab_type": "code",
        "colab": {
          "base_uri": "https://localhost:8080/",
          "height": 108
        },
        "outputId": "7f137b0c-9e68-46a0-d1ff-8c62a76a5511"
      },
      "source": [
        "name = 'Bob'\n",
        "greetings = 'Hi, %s!' % name # %s is a placeholder for a string\n",
        "print(greetings)\n",
        "\n",
        "age = 15\n",
        "print('I am %d years old' % age) # %d is the placeholder for an integer\n",
        "\n",
        "pi = 3.1415926535\n",
        "print('%f' % pi) # %f is for floating point numbers\n",
        "print('%.9f' % pi) # You can control the number of decimal digits like this\n",
        "\n",
        "# You can use the % operator to substitute more than one values in a string\n",
        "print('%s is %d years old' % (name, age)) # Note the parenthesis!"
      ],
      "execution_count": 6,
      "outputs": [
        {
          "output_type": "stream",
          "text": [
            "Hi, Bob!\n",
            "I am 15 years old\n",
            "3.141593\n",
            "3.141592654\n",
            "Bob is 15 years old\n"
          ],
          "name": "stdout"
        }
      ]
    },
    {
      "cell_type": "markdown",
      "metadata": {
        "id": "1nt5BwB84b56",
        "colab_type": "text"
      },
      "source": [
        "### New string formatting\n",
        "\n",
        "*  The placeholders are indicated by a *{}*\n",
        "*  Format specifiers are declared inside the placeholder, after a colon\n",
        "*  The *%* operator at the end of the string is replaced by *format* "
      ]
    },
    {
      "cell_type": "code",
      "metadata": {
        "id": "tedSdicd4hZt",
        "colab_type": "code",
        "colab": {
          "base_uri": "https://localhost:8080/",
          "height": 53
        },
        "outputId": "f53d917b-4fc3-40e8-f898-36b3918a9467"
      },
      "source": [
        "print('{} is {:d} years old'.format(name, age))\n",
        "print('{:.6f}'.format(pi))"
      ],
      "execution_count": 7,
      "outputs": [
        {
          "output_type": "stream",
          "text": [
            "Bob is 15 years old\n",
            "3.141593\n"
          ],
          "name": "stdout"
        }
      ]
    },
    {
      "cell_type": "markdown",
      "metadata": {
        "id": "RFjc7q6r5c_w",
        "colab_type": "text"
      },
      "source": [
        "The new syntax may seems slightly less intuitive, but it is also more powerful:\n"
      ]
    },
    {
      "cell_type": "code",
      "metadata": {
        "id": "zjW_YKNJ5cmD",
        "colab_type": "code",
        "colab": {
          "base_uri": "https://localhost:8080/",
          "height": 35
        },
        "outputId": "0ecc1491-329f-4e27-bd13-8ced45f44e4d"
      },
      "source": [
        "# We can substitute the placeholder later\n",
        "unformatted_string = '{} is the son of {}' # Note how \\ is used to escape the single quote\n",
        "mother = 'Alice'\n",
        "son = 'Bob'\n",
        "unformatted_string.format(son, mother)"
      ],
      "execution_count": 9,
      "outputs": [
        {
          "output_type": "execute_result",
          "data": {
            "application/vnd.google.colaboratory.intrinsic+json": {
              "type": "string"
            },
            "text/plain": [
              "'Bob is the son of Alice'"
            ]
          },
          "metadata": {
            "tags": []
          },
          "execution_count": 9
        }
      ]
    },
    {
      "cell_type": "code",
      "metadata": {
        "id": "6oPzKkNNxAA_",
        "colab_type": "code",
        "colab": {
          "base_uri": "https://localhost:8080/",
          "height": 35
        },
        "outputId": "55a18d88-44f2-429c-90e1-57a20e55cc24"
      },
      "source": [
        "# We can give names to the placeholder, which helps readibility\n",
        "'{son} is the son of {mother}'.format(son='Bob', mother='Alice') "
      ],
      "execution_count": 8,
      "outputs": [
        {
          "output_type": "execute_result",
          "data": {
            "application/vnd.google.colaboratory.intrinsic+json": {
              "type": "string"
            },
            "text/plain": [
              "'Bob is the son of Alice'"
            ]
          },
          "metadata": {
            "tags": []
          },
          "execution_count": 8
        }
      ]
    },
    {
      "cell_type": "markdown",
      "metadata": {
        "id": "bqwoxkmYySWo",
        "colab_type": "text"
      },
      "source": [
        "Besides *%* Python identifies another special character: the backslash *\\*.\n",
        "\n",
        "This is used essentially for two reasons:\n",
        "\n",
        "1.  Escape other special characters, so that they lose their special meaning an can be actually represented in the string:\n",
        "\n",
        "  \\\\'  (escaped single quote)\n",
        "\n",
        "  \\\\\"  (escaped double quote)\n",
        "\n",
        "  \\\\\\  (escaped backslash)\n",
        "\n",
        "2.  Combine with other characters to create special symbols:\n",
        "  \n",
        "  \\n \tNew Line \t\n",
        "  \\r \tCarriage Return \t\n",
        "  \\t \tTab \t\n",
        "  \\b \tBackspace \t\n",
        "  \\f \tForm Feed \t\n",
        "  \\ooo \tOctal value \t\n",
        "  \\xhh \tHex value"
      ]
    },
    {
      "cell_type": "markdown",
      "metadata": {
        "id": "7jNM-9LvsVzy",
        "colab_type": "text"
      },
      "source": [
        "Learning all about the string formatting syntax is beyond the scope of this course. You can find a useful list of tricks here:\n",
        "\n",
        "https://pyformat.info/#string_pad_align\n",
        "\n",
        "Under the hoods, one of the main changes in the passage bewteen Python 2 and Python 3 is the addition of Unicode support. As a data scientist, it is unlikely that you will need to care about that, but if you are really interested you may take a look at:\n",
        "\n",
        "https://docs.python.org/3/howto/unicode.htm\n",
        "\n",
        "or read chapter 4 of the great book 'Fluent Python' by Luciano Ramalho."
      ]
    },
    {
      "cell_type": "markdown",
      "metadata": {
        "id": "Nafut5gziym3",
        "colab_type": "text"
      },
      "source": [
        "# Data Structures"
      ]
    },
    {
      "cell_type": "markdown",
      "metadata": {
        "id": "IZ1rva2Ti3YX",
        "colab_type": "text"
      },
      "source": [
        "## Lists\n",
        "\n",
        "A **list** is a powerful data strcuture that can contain an arbitrary number of elements of any type (even different between them). The syntax to create a list is one of the follwings:"
      ]
    },
    {
      "cell_type": "code",
      "metadata": {
        "id": "kuBs12kbKqAZ",
        "colab_type": "code",
        "colab": {}
      },
      "source": [
        "example_list = [1, 2., 'a string']"
      ],
      "execution_count": null,
      "outputs": []
    }
  ]
}