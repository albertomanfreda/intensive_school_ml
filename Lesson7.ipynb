{
  "nbformat": 4,
  "nbformat_minor": 0,
  "metadata": {
    "colab": {
      "name": "Lesson7.ipynb",
      "provenance": [],
      "collapsed_sections": [],
      "authorship_tag": "ABX9TyP3PEJDkWjzqmRK5stqggdH",
      "include_colab_link": true
    },
    "kernelspec": {
      "name": "python3",
      "display_name": "Python 3"
    }
  },
  "cells": [
    {
      "cell_type": "markdown",
      "metadata": {
        "id": "view-in-github",
        "colab_type": "text"
      },
      "source": [
        "<a href=\"https://colab.research.google.com/github/albertomanfreda/intensive_school_ml/blob/master/Lesson7.ipynb\" target=\"_parent\"><img src=\"https://colab.research.google.com/assets/colab-badge.svg\" alt=\"Open In Colab\"/></a>"
      ]
    },
    {
      "cell_type": "markdown",
      "metadata": {
        "id": "IvnfCWVE79_A",
        "colab_type": "text"
      },
      "source": [
        "# Classes and objects\n",
        "\n",
        "We have already seen that there are several different types of variables in Python. We have also seen that some of them, besides containing data, are able to perform operations as well, usually through the **dot** (.) operator."
      ]
    },
    {
      "cell_type": "code",
      "metadata": {
        "id": "rRKzJFoh77xo",
        "colab_type": "code",
        "colab": {}
      },
      "source": [
        "my_list = [1., 2., 3]\n",
        "my_list.append(4.)\n",
        "print(my_list)\n",
        "\n",
        "my_string = 'AAAAa'\n",
        "another_string = my_string.replace('A', 'B')\n",
        "print(another_string)"
      ],
      "execution_count": null,
      "outputs": []
    },
    {
      "cell_type": "markdown",
      "metadata": {
        "id": "tRN_NrB38rQB",
        "colab_type": "text"
      },
      "source": [
        "We may say that such variables, like lists, shows a form of **behaviour**. A code entity that has both data and behaviour is called an **object**. All objects of the same type, e.g. all the lists, belong to the same **class**. An object of a class is also called an **instance** of that class. In Python, the distinction between a type and a class (which is relevant in other languages) is rather subtle, because **everything in Python is an object** and thus **every type is also a class**. Even simple integers are actually objects.\n",
        "\n",
        "Designing the code around classes is called **Object Oriented Programming** (OOP). You don't need to adopt OOP to use Python, just as we have done until now. In fact, mastering OOP requires quite some time and effort. However, it is useful to knows at least the basic facts."
      ]
    },
    {
      "cell_type": "markdown",
      "metadata": {
        "id": "TtfUExbC-if3",
        "colab_type": "text"
      },
      "source": [
        "## Attributes, methods and members\n",
        "\n",
        "Variables defined inside a class are called **class attributes**. Functions that are defined inside a class (like the *append* function for lists) are called **class methods**. Attributes and methods are also both generically referred to as **class members**. \n",
        "\n",
        "Class members (methods and attributes alike) are accessed through the *dot* (.) operator."
      ]
    },
    {
      "cell_type": "code",
      "metadata": {
        "id": "_rmnPsolG0jz",
        "colab_type": "code",
        "colab": {}
      },
      "source": [
        "# Create an empty tuple\n",
        "t = ()\n",
        "# Print one of its attributes: __doc__ (a documentation string)\n",
        "print(t.__doc__)"
      ],
      "execution_count": null,
      "outputs": []
    },
    {
      "cell_type": "markdown",
      "metadata": {
        "id": "t9hotWozJMOW",
        "colab_type": "text"
      },
      "source": [
        "## Define a custom class\n",
        "\n",
        "Besides the built-in types, we can define our own classes. A class definition is a blueprint for creating objects of that class. Like for function definition, no code is actually executed when we define a class, but only when we instanciate an object of that calss. \n",
        "\n",
        "A class is defined with the **class** keyword, followed by an indented block"
      ]
    },
    {
      "cell_type": "code",
      "metadata": {
        "id": "p3Xn27UQJfLi",
        "colab_type": "code",
        "colab": {}
      },
      "source": [
        "class Car:\n",
        "    \"\"\" class representing a car \"\"\"\n",
        "\n",
        "    # Let's define a method\n",
        "    def drive(self, number_of_km):\n",
        "        \"\"\" Drive the car\"\"\"\n",
        "        print('Driving the car for {} km!'.format(number_of_km))\n",
        "\n",
        "# Now we can create objects of the Car class\n",
        "my_car = Car()\n",
        "print(type(my_car))\n",
        "\n",
        "# We access class methods with the dot operator\n",
        "my_car.drive(100)"
      ],
      "execution_count": null,
      "outputs": []
    },
    {
      "cell_type": "markdown",
      "metadata": {
        "id": "xGaz9bOYKUdK",
        "colab_type": "text"
      },
      "source": [
        "You may have noticed the *self* argument in the method *drive()*. Every method of a class receives automatically the current instance as its first argument (the reason will be clear to you in a moment). You don't have to pass this argument explicitly when calling the method: it is added automatically for you by the Python intepreter. \n",
        "\n",
        "Actually, *self* is just a conventional name. You can use whatever name you want, what matters is that the first argument of a class method is always reserved for the current instance."
      ]
    },
    {
      "cell_type": "markdown",
      "metadata": {
        "id": "PS3jaosPgK9R",
        "colab_type": "text"
      },
      "source": [
        "### Class constructor\n",
        "\n",
        "What about class attributes? They are usually defined inside a special class method, which is called **constructor**. This is not mandatory: you can define a class attribute anywhere in the body of the class. However, defining them in the constructor is a good practice.\n",
        "\n",
        "The constructor is the *\\_\\_init\\_\\_* method. Class methods with name enclosed in double underscore are special in Python. They are called **dunder methods** (or magic methods, or special methods) and are a fundamental tool for creating classes. However, we will limit the discussion to the constructor during this brief overview.\n",
        "\n",
        "The constructor is autmoatically called whenever a class is created, and it is used for initialization.\n",
        "\n",
        "Let's add a costructor and an attribute to our *Car* class."
      ]
    },
    {
      "cell_type": "code",
      "metadata": {
        "id": "1dCyZBdOhG0J",
        "colab_type": "code",
        "colab": {}
      },
      "source": [
        "class Car:\n",
        "    \"\"\" class representing a car \"\"\"\n",
        "\n",
        "    # Class constructor\n",
        "    def __init__(self, model):\n",
        "        # Define a class attribute and assign the constructor argument to it\n",
        "        self.model = model\n",
        "\n",
        "    def drive(self, number_of_km):\n",
        "        \"\"\" Drive the car\"\"\"\n",
        "        # Class attributes are visible inside the class methods through self\n",
        "        print('Driving our {} for {} km!'.format(self.model, number_of_km))\n",
        "\n",
        "# Create an instance of the Car class\n",
        "# Here we are basically calling the constructor method, so we need to match\n",
        "# its argument list. One argument is self, so we need to pass the other.\n",
        "my_car = Car('Toyota')\n",
        "print(my_car.model)\n",
        "\n",
        "my_car.drive(100)"
      ],
      "execution_count": null,
      "outputs": []
    },
    {
      "cell_type": "markdown",
      "metadata": {
        "id": "6q6GmW35of0g",
        "colab_type": "text"
      },
      "source": [
        "We can inspect the class members using *dir()*. Note that a good number of special methods are added by default by the Python interpreter."
      ]
    },
    {
      "cell_type": "code",
      "metadata": {
        "id": "HfYDzqJHoqiQ",
        "colab_type": "code",
        "colab": {}
      },
      "source": [
        "# Print the list of members of my_car \n",
        "for item in dir(my_car):\n",
        "    print(item)\n"
      ],
      "execution_count": null,
      "outputs": []
    },
    {
      "cell_type": "markdown",
      "metadata": {
        "id": "9Eoj13N7pNNG",
        "colab_type": "text"
      },
      "source": [
        "## Inheritance\n",
        "\n",
        "A class can be inherit from another one. *Inherit* means that all the members oare available also in the new class. Inheritance is a technique for extending, or specializing the functionalities of a class. \n",
        "\n",
        "The new class is called **child class** or **sublcass**. The initial class is called **parent class** or **base class**."
      ]
    },
    {
      "cell_type": "code",
      "metadata": {
        "id": "QG53LGIixH7h",
        "colab_type": "code",
        "colab": {}
      },
      "source": [
        "# Base class\n",
        "class Person:\n",
        "\n",
        "    # Constructor\n",
        "    def __init__(self, person_name, person_age):\n",
        "        self.name = person_name\n",
        "        self.age = person_age\n",
        "\n",
        "    # defining class methods\n",
        "\n",
        "    def show_name(self):\n",
        "        print(self.name)\n",
        "\n",
        "    def show_age(self):\n",
        "        print(self.age)\n",
        "\n",
        "\n",
        "# Child class\n",
        "class Student(Person):\n",
        "\n",
        "    def __init__(self, student_name, student_age, student_id):\n",
        "        Person.__init__(self, student_name, student_age)\n",
        "        self.student_id = student_id\n",
        "\n",
        "    def show_id(self):\n",
        "        print(self.student_id)\n",
        "\n",
        "# Create an object of the child class\n",
        "student = Student(\"Max\", 22, \"102\")\n",
        "# We get the old functionalities \n",
        "student.show_name()\n",
        "# As well as the new one\n",
        "student.show_id()\n",
        "\n"
      ],
      "execution_count": null,
      "outputs": []
    }
  ]
}